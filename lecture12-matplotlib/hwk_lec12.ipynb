{
 "cells": [
  {
   "cell_type": "code",
   "execution_count": null,
   "metadata": {},
   "outputs": [],
   "source": [
    "import numpy as np\n",
    "import matplotlib.pyplot as plt"
   ]
  },
  {
   "cell_type": "markdown",
   "metadata": {},
   "source": [
    "# Problem 1"
   ]
  },
  {
   "cell_type": "markdown",
   "metadata": {},
   "source": [
    "### Set the vector x and y to be random ndarray of shape (50,) and do plot(x,y,'o'). Explain the picture that you are seeing."
   ]
  },
  {
   "cell_type": "code",
   "execution_count": null,
   "metadata": {},
   "outputs": [],
   "source": [
    "# COMPLETE"
   ]
  },
  {
   "cell_type": "markdown",
   "metadata": {},
   "source": [
    "# Problem 2\n",
    "\n",
    "### plot $f(x) = x \\log(x)$ on $[0.01,1.5]$. Use a very small step size."
   ]
  },
  {
   "cell_type": "code",
   "execution_count": null,
   "metadata": {},
   "outputs": [],
   "source": [
    "# COMPLETE"
   ]
  },
  {
   "cell_type": "markdown",
   "metadata": {},
   "source": [
    "# Problem 3\n",
    "\n",
    "### Plot the logistic curve $$ \\frac{1}{1+e^{- \\alpha x}}   $$\n",
    "### for $\\alpha =1$, $\\alpha=2$ and $\\alpha=10$ on the same plot on the interval $[-4,4]$.\n",
    "### Include the legend."
   ]
  },
  {
   "cell_type": "code",
   "execution_count": null,
   "metadata": {},
   "outputs": [],
   "source": [
    "# COMPLETE"
   ]
  },
  {
   "cell_type": "markdown",
   "metadata": {},
   "source": [
    "# Problem 4: \n",
    "### Solve the following system with scipy\n",
    "\\begin{align}\n",
    "&4x + 2y = 1 \\\\\n",
    "&3x + 4y = 12\n",
    "\\end{align}\n",
    "### The above system can obvioulsy be written as $Ax=b$. Once you have solved it,  check that you got the correct solution by computing  $Ax$ and checking that it is indeed equal to $b$."
   ]
  },
  {
   "cell_type": "code",
   "execution_count": null,
   "metadata": {},
   "outputs": [],
   "source": [
    "# COMPLETE"
   ]
  },
  {
   "cell_type": "markdown",
   "metadata": {},
   "source": [
    "# Problem 5\n",
    "\n",
    "### Use numpy to compute:\n",
    "\n",
    "\n",
    "$$\n",
    "\\begin{bmatrix}\n",
    "1&2&3 \\\\\n",
    "2&2&2 \\\\\n",
    "3& 0 & 0\n",
    "\\end{bmatrix} \\otimes\n",
    "\\begin{bmatrix}\n",
    "1&1&1 \\\\\n",
    "2&2&2 \\\\\n",
    "1 & 2 &3\n",
    "\\end{bmatrix} = \n",
    "$$\n",
    "\n",
    "$$\n",
    "\\begin{bmatrix}\n",
    "1&2&3 \\\\\n",
    "2&2&2 \\\\\n",
    "3& 0 & 0\n",
    "\\end{bmatrix} \n",
    "\\begin{bmatrix}\n",
    "1&1&1 \\\\\n",
    "2&2&2 \\\\\n",
    "1 & 2 &3\n",
    "\\end{bmatrix} = \n",
    "$$\n",
    "\n",
    "\n"
   ]
  },
  {
   "cell_type": "code",
   "execution_count": null,
   "metadata": {},
   "outputs": [],
   "source": [
    "# COMPLETE"
   ]
  },
  {
   "cell_type": "markdown",
   "metadata": {},
   "source": [
    "# Problem 6\n",
    "\n",
    "### Solve the following system:\n",
    "$$\n",
    "\\begin{bmatrix}\n",
    "1&2&3 \\\\\n",
    "2&2&0 \\\\\n",
    "3& 0 & 0\n",
    "\\end{bmatrix}\n",
    "\\begin{bmatrix}\n",
    "x_0 \\\\\n",
    "x_1 \\\\\n",
    "x_2\n",
    "\\end{bmatrix}\n",
    "=\n",
    "\\begin{bmatrix}\n",
    "1 \\\\\n",
    "2 \\\\\n",
    "3\n",
    "\\end{bmatrix}\n",
    "$$\n",
    "### The result is a little weird, can you explain?"
   ]
  },
  {
   "cell_type": "code",
   "execution_count": null,
   "metadata": {},
   "outputs": [],
   "source": [
    "# COMPLETE"
   ]
  }
 ],
 "metadata": {
  "kernelspec": {
   "display_name": "Python 3",
   "language": "python",
   "name": "python3"
  },
  "language_info": {
   "codemirror_mode": {
    "name": "ipython",
    "version": 3
   },
   "file_extension": ".py",
   "mimetype": "text/x-python",
   "name": "python",
   "nbconvert_exporter": "python",
   "pygments_lexer": "ipython3",
   "version": "3.7.6"
  }
 },
 "nbformat": 4,
 "nbformat_minor": 4
}
