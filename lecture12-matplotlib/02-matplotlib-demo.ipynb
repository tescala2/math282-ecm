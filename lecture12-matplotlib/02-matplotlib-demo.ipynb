{
 "cells": [
  {
   "cell_type": "markdown",
   "metadata": {},
   "source": [
    "# Ploting data points"
   ]
  },
  {
   "cell_type": "markdown",
   "metadata": {},
   "source": [
    "### Suppose you want to plot the following 5 points in the plane:\n",
    "\\begin{align}\n",
    "(0,10) \\\\\n",
    "(0.5,9) \\\\\n",
    "(1,8) \\\\\n",
    "(1.5, 9) \\\\\n",
    "(2,10)\n",
    "\\end{align}\n",
    "\n",
    "### To do this put the x-coordinates and y-coordinates in two separate vectors\n",
    "\n",
    "$$\n",
    "x=\\begin{bmatrix}\n",
    "0 \\;\\;\\, \\\\ 0.5 \\\\ 1\\;\\;\\, \\\\1.5 \\\\ 2\\;\\;\\,\n",
    "\\end{bmatrix}\n",
    "\\quad y=\\begin{bmatrix}\n",
    "10 \\\\ 9 \\\\ 8 \\\\ 9 \\\\ 10\n",
    "\\end{bmatrix}\n",
    "$$\n",
    "\n",
    "### Then you simply do plot(x,y,'o')\n"
   ]
  },
  {
   "cell_type": "code",
   "execution_count": null,
   "metadata": {},
   "outputs": [],
   "source": [
    "import numpy as np\n",
    "import matplotlib.pyplot as plt"
   ]
  },
  {
   "cell_type": "code",
   "execution_count": null,
   "metadata": {},
   "outputs": [],
   "source": [
    "x = np.array([0,0.5,1,1.5,2])\n",
    "y = np.array([10,9,8,9,10])\n",
    "print(x)\n",
    "print(y)"
   ]
  },
  {
   "cell_type": "code",
   "execution_count": null,
   "metadata": {},
   "outputs": [],
   "source": [
    "plt.plot(x,y,'o')\n",
    "plt.show()  # You must call plt.show() to make graphics appear."
   ]
  },
  {
   "cell_type": "markdown",
   "metadata": {},
   "source": [
    "### You can try different markers, such as '+' or 'x'. If you don't put any marker the point will be connected. Sometimes you want both, in which case you do, for example 'o-'"
   ]
  },
  {
   "cell_type": "code",
   "execution_count": null,
   "metadata": {},
   "outputs": [],
   "source": [
    "plt.plot(x,y)\n",
    "plt.show()  "
   ]
  },
  {
   "cell_type": "code",
   "execution_count": null,
   "metadata": {},
   "outputs": [],
   "source": [
    "plt.plot(x,y,'o-')\n",
    "plt.show()  "
   ]
  },
  {
   "cell_type": "markdown",
   "metadata": {},
   "source": [
    "# Potting a function f(x) on the interval [0,7]"
   ]
  },
  {
   "cell_type": "markdown",
   "metadata": {},
   "source": [
    "### The idea is to plot the points\n",
    "\\begin{align}\n",
    "\\Big(&0.0\\;,\\;f(0.0)\\Big) \\\\\n",
    "\\Big(&0.1\\;,\\;f(0.1)\\Big) \\\\\n",
    "\\Big(&0.2\\;,\\;f(0.2)\\Big) \\\\\n",
    "&\\vdots\n",
    "\\\\ \n",
    "\\Big(&6.8\\;,\\; f(6.8)\\Big) \\\\\n",
    "\\Big(&6.9\\;,\\; f(6.9) \\Big) \\\\ \n",
    "\\Big(&7.0\\;,\\; f(7.0)\\Big)\n",
    "\\end{align}\n",
    "\n",
    "\n",
    "### So you want the vectors x and y to be:\n",
    "$$\n",
    "x=\\begin{bmatrix}\n",
    "0.0 \\\\ 0.1 \\\\ 0.2   \\\\ \\vdots  \\\\ 6.8 \\\\ 6.9 \\\\ 7.0\n",
    "\\end{bmatrix}\n",
    "\\quad y=\\begin{bmatrix}\n",
    "f(0.0) \\\\ f(0.1) \\\\ f(0.2) \\\\   \\vdots \\\\  f(6.8) \\\\ f(6.9) \\\\ f(7.0)\n",
    "\\end{bmatrix} \\qquad \n",
    "$$\n"
   ]
  },
  {
   "cell_type": "markdown",
   "metadata": {},
   "source": [
    "### First we create the vector x with linspace or arange\n",
    "\n",
    "https://docs.scipy.org/doc/numpy/reference/generated/numpy.linspace.html#numpy.linspace\n",
    "https://docs.scipy.org/doc/numpy/reference/generated/numpy.arange.html"
   ]
  },
  {
   "cell_type": "code",
   "execution_count": null,
   "metadata": {},
   "outputs": [],
   "source": [
    "x = np.linspace(0,7,71)\n",
    "x"
   ]
  },
  {
   "cell_type": "code",
   "execution_count": null,
   "metadata": {},
   "outputs": [],
   "source": [
    "x = np.arange(0,7,0.1)\n",
    "x"
   ]
  },
  {
   "cell_type": "markdown",
   "metadata": {},
   "source": [
    "### Then we use vectorized function to compute the vector y. For example, if we want to plot $f(x)=\\sin(x)$:"
   ]
  },
  {
   "cell_type": "code",
   "execution_count": null,
   "metadata": {},
   "outputs": [],
   "source": [
    "y = np.sin(x)\n",
    "y"
   ]
  },
  {
   "cell_type": "markdown",
   "metadata": {},
   "source": [
    "### Check that the 2 vectors x and y have the same number of entries"
   ]
  },
  {
   "cell_type": "code",
   "execution_count": null,
   "metadata": {},
   "outputs": [],
   "source": [
    "print(x.shape)\n",
    "print(y.shape)"
   ]
  },
  {
   "cell_type": "markdown",
   "metadata": {},
   "source": [
    "### Now do the plot"
   ]
  },
  {
   "cell_type": "code",
   "execution_count": null,
   "metadata": {},
   "outputs": [],
   "source": [
    "plt.plot(x,y,'o')\n",
    "plt.show()"
   ]
  },
  {
   "cell_type": "markdown",
   "metadata": {},
   "source": [
    "### If you want more precision you do this:"
   ]
  },
  {
   "cell_type": "code",
   "execution_count": null,
   "metadata": {},
   "outputs": [],
   "source": [
    "x = np.arange(0,7,.001)\n",
    "y = np.sin(x)"
   ]
  },
  {
   "cell_type": "code",
   "execution_count": null,
   "metadata": {},
   "outputs": [],
   "source": [
    "x.shape"
   ]
  },
  {
   "cell_type": "code",
   "execution_count": null,
   "metadata": {},
   "outputs": [],
   "source": [
    "plt.plot(x,y,'o')\n",
    "plt.show()"
   ]
  },
  {
   "cell_type": "code",
   "execution_count": null,
   "metadata": {},
   "outputs": [],
   "source": [
    "plt.plot(x,y)\n",
    "plt.show()"
   ]
  },
  {
   "cell_type": "code",
   "execution_count": null,
   "metadata": {},
   "outputs": [],
   "source": []
  }
 ],
 "metadata": {
  "kernelspec": {
   "display_name": "Python 3",
   "language": "python",
   "name": "python3"
  },
  "language_info": {
   "codemirror_mode": {
    "name": "ipython",
    "version": 3
   },
   "file_extension": ".py",
   "mimetype": "text/x-python",
   "name": "python",
   "nbconvert_exporter": "python",
   "pygments_lexer": "ipython3",
   "version": "3.7.6"
  }
 },
 "nbformat": 4,
 "nbformat_minor": 4
}
