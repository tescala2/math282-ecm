{
 "cells": [
  {
   "cell_type": "code",
   "execution_count": null,
   "metadata": {},
   "outputs": [],
   "source": [
    "import numpy as np\n",
    "import matplotlib.pyplot as plt\n",
    "from mpl_toolkits.mplot3d import Axes3D\n",
    "from scipy import linalg"
   ]
  },
  {
   "cell_type": "markdown",
   "metadata": {},
   "source": [
    "# Exercise 1"
   ]
  },
  {
   "cell_type": "markdown",
   "metadata": {},
   "source": [
    "### a) Plot the quadratic\n",
    "### $$\n",
    "f(x,y) = \\frac{1}{2} (4x^2-2xy+8y^2)+5x - 9y\n",
    "$$\n",
    "### with contour and contourf. "
   ]
  },
  {
   "cell_type": "code",
   "execution_count": null,
   "metadata": {},
   "outputs": [],
   "source": [
    "# complete"
   ]
  },
  {
   "cell_type": "markdown",
   "metadata": {},
   "source": [
    "### b) Solve the linear system\n",
    "\\begin{align*}\n",
    "&\\frac{\\partial f}{\\partial x}(x,y) = 0 \\\\\n",
    "&\\frac{\\partial f}{\\partial y}(x,y) = 0 \n",
    "\\end{align*}"
   ]
  },
  {
   "cell_type": "markdown",
   "metadata": {},
   "source": [
    "# Exercise 2"
   ]
  },
  {
   "cell_type": "markdown",
   "metadata": {},
   "source": [
    "### Consider the two quadratic functions:\n",
    "$$\n",
    "f(x) = (Ax) \\cdot x \\qquad g(x) = (Bx) \\cdot x\n",
    "$$\n",
    "where\n",
    "$$\n",
    "A = \\begin{bmatrix}\n",
    "5 & 1\\\\\n",
    "1 & -5\n",
    "\\end{bmatrix}\n",
    "\\qquad\n",
    "B = \\begin{bmatrix}\n",
    "-5 & -1\\\\\n",
    "-1 & -5\n",
    "\\end{bmatrix}\n",
    "$$"
   ]
  },
  {
   "cell_type": "markdown",
   "metadata": {},
   "source": [
    "### a) use linalg.eigvals() to find the eigenvalues of $A$ and $B$"
   ]
  },
  {
   "cell_type": "code",
   "execution_count": null,
   "metadata": {},
   "outputs": [],
   "source": [
    "# complete"
   ]
  },
  {
   "cell_type": "markdown",
   "metadata": {},
   "source": [
    "### b)  Expand these two functions and write them as\n",
    "### $$\n",
    "a x^2 + bxy + cy^2\n",
    "$$\n",
    "### then plot them on $-5\\le x \\le 5$ and $-5\\le y \\le 5$ with contour(). You will see that the quadratic that has both positive and negative eigenvalues gives you a saddle."
   ]
  },
  {
   "cell_type": "code",
   "execution_count": null,
   "metadata": {},
   "outputs": [],
   "source": [
    "# complete"
   ]
  },
  {
   "cell_type": "markdown",
   "metadata": {},
   "source": [
    "### c) Plot $f(x,y)$ and $g(x,y)$ on the window $-5\\le x \\le 5$ and $-5\\le y \\le 5$ with plot_wireframe"
   ]
  },
  {
   "cell_type": "code",
   "execution_count": null,
   "metadata": {},
   "outputs": [],
   "source": [
    "# complete"
   ]
  },
  {
   "cell_type": "markdown",
   "metadata": {},
   "source": [
    "# Exercise 3"
   ]
  },
  {
   "cell_type": "markdown",
   "metadata": {},
   "source": [
    "### A quadratic is a function of the form:\n",
    "### $$\n",
    "f(x) = (Ax) \\cdot x + b \\cdot x + c\n",
    "$$\n",
    "### In this example let's choose\n",
    "### $$\n",
    "A = \\begin{bmatrix}\n",
    "5 & 1\\\\\n",
    "1 & -5\n",
    "\\end{bmatrix}\n",
    "\\qquad\n",
    "b = \\begin{bmatrix}\n",
    "10 \\\\\n",
    "1 \n",
    "\\end{bmatrix} \\qquad c = -10\n",
    "$$\n",
    "### a)  Rewrite it in the format\n",
    "$$\n",
    "f(x,y) = a x^2 + bxy + cy^2 + dx + ey + cst\n",
    "$$"
   ]
  },
  {
   "cell_type": "markdown",
   "metadata": {},
   "source": [
    "### b) plot this function with wire_frame"
   ]
  },
  {
   "cell_type": "code",
   "execution_count": 1,
   "metadata": {},
   "outputs": [],
   "source": [
    "# complete"
   ]
  },
  {
   "cell_type": "markdown",
   "metadata": {},
   "source": [
    "### c) Try the following value for the vector $b$ and see how it affect the plot\n",
    "$$\n",
    "b = \\begin{bmatrix}\n",
    "-10 \\\\\n",
    "1 \n",
    "\\end{bmatrix} \\qquad \n",
    "b = \\begin{bmatrix}\n",
    "-20 \\\\\n",
    "1 \n",
    "\\end{bmatrix} \\qquad \n",
    "b = \\begin{bmatrix}\n",
    "20 \\\\\n",
    "1 \n",
    "\\end{bmatrix} \\qquad \n",
    "b = \\begin{bmatrix}\n",
    "1 \\\\\n",
    "20 \n",
    "\\end{bmatrix} \\qquad \n",
    "$$"
   ]
  },
  {
   "cell_type": "markdown",
   "metadata": {},
   "source": [
    "### d) Change the matrix $A$ and try to get a min or a max"
   ]
  },
  {
   "cell_type": "code",
   "execution_count": null,
   "metadata": {},
   "outputs": [],
   "source": []
  }
 ],
 "metadata": {
  "kernelspec": {
   "display_name": "Python 3",
   "language": "python",
   "name": "python3"
  },
  "language_info": {
   "codemirror_mode": {
    "name": "ipython",
    "version": 3
   },
   "file_extension": ".py",
   "mimetype": "text/x-python",
   "name": "python",
   "nbconvert_exporter": "python",
   "pygments_lexer": "ipython3",
   "version": "3.7.6"
  }
 },
 "nbformat": 4,
 "nbformat_minor": 4
}
