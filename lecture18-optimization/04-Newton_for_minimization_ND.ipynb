{
 "cells": [
  {
   "cell_type": "code",
   "execution_count": null,
   "metadata": {},
   "outputs": [],
   "source": [
    "import numpy as np\n",
    "import matplotlib.pyplot as plt\n",
    "from mpl_toolkits.mplot3d import Axes3D\n",
    "from scipy import linalg"
   ]
  },
  {
   "cell_type": "markdown",
   "metadata": {},
   "source": [
    "### Let's minimize \n",
    "### $$\n",
    "f(x,y) = e^{x^2+y^2}\n",
    "$$"
   ]
  },
  {
   "cell_type": "code",
   "execution_count": null,
   "metadata": {},
   "outputs": [],
   "source": [
    "def f_for_plot(x,y):\n",
    "    z = np.exp(x**2+y**2)\n",
    "    return z"
   ]
  },
  {
   "cell_type": "code",
   "execution_count": null,
   "metadata": {},
   "outputs": [],
   "source": [
    "x = np.linspace(-1,1,20)\n",
    "y = np.linspace(-1,1,20)\n",
    "X,Y = np.meshgrid(x,y)"
   ]
  },
  {
   "cell_type": "code",
   "execution_count": null,
   "metadata": {},
   "outputs": [],
   "source": [
    "Z = f_for_plot(X,Y)\n",
    "ax = plt.axes(projection='3d')\n",
    "ax.plot_wireframe(X, Y, Z, color = 'black')\n",
    "plt.show()"
   ]
  },
  {
   "cell_type": "code",
   "execution_count": null,
   "metadata": {},
   "outputs": [],
   "source": [
    "x = np.linspace(-1,1,100)\n",
    "y = np.linspace(-1,1,100)\n",
    "X,Y = np.meshgrid(x,y)"
   ]
  },
  {
   "cell_type": "code",
   "execution_count": null,
   "metadata": {},
   "outputs": [],
   "source": [
    "Z = f_for_plot(X,Y)\n",
    "plt.contour(X, Y, Z,100)\n",
    "plt.colorbar()\n",
    "plt.show()"
   ]
  },
  {
   "cell_type": "markdown",
   "metadata": {},
   "source": [
    "### Here is a nice plotting trick you will use later"
   ]
  },
  {
   "cell_type": "code",
   "execution_count": null,
   "metadata": {},
   "outputs": [],
   "source": [
    "Z = f_for_plot(X,Y)\n",
    "plt.contour(X, Y, Z,100)\n",
    "plt.plot([0.25, 0.50],[0,0.5],'ro')\n",
    "plt.colorbar()\n",
    "plt.show()"
   ]
  },
  {
   "cell_type": "markdown",
   "metadata": {},
   "source": [
    "### Let's change the name of the variables to be more python friendly:\n",
    "### $$\n",
    "f(x_0,x_1) = e^{x_0^2+x_1^2}\n",
    "$$\n",
    "### And let's compute the gradient and Hessian. "
   ]
  },
  {
   "cell_type": "markdown",
   "metadata": {},
   "source": [
    "### $$\n",
    "\\nabla f(x_0,x_1) = 2 e^{x_0^2+x_1^2} \\begin{bmatrix}x_0 \\\\ x_1 \\end{bmatrix} \n",
    "\\qquad \\text{ or } \\nabla f(x) = 2 e^{x_0^2+x_1^2} x\n",
    "$$"
   ]
  },
  {
   "cell_type": "code",
   "execution_count": null,
   "metadata": {},
   "outputs": [],
   "source": [
    "def gradf(x):\n",
    "    g = 2* np.exp(x[0]**2+x[1]**2)*x\n",
    "    return g"
   ]
  },
  {
   "cell_type": "markdown",
   "metadata": {},
   "source": [
    "### $$\n",
    "Hf(x_0,x_1) = 4 e^{x_0^2+x_1^2}\n",
    "\\begin{bmatrix}x_0 x_0 + 1/2 & x_0 x_1 \\\\ x_0 x_1 & x_1 x_1 + 1/2  \\end{bmatrix}\n",
    "$$"
   ]
  },
  {
   "cell_type": "code",
   "execution_count": null,
   "metadata": {},
   "outputs": [],
   "source": [
    "def Hf(x):\n",
    "    a = x[0]*x[0] + 1/2\n",
    "    b = x[0]*x[1]\n",
    "    c = x[0]*x[1]\n",
    "    d = x[1]*x[1] + 1/2\n",
    "    hessian = 4*np.exp(x[0]**2+x[1]**2) * np.array( [ [a,b],[c,d] ] )\n",
    "    return hessian"
   ]
  },
  {
   "cell_type": "markdown",
   "metadata": {},
   "source": [
    "### Now let's write down Newton's algorithm:"
   ]
  },
  {
   "cell_type": "code",
   "execution_count": null,
   "metadata": {},
   "outputs": [],
   "source": [
    "def newton(gradf,Hf,x0,num_iter):\n",
    "    \n",
    "    x = x0\n",
    "    \n",
    "    for i in range(0,num_iter):\n",
    "        y = linalg.solve(Hf(x), - gradf(x))\n",
    "        x = x + y\n",
    "        \n",
    "        print(x)"
   ]
  },
  {
   "cell_type": "code",
   "execution_count": null,
   "metadata": {},
   "outputs": [],
   "source": [
    "x0 = np.array([1,1])\n",
    "newton(gradf,Hf,x0,10)"
   ]
  },
  {
   "cell_type": "markdown",
   "metadata": {},
   "source": [
    "### Storing the successive iterates in a matrix:\n",
    "$$\n",
    "\\text{iterates} = \\begin{bmatrix}\n",
    "x_0^{(0)} & x_1^{(0)} \\\\\n",
    "x_0^{(1)} & x_1^{(1)} \\\\\n",
    "x_0^{(2)} & x_1^{(2)} \\\\\n",
    "x_0^{(3)} & x_1^{(3)} \\\\\n",
    "x_0^{(4)} & x_1^{(4)} \\\\\n",
    "\\vdots \\\\\n",
    "x_0^{(9)} & x_1^{(9)} \\\\\n",
    "\\end{bmatrix}\n",
    "$$"
   ]
  },
  {
   "cell_type": "code",
   "execution_count": null,
   "metadata": {},
   "outputs": [],
   "source": [
    "def newton_store(gradf,Hf,x0,num_iter):\n",
    "    x = x0\n",
    "    iterates = np.zeros( (num_iter,2))\n",
    "    \n",
    "    for i in range(0,num_iter):\n",
    "        iterates[i,:] = x\n",
    "        y = linalg.solve(Hf(x), - gradf(x))\n",
    "        x = x + y\n",
    "        print(x)\n",
    "    return iterates"
   ]
  },
  {
   "cell_type": "code",
   "execution_count": null,
   "metadata": {},
   "outputs": [],
   "source": [
    "x0 = np.array([1,1])\n",
    "iterates = newton_store(gradf,Hf,x0,10)"
   ]
  },
  {
   "cell_type": "code",
   "execution_count": null,
   "metadata": {},
   "outputs": [],
   "source": [
    "iterates"
   ]
  },
  {
   "cell_type": "markdown",
   "metadata": {},
   "source": [
    "### We are now going to plot the successive iterates with plt.plot(). The x-values of the coordinates are:"
   ]
  },
  {
   "cell_type": "code",
   "execution_count": null,
   "metadata": {},
   "outputs": [],
   "source": [
    "iterates[:,0]"
   ]
  },
  {
   "cell_type": "markdown",
   "metadata": {},
   "source": [
    "### The y-values are"
   ]
  },
  {
   "cell_type": "code",
   "execution_count": null,
   "metadata": {},
   "outputs": [],
   "source": [
    "iterates[:,1]"
   ]
  },
  {
   "cell_type": "code",
   "execution_count": null,
   "metadata": {},
   "outputs": [],
   "source": [
    "plt.plot(iterates[:,0],iterates[:,1],'o')"
   ]
  },
  {
   "cell_type": "markdown",
   "metadata": {},
   "source": [
    "### Plotting the iterates with with the contour of the function"
   ]
  },
  {
   "cell_type": "code",
   "execution_count": null,
   "metadata": {},
   "outputs": [],
   "source": [
    "Z = f_for_plot(X,Y)\n",
    "plt.contour(X, Y, Z,100)\n",
    "plt.plot(iterates[:,0],iterates[:,1],'ro')\n",
    "plt.colorbar()\n",
    "plt.show()"
   ]
  }
 ],
 "metadata": {
  "kernelspec": {
   "display_name": "Python 3",
   "language": "python",
   "name": "python3"
  },
  "language_info": {
   "codemirror_mode": {
    "name": "ipython",
    "version": 3
   },
   "file_extension": ".py",
   "mimetype": "text/x-python",
   "name": "python",
   "nbconvert_exporter": "python",
   "pygments_lexer": "ipython3",
   "version": "3.7.6"
  }
 },
 "nbformat": 4,
 "nbformat_minor": 4
}
