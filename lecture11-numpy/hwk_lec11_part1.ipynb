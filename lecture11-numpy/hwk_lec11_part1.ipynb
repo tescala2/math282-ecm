{
 "cells": [
  {
   "cell_type": "markdown",
   "metadata": {},
   "source": [
    "# NUMPY ARRAY HWK"
   ]
  },
  {
   "cell_type": "code",
   "execution_count": 2,
   "metadata": {},
   "outputs": [],
   "source": [
    "import numpy as np"
   ]
  },
  {
   "cell_type": "markdown",
   "metadata": {},
   "source": [
    "# Problem 1\n",
    "\n",
    "### a)  Make the matrices A and B below. Add them together to obtain a matrix C. Print these three matrices.\n",
    "$$\n",
    "A =\\begin{bmatrix}\n",
    "1 & 2 \\\\ 3 & 4\n",
    "\\end{bmatrix}  \n",
    "\\qquad \n",
    "B =\\begin{bmatrix}\n",
    "10 & 20 \\\\ 30 & 40\n",
    "\\end{bmatrix}  \\qquad C=A+B =?\n",
    "$$"
   ]
  },
  {
   "cell_type": "code",
   "execution_count": 1,
   "metadata": {},
   "outputs": [],
   "source": [
    "# write your code here"
   ]
  },
  {
   "cell_type": "markdown",
   "metadata": {},
   "source": [
    "### b) Print the number of dimensions, the shape and the data-type of the matrix C. "
   ]
  },
  {
   "cell_type": "code",
   "execution_count": 2,
   "metadata": {},
   "outputs": [],
   "source": [
    "# write your code here"
   ]
  },
  {
   "cell_type": "markdown",
   "metadata": {},
   "source": [
    "### c) Convert the matrix C to be made of floats.  Then print the type to check it was indeed converted."
   ]
  },
  {
   "cell_type": "code",
   "execution_count": 3,
   "metadata": {},
   "outputs": [],
   "source": [
    "# write your code here"
   ]
  },
  {
   "cell_type": "markdown",
   "metadata": {},
   "source": [
    "# Problem 2\n",
    "\n",
    "### Make a random  5 x 2 x 3 array.   Then do the following:   1) Print the array,  2) Print the data type, 3) Print the number of dimensions,  4) Print the shape."
   ]
  },
  {
   "cell_type": "code",
   "execution_count": 4,
   "metadata": {},
   "outputs": [],
   "source": [
    "# write your code here"
   ]
  },
  {
   "cell_type": "markdown",
   "metadata": {},
   "source": [
    "# Problem 3\n",
    "### a) Create the vectors  $\n",
    "x = \\begin{bmatrix}\n",
    "1 \\\\ 3 \\\\10\n",
    "\\end{bmatrix}$ and $ y = \\begin{bmatrix}\n",
    "8 \\\\ 2 \\\\5\n",
    "\\end{bmatrix}\n",
    "$ and add them together."
   ]
  },
  {
   "cell_type": "code",
   "execution_count": 5,
   "metadata": {},
   "outputs": [],
   "source": [
    "# write your code here"
   ]
  },
  {
   "cell_type": "markdown",
   "metadata": {},
   "source": [
    "### b) What is the number of dimensions and the shape of the ndarray $x$ and $y$ defined below?"
   ]
  },
  {
   "cell_type": "code",
   "execution_count": 17,
   "metadata": {},
   "outputs": [],
   "source": [
    "x = np.array([[1],[3],[10]])\n",
    "y = np.array( [8,2,5])"
   ]
  },
  {
   "cell_type": "code",
   "execution_count": 6,
   "metadata": {},
   "outputs": [],
   "source": [
    "# write your code here"
   ]
  },
  {
   "cell_type": "markdown",
   "metadata": {},
   "source": [
    "### c) Try to add together these two vectors... something weird happens... not what we expected (the point is to realize that a 3-by-1 array is NOT the same thing than a vector with 3 entries)"
   ]
  },
  {
   "cell_type": "code",
   "execution_count": 7,
   "metadata": {},
   "outputs": [],
   "source": [
    "# write your code here"
   ]
  },
  {
   "cell_type": "markdown",
   "metadata": {},
   "source": [
    "# Problem 4\n",
    "\n",
    "### Use numpy to find the avergage value of $\n",
    "x = \\begin{bmatrix}\n",
    "92 \\\\ 92 \\\\ 85 \\\\ 97\n",
    "\\end{bmatrix}$\n"
   ]
  },
  {
   "cell_type": "code",
   "execution_count": 8,
   "metadata": {},
   "outputs": [],
   "source": [
    "# write your code here"
   ]
  },
  {
   "cell_type": "markdown",
   "metadata": {},
   "source": [
    "# Problem 5\n",
    "\n",
    "### Use some of the numpy constructor to create the following ndarray\n",
    "$$\n",
    "x = \\begin{bmatrix}\n",
    "80 \\\\ 80.5 \\\\ 81 \\\\ 81.5 \\\\82 \\\\82.5 \\\\ 83\n",
    "\\end{bmatrix}\n",
    "\\qquad\n",
    "A = \\begin{bmatrix}\n",
    "0.3 & 0.3 & 0.3 \\\\\n",
    "0.3 & 0.3 & 0.3 \\\\\n",
    "\\end{bmatrix}\n",
    "\\qquad\n",
    "v = \\begin{bmatrix}\n",
    "1 \\\\ 1 \\\\ 1 \\\\1  \\\\ 1\n",
    "\\end{bmatrix}\n",
    "\\qquad\n",
    "v = \\begin{bmatrix}\n",
    "0 \\\\ 0 \\\\ 0 \\\\0  \\\\ 0\n",
    "\\end{bmatrix}\n",
    "$$\n",
    "\n"
   ]
  },
  {
   "cell_type": "code",
   "execution_count": 9,
   "metadata": {},
   "outputs": [],
   "source": [
    "# write your code here"
   ]
  }
 ],
 "metadata": {
  "kernelspec": {
   "display_name": "Python 3",
   "language": "python",
   "name": "python3"
  },
  "language_info": {
   "codemirror_mode": {
    "name": "ipython",
    "version": 3
   },
   "file_extension": ".py",
   "mimetype": "text/x-python",
   "name": "python",
   "nbconvert_exporter": "python",
   "pygments_lexer": "ipython3",
   "version": "3.7.6"
  }
 },
 "nbformat": 4,
 "nbformat_minor": 2
}
