{
 "cells": [
  {
   "cell_type": "markdown",
   "metadata": {},
   "source": [
    "### Problem 1: Compute the following by hand (the symbol $\\otimes$ means component wise multiplication)\n",
    "\n",
    "$$\n",
    "\\begin{bmatrix}\n",
    "1&2&3 \\\\\n",
    "2&2&2\n",
    "\\end{bmatrix} \\otimes\n",
    "\\begin{bmatrix}\n",
    "1&1&1 \\\\\n",
    "2&2&2\n",
    "\\end{bmatrix} = \n",
    "\\begin{bmatrix}\n",
    "?&?&? \\\\\n",
    "?&?&?\n",
    "\\end{bmatrix}\n",
    "$$\n",
    "\n",
    "\n",
    "\n",
    "$$\n",
    "\\begin{bmatrix}\n",
    "1&2&3 \\\\\n",
    "1&2&2\n",
    "\\end{bmatrix}\n",
    "\\begin{bmatrix}\n",
    "1&2 \\\\\n",
    "1&2 \\\\\n",
    "1&2 \n",
    "\\end{bmatrix}\n",
    "=\n",
    "\\begin{bmatrix}\n",
    "?&? \\\\\n",
    "?&?\n",
    "\\end{bmatrix}\n",
    "$$\n",
    "\n",
    "\n",
    "\n",
    "$$\n",
    "\\begin{bmatrix}\n",
    "1&2&3 \\\\\n",
    "1&2&2\n",
    "\\end{bmatrix} \n",
    "\\begin{bmatrix}\n",
    "1 \\\\1 \\\\1\n",
    "\\end{bmatrix} = \n",
    "\\begin{bmatrix}\n",
    "? \\\\?\n",
    "\\end{bmatrix}\n",
    "$$\n",
    "\n",
    "\n",
    "\n",
    "$$\n",
    "\\begin{bmatrix}\n",
    "1\\\\2\\\\3\n",
    "\\end{bmatrix} \n",
    "\\cdot\n",
    "\\begin{bmatrix}\n",
    "2 \\\\1 \\\\2\n",
    "\\end{bmatrix} = ?\n",
    "$$\n",
    "\n",
    "$$\n",
    "\\begin{bmatrix}\n",
    "1\\\\2\\\\3\n",
    "\\end{bmatrix} \n",
    "\\otimes\n",
    "\\begin{bmatrix}\n",
    "2 \\\\1 \\\\2\n",
    "\\end{bmatrix} = \n",
    "\\begin{bmatrix}\n",
    "? \\\\? \\\\?\n",
    "\\end{bmatrix}\n",
    "$$\n",
    "\n",
    "\n",
    "\n"
   ]
  },
  {
   "cell_type": "markdown",
   "metadata": {},
   "source": [
    "### Problem 2: Compute the above with numpy"
   ]
  },
  {
   "cell_type": "code",
   "execution_count": 2,
   "metadata": {},
   "outputs": [],
   "source": [
    "import numpy as np"
   ]
  },
  {
   "cell_type": "code",
   "execution_count": 1,
   "metadata": {},
   "outputs": [],
   "source": [
    "# write your code here"
   ]
  },
  {
   "cell_type": "markdown",
   "metadata": {},
   "source": [
    "### Problem 3: Solve the following system by hand:\n",
    "\\begin{align}\n",
    "&x + 2y = 5 \\\\\n",
    "&3x + 4y = 11\n",
    "\\end{align}"
   ]
  },
  {
   "cell_type": "markdown",
   "metadata": {},
   "source": [
    "Write the solution here: x=?, y=?"
   ]
  },
  {
   "cell_type": "markdown",
   "metadata": {},
   "source": [
    "### Problem 4: solve the above system with the linalg module"
   ]
  },
  {
   "cell_type": "code",
   "execution_count": null,
   "metadata": {},
   "outputs": [],
   "source": [
    "from scipy"
   ]
  },
  {
   "cell_type": "code",
   "execution_count": 2,
   "metadata": {},
   "outputs": [],
   "source": [
    "# Write your code here"
   ]
  }
 ],
 "metadata": {
  "kernelspec": {
   "display_name": "Python 3",
   "language": "python",
   "name": "python3"
  },
  "language_info": {
   "codemirror_mode": {
    "name": "ipython",
    "version": 3
   },
   "file_extension": ".py",
   "mimetype": "text/x-python",
   "name": "python",
   "nbconvert_exporter": "python",
   "pygments_lexer": "ipython3",
   "version": "3.7.6"
  }
 },
 "nbformat": 4,
 "nbformat_minor": 4
}
