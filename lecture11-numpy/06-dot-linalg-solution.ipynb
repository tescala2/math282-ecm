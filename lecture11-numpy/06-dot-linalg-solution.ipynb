{
 "cells": [
  {
   "cell_type": "markdown",
   "metadata": {},
   "source": [
    "### Problem 1: Compute the following by hand (the symbol $\\otimes$ means component wise multiplication)\n",
    "$$\n",
    "\\begin{bmatrix}\n",
    "1&2&3 \\\\\n",
    "2&2&2\n",
    "\\end{bmatrix} \\otimes\n",
    "\\begin{bmatrix}\n",
    "1&1&1 \\\\\n",
    "2&2&2\n",
    "\\end{bmatrix} = \n",
    "\\begin{bmatrix}\n",
    "1&2&3 \\\\\n",
    "4&4&4\n",
    "\\end{bmatrix}\n",
    "$$\n",
    "\n",
    "\n",
    "\n",
    "$$\n",
    "\\begin{bmatrix}\n",
    "1&2&3 \\\\\n",
    "1&2&2\n",
    "\\end{bmatrix}\n",
    "\\begin{bmatrix}\n",
    "1&2 \\\\\n",
    "1&2 \\\\\n",
    "1&2 \n",
    "\\end{bmatrix}\n",
    "=\n",
    "\\begin{bmatrix}\n",
    "6&12 \\\\\n",
    "5&10\n",
    "\\end{bmatrix}\n",
    "$$\n",
    "\n",
    "\n",
    "\n",
    "$$\n",
    "\\begin{bmatrix}\n",
    "1&2&3 \\\\\n",
    "1&2&2\n",
    "\\end{bmatrix} \n",
    "\\begin{bmatrix}\n",
    "1 \\\\1 \\\\1\n",
    "\\end{bmatrix} = \n",
    "\\begin{bmatrix}\n",
    "6 \\\\5\n",
    "\\end{bmatrix}\n",
    "$$\n",
    "\n",
    "\n",
    "\n",
    "$$\n",
    "\\begin{bmatrix}\n",
    "1\\\\2\\\\3\n",
    "\\end{bmatrix} \n",
    "\\cdot\n",
    "\\begin{bmatrix}\n",
    "2 \\\\1 \\\\2\n",
    "\\end{bmatrix} = 10\n",
    "$$\n",
    "\n",
    "$$\n",
    "\\begin{bmatrix}\n",
    "1\\\\2\\\\3\n",
    "\\end{bmatrix} \n",
    "\\otimes\n",
    "\\begin{bmatrix}\n",
    "2 \\\\1 \\\\2\n",
    "\\end{bmatrix} = \n",
    "\\begin{bmatrix}\n",
    "2 \\\\2 \\\\6\n",
    "\\end{bmatrix}\n",
    "$$\n",
    "\n",
    "\n",
    "\n"
   ]
  },
  {
   "cell_type": "markdown",
   "metadata": {},
   "source": [
    "### Problem 2: Compute the above with numpy"
   ]
  },
  {
   "cell_type": "code",
   "execution_count": 2,
   "metadata": {},
   "outputs": [],
   "source": [
    "import numpy as np"
   ]
  },
  {
   "cell_type": "code",
   "execution_count": 3,
   "metadata": {},
   "outputs": [
    {
     "data": {
      "text/plain": [
       "array([[1, 2, 3],\n",
       "       [4, 4, 4]])"
      ]
     },
     "execution_count": 3,
     "metadata": {},
     "output_type": "execute_result"
    }
   ],
   "source": [
    "A = np.array([[1,2,3],[2,2,2]])\n",
    "B = np.array([[1,1,1],[2,2,2]])\n",
    "A*B"
   ]
  },
  {
   "cell_type": "code",
   "execution_count": 6,
   "metadata": {},
   "outputs": [
    {
     "data": {
      "text/plain": [
       "array([[ 6, 12],\n",
       "       [ 5, 10]])"
      ]
     },
     "execution_count": 6,
     "metadata": {},
     "output_type": "execute_result"
    }
   ],
   "source": [
    "A = np.array([[1,2,3],[1,2,2]])\n",
    "B = np.array([[1,2],[1,2],[1,2]])\n",
    "np.dot(A,B)"
   ]
  },
  {
   "cell_type": "code",
   "execution_count": 7,
   "metadata": {},
   "outputs": [
    {
     "data": {
      "text/plain": [
       "array([6, 5])"
      ]
     },
     "execution_count": 7,
     "metadata": {},
     "output_type": "execute_result"
    }
   ],
   "source": [
    "v = np.array([1,1,1])\n",
    "np.dot(A,v)"
   ]
  },
  {
   "cell_type": "code",
   "execution_count": 9,
   "metadata": {},
   "outputs": [
    {
     "name": "stdout",
     "output_type": "stream",
     "text": [
      "10\n",
      "[2 2 6]\n"
     ]
    }
   ],
   "source": [
    "v = np.array([1,2,3])\n",
    "w = np.array([2,1,2])\n",
    "print(np.dot(v,w))\n",
    "print(v*w)"
   ]
  },
  {
   "cell_type": "markdown",
   "metadata": {},
   "source": [
    "### Problem 3: Solve the following system by hand:\n",
    "\\begin{align}\n",
    "&x + 2y = 5 \\\\\n",
    "&3x + 4y = 11\n",
    "\\end{align}"
   ]
  },
  {
   "cell_type": "markdown",
   "metadata": {},
   "source": [
    "Doing Gaussian elimination the system becomes\n",
    "\n",
    "\\begin{align}\n",
    "&x + 2y = 5 \\\\\n",
    "&0x + -2y = -4\n",
    "\\end{align}\n",
    "\n",
    "Then backsubstitution gives $y = 2$ and $x=1$"
   ]
  },
  {
   "cell_type": "markdown",
   "metadata": {},
   "source": [
    "### Problem 4: solve the above system with the linalg module"
   ]
  },
  {
   "cell_type": "code",
   "execution_count": 10,
   "metadata": {},
   "outputs": [],
   "source": [
    "from scipy import linalg"
   ]
  },
  {
   "cell_type": "code",
   "execution_count": 13,
   "metadata": {},
   "outputs": [
    {
     "data": {
      "text/plain": [
       "array([1., 2.])"
      ]
     },
     "execution_count": 13,
     "metadata": {},
     "output_type": "execute_result"
    }
   ],
   "source": [
    "A = np.array([[1,2],[3,4]])\n",
    "b = np.array([5,11])\n",
    "x = linalg.solve(A,b)\n",
    "x"
   ]
  }
 ],
 "metadata": {
  "kernelspec": {
   "display_name": "Python 3",
   "language": "python",
   "name": "python3"
  },
  "language_info": {
   "codemirror_mode": {
    "name": "ipython",
    "version": 3
   },
   "file_extension": ".py",
   "mimetype": "text/x-python",
   "name": "python",
   "nbconvert_exporter": "python",
   "pygments_lexer": "ipython3",
   "version": "3.7.6"
  }
 },
 "nbformat": 4,
 "nbformat_minor": 4
}
