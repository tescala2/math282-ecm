{
 "cells": [
  {
   "cell_type": "code",
   "execution_count": null,
   "metadata": {},
   "outputs": [],
   "source": [
    "import numpy as np\n",
    "import matplotlib.pyplot as plt"
   ]
  },
  {
   "cell_type": "markdown",
   "metadata": {},
   "source": [
    "# Problem 1: Frobenius norm"
   ]
  },
  {
   "cell_type": "markdown",
   "metadata": {},
   "source": [
    "### You know what is the norm of a vector. The  norm of a matrix is defined using a very similar formula. For example, the  norm of  the 2-by-2 matrix\n",
    "$$\n",
    "A = \\begin{bmatrix}\n",
    "a_{11} & a_{12} \\\\\n",
    "a_{21} & a_{22}\n",
    "\\end{bmatrix}\n",
    "$$\n",
    "### is given by\n",
    "$$\n",
    "\\|A\\|_{\\text{F}} = \\sqrt{ a_{11}^2 + a_{12}^2 +\n",
    "a_{21}^2 + a_{22}^2}\n",
    "$$\n",
    "### More generally, if $A$ is an m-by-n matrix, we have:\n",
    "$$\n",
    "\\|A\\|_{\\text{F}} = \\sqrt{ \\sum_{i=1}^m \\sum_{j=1}^n a_{ij}^2}\n",
    "$$\n",
    "### To be more precise, this matrix norm is called the Frobenius norm (that's why there is F).\n",
    "\n",
    "### Write a function that compute the Frobenius norm of a matrix. Do not use any loop, all your operations should be vectorized. Use np.sum(). Test you function on the matrix$ \\begin{bmatrix}\n",
    "1 & 2 \\\\\n",
    "3 & 4\n",
    "\\end{bmatrix}$ whose Frobenius norm is $\\sqrt{30}$."
   ]
  },
  {
   "cell_type": "code",
   "execution_count": null,
   "metadata": {},
   "outputs": [],
   "source": [
    "def frobenius(A):\n",
    "    \"\"\"\n",
    "    This function compute the Frobenius norm of a matrix\n",
    "    INPUT: A: 2-dimensional array\n",
    "    OUTPUT: the Frobenius norm of A\n",
    "    \"\"\"\n",
    "    #COMPLETE"
   ]
  },
  {
   "cell_type": "markdown",
   "metadata": {},
   "source": [
    "# Problem 2: Nearest neighbor\n",
    "\n",
    "### a) Recall that in total there are 10,000 images in the mnist dataset. Below is image 100:"
   ]
  },
  {
   "cell_type": "code",
   "execution_count": null,
   "metadata": {},
   "outputs": [],
   "source": [
    "X = np.load('mnist.npy')\n",
    "plt.imshow(X[100,:,:],cmap=\"gray\")\n",
    "plt.show()"
   ]
  },
  {
   "cell_type": "markdown",
   "metadata": {},
   "source": [
    "### Your goal in this problem is to find which of the 9,999 other images is the most similar to  image 100 above. In order to do this we need a notion of similarity or distance between images. Since mnist images are 28-by-28 matrices, we are going to use the Frobenius norm. \n",
    "\n",
    "### Suppose we have two images called $\\text{im}_1$ and $\\text{im}_2$. Let $A_1$ and $A_2$ be the two matrices associated with these two images. We define the distance between the two images as follow: \n",
    "### $$\n",
    "\\text{dist}(\\text{im}_1, \\text{im}_2) = \\| A-B \\|_F\n",
    "$$\n",
    "### Finding the image which is the most similar to image 100, means finding the image which is the closest to image 100, where ''closest'' is defined according to the distance above.\n",
    "\n",
    "### REMARK 1: this is called a nearest neighbor search.\n",
    "\n",
    "### REMARK 2: Make sure that your algorithm returns an image which *different* from image 100!\n",
    "\n",
    "### REMARK 3: Read the docstring carefully.\n",
    "\n",
    "### Remark 4: you will need to create a vector dist that contains the distance between image 100 and all the other images. Start by initializing this vector to be filled with zeros, then do a loop to fill this vector one entry at a time. "
   ]
  },
  {
   "cell_type": "code",
   "execution_count": null,
   "metadata": {},
   "outputs": [],
   "source": [
    "def nearest_nghb(X,idx):\n",
    "    \"\"\"\n",
    "    Compute the nearest neighbor\n",
    "    \n",
    "    INPUT\n",
    "    X (3-dimensional array of shape n-by-w-by-w): dataset containing \n",
    "                                                  n images which are w-by-w pixels.                                           \n",
    "    idx (int): index of one of the image in the dataset.\n",
    "           \n",
    "    OUTPUT\n",
    "    idx_closest (int): index of the image which is the closest to image idx.\n",
    "    \"\"\"\n",
    "    \n",
    "    # COMPLETE\n",
    "    \n",
    "    return idx_closest"
   ]
  },
  {
   "cell_type": "markdown",
   "metadata": {},
   "source": [
    "### b) Visualize image 100 and its closest neighbor. Make sure that these two images are different! "
   ]
  },
  {
   "cell_type": "code",
   "execution_count": null,
   "metadata": {},
   "outputs": [],
   "source": [
    "#COMPLETE"
   ]
  },
  {
   "cell_type": "markdown",
   "metadata": {},
   "source": [
    "### c) Find the nearest neighbor of a few other images. Try to find interesting cases."
   ]
  },
  {
   "cell_type": "markdown",
   "metadata": {},
   "source": [
    "# Problem 3: k-nearest neighbor"
   ]
  },
  {
   "cell_type": "markdown",
   "metadata": {},
   "source": [
    "### a) Write a function that find the k nearest neighbors of an image. Then display the 10 nearest neighbors of image 100 of the mnist dataset. Read the docstring carefully. The output is a 1-dimensional array containing integers."
   ]
  },
  {
   "cell_type": "code",
   "execution_count": null,
   "metadata": {},
   "outputs": [],
   "source": [
    "def k_nearest_nghb(X,idx,k):\n",
    "    \"\"\"\n",
    "    Compute the k-nearest neighbors\n",
    "    \n",
    "    INPUT \n",
    "    X (3-dimensional array of shape n-by-w-by-w): dataset containing\n",
    "                                                  n images which are w-by-w pixels.      \n",
    "    idx (int): index of one of the image in the dataset.   \n",
    "    k (int): number of neighbors \n",
    "           \n",
    "    OUTPUT\n",
    "    idx_closest (1-dimensional array): indices of the images which \n",
    "                                       are the closest to image idx.\n",
    "    \"\"\"\n",
    "    #COMPLETE\n",
    "    \n",
    "    return idx_closest"
   ]
  },
  {
   "cell_type": "markdown",
   "metadata": {},
   "source": [
    "### b) Find the 10 nearest neighbor of image 1035 of the mnist dataset"
   ]
  },
  {
   "cell_type": "code",
   "execution_count": null,
   "metadata": {},
   "outputs": [],
   "source": [
    "#COMPLETE"
   ]
  }
 ],
 "metadata": {
  "kernelspec": {
   "display_name": "Python 3",
   "language": "python",
   "name": "python3"
  },
  "language_info": {
   "codemirror_mode": {
    "name": "ipython",
    "version": 3
   },
   "file_extension": ".py",
   "mimetype": "text/x-python",
   "name": "python",
   "nbconvert_exporter": "python",
   "pygments_lexer": "ipython3",
   "version": "3.7.6"
  }
 },
 "nbformat": 4,
 "nbformat_minor": 4
}
