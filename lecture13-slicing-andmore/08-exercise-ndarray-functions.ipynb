{
 "cells": [
  {
   "cell_type": "code",
   "execution_count": 4,
   "metadata": {},
   "outputs": [],
   "source": [
    "import numpy as np"
   ]
  },
  {
   "cell_type": "markdown",
   "metadata": {},
   "source": [
    "# Problem 1\n",
    "\n",
    "### Write two different functions to compute the dot product between two vectors. One should be slow using a for loop. The other should be fast. "
   ]
  },
  {
   "cell_type": "code",
   "execution_count": 5,
   "metadata": {},
   "outputs": [],
   "source": [
    "def my_dot_slow(v,w):\n",
    "    \"\"\"\n",
    "    v and w are 1d-array of same length\n",
    "    This function compute the dot product between v and w using a for loop\n",
    "    \"\"\"\n",
    "    # complete"
   ]
  },
  {
   "cell_type": "code",
   "execution_count": 6,
   "metadata": {},
   "outputs": [],
   "source": [
    "def my_dot_fast(v,w):\n",
    "    \"\"\"\n",
    "    v and w are 1d-array of same length\n",
    "    This function compute the dot product between v and w using np.sum()\n",
    "    \"\"\"\n",
    "    # complete"
   ]
  },
  {
   "cell_type": "markdown",
   "metadata": {},
   "source": [
    "# Problem 2\n",
    "\n",
    "### Test your two functions on the following example. Also use the np.dot() function to have a 3rd way to compute the dot product.\n",
    "$$\n",
    "\\begin{bmatrix}\n",
    "1 \\\\ 3\\\\ 2\n",
    "\\end{bmatrix}\n",
    "\\cdot\n",
    "\\begin{bmatrix}\n",
    "2 \\\\ -1\\\\ 5\n",
    "\\end{bmatrix} = 9\n",
    "$$"
   ]
  },
  {
   "cell_type": "code",
   "execution_count": 7,
   "metadata": {},
   "outputs": [],
   "source": [
    "# complete"
   ]
  },
  {
   "cell_type": "markdown",
   "metadata": {},
   "source": [
    "# Problem 3\n",
    "\n",
    "### Compute the dot product between 2 ramdom vectors with 10 millions entries. Which function is fastest?"
   ]
  },
  {
   "cell_type": "code",
   "execution_count": 11,
   "metadata": {},
   "outputs": [],
   "source": [
    "# complete"
   ]
  }
 ],
 "metadata": {
  "kernelspec": {
   "display_name": "Python 3",
   "language": "python",
   "name": "python3"
  },
  "language_info": {
   "codemirror_mode": {
    "name": "ipython",
    "version": 3
   },
   "file_extension": ".py",
   "mimetype": "text/x-python",
   "name": "python",
   "nbconvert_exporter": "python",
   "pygments_lexer": "ipython3",
   "version": "3.7.6"
  }
 },
 "nbformat": 4,
 "nbformat_minor": 4
}
