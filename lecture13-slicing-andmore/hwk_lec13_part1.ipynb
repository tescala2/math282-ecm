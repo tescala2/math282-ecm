{
 "cells": [
  {
   "cell_type": "code",
   "execution_count": null,
   "metadata": {},
   "outputs": [],
   "source": [
    "import numpy as np\n",
    "import matplotlib.pyplot as plt"
   ]
  },
  {
   "cell_type": "markdown",
   "metadata": {},
   "source": [
    "# Problem 1: Putting a cross on a image"
   ]
  },
  {
   "cell_type": "markdown",
   "metadata": {},
   "source": [
    "### a) Make a function that take an image as input, and return the same image except that all the pixels in both diagonal have been set to white.  For example,\n",
    "\n",
    "$$ \\text{if the input is:}\\quad\n",
    "\\begin{bmatrix}\n",
    ".1 & .2 & .5 & .8 \\\\\n",
    ".5 & .3 & .1 & .7 \\\\\n",
    ".9 & .8 & .7 & .6 \\\\\n",
    ".0 & .5 & .1 & .8 \n",
    "\\end{bmatrix} \\qquad \n",
    "\\text{then the output should be:} \\quad\n",
    "\\begin{bmatrix}\n",
    "1. & .2 & .5 & 1. \\\\\n",
    ".5 & 1. & 1. & .7 \\\\\n",
    ".9 & 1. & 1. & .6 \\\\\n",
    "1. & .5 & .1 & 1. \n",
    "\\end{bmatrix}\n",
    "$$"
   ]
  },
  {
   "cell_type": "code",
   "execution_count": null,
   "metadata": {},
   "outputs": [],
   "source": [
    "def set_diagonal_to_white(im):\n",
    "    \"\"\"\n",
    "    Set the both diagonal to 1\n",
    "    \"\"\"\n",
    "    # COMPLETE"
   ]
  },
  {
   "cell_type": "code",
   "execution_count": null,
   "metadata": {},
   "outputs": [],
   "source": [
    "# use this to debug your function\n",
    "\n",
    "im = np.array( [[.1 , .2 , .5 , .8],\n",
    "                [.5 , .3 , .1 , .7],\n",
    "                [.9 , .8 , .7 , .6],\n",
    "                [.0 , .5 , .1 , .8] ])\n",
    "\n",
    "im2 = set_diagonal_to_white(im)\n",
    "\n",
    "print(im2)"
   ]
  },
  {
   "cell_type": "markdown",
   "metadata": {},
   "source": [
    "### b) Load the mnist dataset, extract image number 100, then display it with imshow. Then  put a cross on it using the above function, and display the crossed image with imshow. "
   ]
  },
  {
   "cell_type": "code",
   "execution_count": null,
   "metadata": {},
   "outputs": [],
   "source": [
    "# COMPLETE"
   ]
  },
  {
   "cell_type": "markdown",
   "metadata": {},
   "source": [
    "# Problem 2: Horizontal flip\n",
    "\n",
    "### a) Write a function that takes an image as input and flips it horizontally. For example,\n",
    "\n",
    "$$ \\text{if the input is:}\\quad\n",
    "\\begin{bmatrix}\n",
    ".1 & .2 & .5 & .8 \\\\\n",
    ".5 & .3 & .1 & .7 \\\\\n",
    ".9 & .8 & .7 & .6 \\\\\n",
    ".0 & .5 & .1 & .8 \n",
    "\\end{bmatrix} \\qquad \n",
    "\\text{then the output should be:} \\quad\n",
    "\\begin{bmatrix}\n",
    ".8 &.5 &.2 &.1\\\\\n",
    ".7 &.1 &.3 &.5\\\\\n",
    ".6 &.7 &.8 &.9\\\\\n",
    ".8 &.1 &.5 &.0\n",
    "\\end{bmatrix}\n",
    "$$\n",
    "\n",
    "### The output of your function should be called image_flipped. Start by initializing image_flipped as an n-by-n matrix filled with zero. Then write a nested loop to change the entries of image_flipped one after the other. "
   ]
  },
  {
   "cell_type": "code",
   "execution_count": null,
   "metadata": {},
   "outputs": [],
   "source": [
    "def hor_flip(im):\n",
    "    \"\"\"\n",
    "    This function return an image which is the horizontal flip of the input image\n",
    "    INPUT: im: 2d-array of shape n-by-n\n",
    "    OUTPUT: im_flipped: 2d-array of shape n-by-n\n",
    "    \"\"\"\n",
    "    n = im.shape[0]\n",
    "    im_flipped = np.zeros( (n,n) )\n",
    "    \n",
    "    # COMPLETE\n",
    "    \n",
    "    return im_flipped"
   ]
  },
  {
   "cell_type": "code",
   "execution_count": null,
   "metadata": {},
   "outputs": [],
   "source": [
    "# use this to debug your function\n",
    "\n",
    "im = np.array( [[.1 , .2 , .5 , .8],\n",
    "                [.5 , .3 , .1 , .7],\n",
    "                [.9 , .8 , .7 , .6],\n",
    "                [.0 , .5 , .1 , .8] ])\n",
    "\n",
    "im2 = hor_flip(im)\n",
    "\n",
    "print(im)\n",
    "print('')\n",
    "print(im2)"
   ]
  },
  {
   "cell_type": "markdown",
   "metadata": {},
   "source": [
    "### b) Load the mnist dataset, extract image number 21, then display it with imshow. Then use the function hor_flip to flip this image, and display the flipped image with imshow. Try a few other images from the dataset."
   ]
  },
  {
   "cell_type": "code",
   "execution_count": null,
   "metadata": {},
   "outputs": [],
   "source": [
    "# COMPLETE"
   ]
  },
  {
   "cell_type": "markdown",
   "metadata": {},
   "source": [
    "# Problem 3: Downsampling\n",
    "\n",
    "### a) Make a function that downsample an image by a factor 2. For example,\n",
    "$$ \\text{if the input is:}\\quad\n",
    "\\begin{bmatrix}\n",
    ".1 & .2 & .5 & .8 \\\\\n",
    ".5 & .3 & .1 & .7 \\\\\n",
    ".9 & .8 & .7 & .6 \\\\\n",
    ".0 & .5 & .1 & .8 \\\\\n",
    "\\end{bmatrix} \\qquad \n",
    "\\text{then the output should be:} \\quad\n",
    "\\begin{bmatrix}\n",
    ".1  & .5  \\\\\n",
    ".9  & .7 \n",
    "\\end{bmatrix}\n",
    "$$\n",
    "### Note how a 4-by-4 image becomes a 2-by-2 image. Similarly a 28-by-28 image should become a 14-by-14 image. When downsampling by a factor 2, we keep only 1/4th of the pixels which are in the image. We only keep the pixels whose row and column indices are even. So pixel (0,4) is kept, but pixel (2,7) is deleted.\n",
    "\n",
    "### The output of your function should be called im_downsampled. Start by initializing im_downsampled as an m-by-m matrix filled with zero (where m = n/2). Make sure to use integer division when computing m, otherwise m is going to be a float and that's going to give you a bug. Then write a nested loop to change the entries of im_downsampled one after the other. "
   ]
  },
  {
   "cell_type": "code",
   "execution_count": null,
   "metadata": {},
   "outputs": [],
   "source": [
    "def downsample(im):\n",
    "    \"\"\"\n",
    "    This function downsample the input image by a factor 2.\n",
    "    INPUT: im: 2d-array of shape n-by-n\n",
    "    OUTPUT: im_downsampled: 2d-array of shape m-by-m, where m = n/2\n",
    "    \"\"\"    \n",
    "    \n",
    "    # COMPLETE\n",
    "    \n",
    "    \n",
    "    return im_downsampled"
   ]
  },
  {
   "cell_type": "code",
   "execution_count": null,
   "metadata": {},
   "outputs": [],
   "source": [
    "# use this to debug your function\n",
    "\n",
    "im = np.array( [[.1 , .2 , .5 , .8],\n",
    "                [.5 , .3 , .1 , .7],\n",
    "                [.9 , .8 , .7 , .6],\n",
    "                [.0 , .5 , .1 , .8] ])\n",
    "\n",
    "im2 = downsample(im)\n",
    "\n",
    "print(im)\n",
    "print('')\n",
    "print(im2)"
   ]
  },
  {
   "cell_type": "markdown",
   "metadata": {},
   "source": [
    "### b) Load the mnist dataset, extract image number 21, then display it with imshow. Then downsample this image, and display the downsampled image with imshow. Try a few other images from the dataset."
   ]
  },
  {
   "cell_type": "code",
   "execution_count": null,
   "metadata": {},
   "outputs": [],
   "source": [
    "# COMPLETE"
   ]
  },
  {
   "cell_type": "markdown",
   "metadata": {},
   "source": [
    "### c) Dowsample the same image one more time, so that it becomes 7-by-7. Display it with imshow."
   ]
  },
  {
   "cell_type": "code",
   "execution_count": null,
   "metadata": {},
   "outputs": [],
   "source": [
    "# COMPLETE"
   ]
  },
  {
   "cell_type": "markdown",
   "metadata": {},
   "source": [
    "# Problem 4: Blur\n",
    "\n",
    "### a) Make a function that blur an image. To do this, the intensity of each pixel should be replaced by the average of the intensity of the 9 surrounding pixels (including the pixel itself). The picture below is here to help you visualizing what are these 9 pixels:\n",
    "\n",
    "$$\n",
    "\\begin{bmatrix}\n",
    "o & o & o \\\\\n",
    "o & x & o \\\\\n",
    "o & o & o\n",
    "\\end{bmatrix}\n",
    "$$\n",
    "\n",
    "### In other words, each pixel is the center of a 3-by-3 patch. You should replace the value of the intensity of each pixel by the average intensity of the pixels in this 3-by-3 patch. Below is an example:\n",
    "\n",
    "$$ \\text{if the input is:}\\quad\n",
    "\\begin{bmatrix}\n",
    ".1 & .2 & .5 & .8 \\\\\n",
    ".5 & .3 & .1 & .7 \\\\\n",
    ".9 & .8 & .7 & .6 \\\\\n",
    ".0 & .5 & .1 & .8 \\\\\n",
    "\\end{bmatrix} \\qquad \n",
    "\\text{then the output should be:} \\quad\n",
    "\\begin{bmatrix}\n",
    ".1 & .2 & .5 & .8 \\\\\n",
    ".5 & .456  &  .522& .7 \\\\\n",
    ".9 &  .433& .511 & .6 \\\\\n",
    ".0 & .5 & .1 & .8 \\\\\n",
    "\\end{bmatrix}\n",
    "$$\n",
    "\n",
    "\n",
    "### Note how the values of the pixels on the boundary of the pictures remain unchanged (well, because there are not in the center of a 3-by-3 patch, so it is tricky to decide what rule we want to apply for these pixels, better letting them untouched). Only the pixels in the middle are changed. For example, the patch centered around pixel (1,1) is\n",
    "$$\n",
    "\\begin{bmatrix}\n",
    ".1 & .2 & .5  \\\\\n",
    ".5 & .3 & .1  \\\\\n",
    ".9 & .8 & .7  \n",
    "\\end{bmatrix} \n",
    "$$\n",
    "### and the average intensity in this patch is equal to 0.456, so this value is assigned to pixel (1,1) in the blurred_image."
   ]
  },
  {
   "cell_type": "code",
   "execution_count": null,
   "metadata": {},
   "outputs": [],
   "source": [
    "patch = np.array( [[.1 , .2 , .5 ],\n",
    "                [.5 , .3 , .1 ],\n",
    "                [.9 , .8 , .7 ], ])\n",
    "print(patch)\n",
    "print('average intensity in the patch = ', patch.mean())"
   ]
  },
  {
   "cell_type": "code",
   "execution_count": null,
   "metadata": {},
   "outputs": [],
   "source": [
    "def blur(im):\n",
    "    \"\"\"\n",
    "    This function blur the image\n",
    "    INPUT: im: 2d-array of shape n-by-n\n",
    "    OUTPUT: im_blurred: 2d-array of shape n-by-n\n",
    "    \"\"\"\n",
    "\n",
    "    # COMPLETE\n",
    "    \n",
    "    return im_blurred"
   ]
  },
  {
   "cell_type": "code",
   "execution_count": null,
   "metadata": {},
   "outputs": [],
   "source": [
    "# use this to debug your function\n",
    "\n",
    "im = np.array( [[.1 , .2 , .5 , .8],\n",
    "                [.5 , .3 , .1 , .7],\n",
    "                [.9 , .8 , .7 , .6],\n",
    "                [.0 , .5 , .1 , .8] ])\n",
    "\n",
    "im2 = blur(im)\n",
    "\n",
    "print(im)\n",
    "print('')\n",
    "print(im2)"
   ]
  },
  {
   "cell_type": "markdown",
   "metadata": {},
   "source": [
    "### b) Load the mnist dataset, extract image number 21, then display it with imshow. Then blur this image, and display the blurreded image with imshow. Try a few other images from the dataset."
   ]
  },
  {
   "cell_type": "code",
   "execution_count": null,
   "metadata": {},
   "outputs": [],
   "source": [
    "# COMPLETE"
   ]
  },
  {
   "cell_type": "markdown",
   "metadata": {},
   "source": [
    "# Problem 5: More Blur\n",
    "\n",
    "###  a) Same problem as above, but this time use the average of the intensity of pixels in the 7-by-7 patch surrounding each pixels. \n",
    "\n",
    "$$\n",
    "\\begin{bmatrix}\n",
    "o & o & o & o & o & o & o \\\\\n",
    "o & o & o & o & o & o & o \\\\\n",
    "o & o & o & o & o & o & o \\\\\n",
    "o & o & o & x & o & o & o \\\\\n",
    "o & o & o & o & o &o & o \\\\\n",
    "o & o & o & o & o & o & o \\\\\n",
    "o & o & o & o & o & o & o \n",
    "\\end{bmatrix}\n",
    "$$\n",
    "\n",
    "### Again, do not change the values of the pixels which are within 3 pixels of the boundaries.\n",
    "### To do this problem, you will need to extract the patch by slicing the image; then use np.mean().\n"
   ]
  },
  {
   "cell_type": "code",
   "execution_count": null,
   "metadata": {},
   "outputs": [],
   "source": [
    "def big_blur(im):\n",
    "\n",
    "    # COMPLETE\n",
    "    \n",
    "    return im_blurred"
   ]
  },
  {
   "cell_type": "code",
   "execution_count": null,
   "metadata": {},
   "outputs": [],
   "source": [
    "im = np.zeros((10,10))\n",
    "im[0:5,:]=1\n",
    "print(im)\n",
    "print('')\n",
    "\n",
    "np.set_printoptions(precision=1)\n",
    "im2 = big_blur(im)\n",
    "print(im2)"
   ]
  },
  {
   "cell_type": "markdown",
   "metadata": {},
   "source": [
    "### b) Load the mnist dataset, extract image number 21, then display it with imshow. Then blur this image, and display the blurreded image with imshow. Try a few other images from the dataset."
   ]
  },
  {
   "cell_type": "code",
   "execution_count": null,
   "metadata": {},
   "outputs": [],
   "source": [
    "# COMPLETE"
   ]
  }
 ],
 "metadata": {
  "kernelspec": {
   "display_name": "Python 3",
   "language": "python",
   "name": "python3"
  },
  "language_info": {
   "codemirror_mode": {
    "name": "ipython",
    "version": 3
   },
   "file_extension": ".py",
   "mimetype": "text/x-python",
   "name": "python",
   "nbconvert_exporter": "python",
   "pygments_lexer": "ipython3",
   "version": "3.7.6"
  }
 },
 "nbformat": 4,
 "nbformat_minor": 4
}
