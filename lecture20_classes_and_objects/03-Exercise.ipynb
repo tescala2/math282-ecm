{
 "cells": [
  {
   "cell_type": "markdown",
   "metadata": {},
   "source": [
    "# Exercise"
   ]
  },
  {
   "cell_type": "markdown",
   "metadata": {},
   "source": [
    "### Add a method called multiply_by_scalar() that multiplies the entries of the vector by the given scalar (so the entries of the vector are going to change)"
   ]
  },
  {
   "cell_type": "code",
   "execution_count": null,
   "metadata": {},
   "outputs": [],
   "source": [
    "class Vector:\n",
    "    \n",
    "    def __init__(self, list_of_nb):\n",
    "        self.entries = list_of_nb\n",
    "        self.length = len(list_of_nb)\n",
    "        \n",
    "    def norm(self):\n",
    "        s=0\n",
    "        for i in range(0,self.length):\n",
    "            s+= self.entries[i]**2\n",
    "        return s**0.5\n",
    "    \n",
    "    def threshold(self , max_val ):\n",
    "        for i in range(0,self.length):\n",
    "            if self.entries[i]>max_val:\n",
    "                self.entries[i]=max_val\n",
    "                \n",
    "    def display(self ):\n",
    "        for i in range(0,self.length):\n",
    "            print(self.entries[i])\n",
    "            \n",
    "    def multiply_by_scalar(self,scalar):\n",
    "        # COMPLETE HERE\n",
    "        # COMPLETE HERE\n",
    "        \n",
    "        \n",
    "        "
   ]
  },
  {
   "cell_type": "markdown",
   "metadata": {},
   "source": [
    "### Create the vector $ v= \\begin{bmatrix} 5\\\\ 2\\\\ 3 \\end{bmatrix} $ "
   ]
  },
  {
   "cell_type": "code",
   "execution_count": null,
   "metadata": {},
   "outputs": [],
   "source": [
    "v = # COMPLETE HERE\n",
    "print(v.entries)"
   ]
  },
  {
   "cell_type": "markdown",
   "metadata": {},
   "source": [
    "### Multiplies the vector $v$ by the scalar 10"
   ]
  },
  {
   "cell_type": "code",
   "execution_count": null,
   "metadata": {},
   "outputs": [],
   "source": [
    "# COMPLETE HERE\n",
    "print(v.entries)"
   ]
  },
  {
   "cell_type": "markdown",
   "metadata": {},
   "source": [
    "### Add a method that return the maximal entrie of the vector. Call this method \"get_max()\".\n",
    "#### (Hint: You need to loop over the entries of the vector. If an entry is greater than the current value of max_val, replace max_val by this entry.)"
   ]
  },
  {
   "cell_type": "code",
   "execution_count": null,
   "metadata": {},
   "outputs": [],
   "source": [
    "class Vector:\n",
    "    \n",
    "    def __init__(self, list_of_nb):\n",
    "        self.entries = list_of_nb\n",
    "        self.length = len(list_of_nb)\n",
    "        \n",
    "    def norm(self):\n",
    "        s=0\n",
    "        for i in range(0,self.length):\n",
    "            s+= self.entries[i]**2\n",
    "        return s**0.5\n",
    "    \n",
    "    def threshold(self , max_val ):\n",
    "        for i in range(0,self.length):\n",
    "            if self.entries[i]>max_val:\n",
    "                self.entries[i]=max_val\n",
    "                \n",
    "    def display(self ):\n",
    "        for i in range(0,self.length):\n",
    "            print(self.entries[i])\n",
    "            \n",
    "    def multiply_by_scalar(self,scalar):\n",
    "        for i in range(0,self.length):\n",
    "            self.entries[i] = self.entries[i] * scalar\n",
    "              \n",
    "    def get_max(self):\n",
    "        max_val=-10000\n",
    "        # COMPLETE HERE\n",
    "        # COMPLETE HERE\n",
    "        # COMPLETE HERE\n",
    "        return max_val\n",
    "        "
   ]
  },
  {
   "cell_type": "markdown",
   "metadata": {},
   "source": [
    "### Create the vector $ w= \\begin{bmatrix} 5\\\\ 2\\\\ 3  \\\\ 15 \\\\8\\end{bmatrix} $ "
   ]
  },
  {
   "cell_type": "code",
   "execution_count": null,
   "metadata": {},
   "outputs": [],
   "source": [
    "w = # COMPLETE HERE\n",
    "w.display()"
   ]
  },
  {
   "cell_type": "markdown",
   "metadata": {},
   "source": [
    "### Find the maximal value of $w$"
   ]
  },
  {
   "cell_type": "code",
   "execution_count": null,
   "metadata": {},
   "outputs": [],
   "source": [
    "max_value = # COMPLETE HERE\n",
    "print(max_value)"
   ]
  }
 ],
 "metadata": {
  "kernelspec": {
   "display_name": "Python 3",
   "language": "python",
   "name": "python3"
  },
  "language_info": {
   "codemirror_mode": {
    "name": "ipython",
    "version": 3
   },
   "file_extension": ".py",
   "mimetype": "text/x-python",
   "name": "python",
   "nbconvert_exporter": "python",
   "pygments_lexer": "ipython3",
   "version": "3.7.6"
  }
 },
 "nbformat": 4,
 "nbformat_minor": 2
}
