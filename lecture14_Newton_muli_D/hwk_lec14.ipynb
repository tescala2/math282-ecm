{
 "cells": [
  {
   "cell_type": "code",
   "execution_count": null,
   "metadata": {},
   "outputs": [],
   "source": [
    "import numpy as np\n",
    "import matplotlib.pyplot as plt\n",
    "from scipy import linalg"
   ]
  },
  {
   "cell_type": "markdown",
   "metadata": {},
   "source": [
    "# Problem 1\n",
    "\n",
    "### Consider the system below \n",
    "$$\n",
    "\\begin{align}\n",
    " \\cos(x_0) - x_1 = 0 \\\\\n",
    "0.2 x_0 - x_1 -0.1  =0\n",
    "\\end{align}\n",
    "$$\n",
    "### Remark 1 : I am using variables $x_0$ and $x_1$ for the two unknowns (as opposed to the more common $x_1$ and $x_2$) so that it is easier to translate in python which use 0-indexing.\n",
    "\n",
    "### Remark 2 : this example is quite artificial... you could easily reduce it to one equation with one unknown. But we are going to pretend we didn't notice it. The reason I am doing this is so that we can do some visualization and debugging. \n",
    "\n",
    "### a) What are the two functions that you should plot in order to visualize the solutions of this non-linear system? Plot these two functions. How many solutions? Get  very rough initial guesses for each solutions."
   ]
  },
  {
   "cell_type": "code",
   "execution_count": null,
   "metadata": {},
   "outputs": [],
   "source": [
    "# complete"
   ]
  },
  {
   "cell_type": "markdown",
   "metadata": {},
   "source": [
    "### b) write 3 Newton solvers with three different stopping criteria. The first solver should stop when a given number of iteration is reached. The second solver should stop when to successive iterate are within TOL of one another, that is\n",
    "$$\n",
    "\\text{stopping criteria:} \\qquad \\|x^{(k)} - x^{(k-1)} \\| < TOL\n",
    "$$\n",
    "### Remark: Note that $\\|x\\|$ stands for the norm of $x$ (you can use linalg.norm())\n",
    "\n",
    "### The last solver shouls stop when the vector F(x) is within TOL of the zero vector, that is\n",
    "$$\n",
    "\\text{stopping criteria:} \\qquad \\|F(x^{(k)}) \\| < TOL\n",
    "$$"
   ]
  },
  {
   "cell_type": "code",
   "execution_count": null,
   "metadata": {},
   "outputs": [],
   "source": [
    "def newton1(F,DF,x0,num_iter):\n",
    "    \"\"\"\n",
    "    Solve F(x)=0 with Newton's method.\n",
    "    The algo stop after num_iter iterations\n",
    "    \n",
    "    INPUTS \n",
    "    F (function): the input and output of this function are 1d-arrays\n",
    "    DF (function): Jacobian matrix of F. The input is a 1d-array \n",
    "                  and the output is a 2d-array.\n",
    "    x0 (1d-array): initial guess\n",
    "    num_iter (int): number of iterations\n",
    "    \n",
    "    OUTPUT\n",
    "    x (1d-array): solution of the system\n",
    "    \"\"\"\n",
    "    # complete\n",
    "    return x"
   ]
  },
  {
   "cell_type": "code",
   "execution_count": null,
   "metadata": {},
   "outputs": [],
   "source": [
    "def newton2(F,DF,x0,TOL):\n",
    "    \"\"\"\n",
    "    Solve F(x)=0 with Newton's method.\n",
    "    The algo stop when ||x^k-x^(k-1)|| < TOL\n",
    "    \n",
    "    INPUTS \n",
    "    F (function): the input and output of this function are 1d-arrays\n",
    "    DF (function): Jacobian matrix of F. The input is a 1d-array \n",
    "                  and the output is a 2d-array.\n",
    "    x0 (1d-array): initial guess\n",
    "    TOL (float): tolerance for the stopping criteria \n",
    "    \"\"\"\n",
    "    # complete\n",
    "    return x"
   ]
  },
  {
   "cell_type": "code",
   "execution_count": null,
   "metadata": {},
   "outputs": [],
   "source": [
    "def newton3(F,DF,x0,TOL):\n",
    "    \"\"\"\n",
    "    Solve F(x)=0 with Newton's method.\n",
    "    The algo stop when ||F(x)||<TOL\n",
    "    \n",
    "    INPUTS \n",
    "    F (function): the input and output of this function are 1d-arrays\n",
    "    DF (function): Jacobian matrix of F. The input is a 1d-array \n",
    "                  and the output is a 2d-array.\n",
    "    x0 (1d-array): initial guess\n",
    "    TOL (float): tolerance for the stopping criteria |\n",
    "    \"\"\"\n",
    "    # complete\n",
    "    return x"
   ]
  },
  {
   "cell_type": "markdown",
   "metadata": {},
   "source": [
    "### c) Try your three version of Newton's method with the three different stopping criteria on the above problem. There are multiple solutions. Make sure to find all solutions by trying different initial guesses (use the plots to decide on appropriate initial guesses). Use a tolerance of $10^{-8}$ for the two more sophisticated stopping criteria. How many iterations are required?"
   ]
  },
  {
   "cell_type": "code",
   "execution_count": null,
   "metadata": {},
   "outputs": [],
   "source": [
    "# complete"
   ]
  },
  {
   "cell_type": "markdown",
   "metadata": {},
   "source": [
    "### d) Try with initial guess (10,0), do 100 iterations. What is happening? What is the problem there? "
   ]
  },
  {
   "cell_type": "code",
   "execution_count": null,
   "metadata": {},
   "outputs": [],
   "source": [
    "# complete"
   ]
  },
  {
   "cell_type": "markdown",
   "metadata": {},
   "source": [
    "# Problem 2"
   ]
  },
  {
   "cell_type": "markdown",
   "metadata": {},
   "source": [
    "### The system below has two solutions. Find these two solutions with Newton's method. Then plug them back to double check.\n",
    "$$\n",
    "\\begin{align}\n",
    "x_0^2-x_1^2+2x_1 = 0 \\\\\n",
    "2x_0 + x_1^2 - 6 =0\n",
    "\\end{align}\n",
    "$$\n",
    "### Note that here we are quite blind when choosing our initial guess because we don't have any visual; but that's fine, just try various initial guesses. "
   ]
  },
  {
   "cell_type": "code",
   "execution_count": null,
   "metadata": {},
   "outputs": [],
   "source": [
    "# complete"
   ]
  },
  {
   "cell_type": "markdown",
   "metadata": {},
   "source": [
    "# Problem 3 \\[very important!!\\]\n",
    "### Consider the system below: \n",
    "$$\n",
    "\\begin{align}\n",
    "x_0 + 2x_1 -2 = 0 \\\\\n",
    "x_0 + x_1 -3 =0\n",
    "\\end{align}\n",
    "$$\n",
    "### a) Is this a linear or nonlinear system?\n",
    "### b) Use linalg.solve() to solve it. Check by hand it is the correct solution by plugging it back in the system."
   ]
  },
  {
   "cell_type": "code",
   "execution_count": null,
   "metadata": {},
   "outputs": [],
   "source": [
    "# complete"
   ]
  },
  {
   "cell_type": "markdown",
   "metadata": {},
   "source": [
    "### c) Use Newton's method to method to find the solution. How many iterates are needed?"
   ]
  },
  {
   "cell_type": "code",
   "execution_count": null,
   "metadata": {},
   "outputs": [],
   "source": [
    "# complete"
   ]
  },
  {
   "cell_type": "markdown",
   "metadata": {},
   "source": [
    "### d) Explain very precisely what is happening and why we need this specific number of iterations."
   ]
  },
  {
   "cell_type": "markdown",
   "metadata": {},
   "source": [
    " complete this markdown cell"
   ]
  },
  {
   "cell_type": "markdown",
   "metadata": {},
   "source": [
    "# Problem 4\n",
    "\n",
    "### The nonlinear system \n",
    "\\begin{align}\n",
    "& 3x_0 - \\cos(x_1x_2) - \\frac{1}{2} = 0 \\\\\n",
    "& x_0^2 - 81(x_1+0.1)^2+\\sin(x_2) +1.06 = 0\\\\\n",
    "& e^{-x_0x_1}+20x_2+ \\frac{10\\pi - 3}{3} = 0\n",
    "\\end{align}\n",
    "### has a solution (0.5, 0, -0.52359877). Use Newton's method with initial guess (0.1,0.1,-0.1) to recover this solution."
   ]
  },
  {
   "cell_type": "code",
   "execution_count": null,
   "metadata": {},
   "outputs": [],
   "source": [
    "# complete"
   ]
  },
  {
   "cell_type": "markdown",
   "metadata": {},
   "source": [
    "# Problem 5 \\[important problem!\\]\n",
    "\n",
    "### In this problem we are going to do something a little stupid, but that will force us to think about what Newton's method is about. Let's consider the nonlinear equation\n",
    "$$\n",
    "3x - e^x = 0\n",
    "$$\n",
    "### The graph of $f(x)=3x-e^x$ is given below and we see that there are two solutions"
   ]
  },
  {
   "cell_type": "code",
   "execution_count": null,
   "metadata": {},
   "outputs": [],
   "source": [
    "def f(x):\n",
    "    y = 3*x-np.exp(x)\n",
    "    return y"
   ]
  },
  {
   "cell_type": "code",
   "execution_count": null,
   "metadata": {},
   "outputs": [],
   "source": [
    "x = np.linspace(0,2,1000)\n",
    "y = f(x)\n",
    "plt.plot(x,y)\n",
    "plt.plot(x, np.zeros((1000,)),'black')\n",
    "plt.ylim(-1,0.5)\n",
    "plt.show()"
   ]
  },
  {
   "cell_type": "markdown",
   "metadata": {},
   "source": [
    "### Remember that the idea when doing newton's method is to replace $f(x)=0$ by a linear equation $L(x)=0$ where $L(x)$ is the linear approximation of $f(x)$ around our initial guess. Then we solve the linear equation $L(x)=0$ for x and that gives us our next guess. And then we iterate. \n",
    "\n",
    "### In this problem we are going to replace $f(x)=0$ by a quadratic equation $Q(x)=0$ where $Q(x)$ is the second order Taylor expansion of $f(x)$ around our initial guess (that is, $Q(x)$ is the parabola that best approximate $f(x)$ around our initial guess). Then we are going to solve $Q(x)=0$ and that's going to give us our next guess. And then we iterate.\n",
    "\n",
    "### Two things can go wrong with this algorithm. 1) when we solve Q(x)=0,  there might not be any solution, in which case there is nothing we can do and the algorithm fails. 2) if there are solutions, typically we get two of them. So which one should we pick? Well, what makes sense is to pick the solution which is the closest to out current guess."
   ]
  },
  {
   "cell_type": "markdown",
   "metadata": {},
   "source": [
    "### Below I am showing the quadratic approximation of $f(x)$ at $x = 1.75$. Take the time to understand this piece of code."
   ]
  },
  {
   "cell_type": "code",
   "execution_count": null,
   "metadata": {},
   "outputs": [],
   "source": [
    "def fprime(x):\n",
    "    \"\"\"\n",
    "    derivative of f\n",
    "    \"\"\"\n",
    "    y = 3-np.exp(x)\n",
    "    return y"
   ]
  },
  {
   "cell_type": "code",
   "execution_count": null,
   "metadata": {},
   "outputs": [],
   "source": [
    "def fprimeprime(x):\n",
    "    \"\"\"\n",
    "    second derivative of f\n",
    "    \"\"\"\n",
    "    y = -np.exp(x)\n",
    "    return y"
   ]
  },
  {
   "cell_type": "code",
   "execution_count": null,
   "metadata": {},
   "outputs": [],
   "source": [
    "def quad_approx(x_star, x):\n",
    "    \"\"\"\n",
    "    quadratic approximation of f(x) at x_star\n",
    "    \"\"\"\n",
    "    y = f(x_star) + fprime(x_star)*(x-x_star) + fprimeprime(x_star)*(x-x_star)**2/2\n",
    "    return y"
   ]
  },
  {
   "cell_type": "code",
   "execution_count": null,
   "metadata": {},
   "outputs": [],
   "source": [
    "x_star = 1.75\n",
    "\n",
    "x = np.linspace(0,2,1000)\n",
    "y = f(x)\n",
    "yquad = quad_approx(x_star,x)\n",
    "\n",
    "plt.plot(x,y)\n",
    "plt.plot(x,yquad,':')\n",
    "plt.plot(x, np.zeros((1000,)),'black')\n",
    "\n",
    "plt.legend(['f(x)','Q(x)','y=0'])\n",
    "plt.ylim(-1,0.5)\n",
    "\n",
    "plt.show()"
   ]
  },
  {
   "cell_type": "markdown",
   "metadata": {},
   "source": [
    "### a) Implement this weird version of Newton's method where we use a quadratic approximation instead of a linear one. Note that the algorithm can fail if at some point the quadratic equation has no solution. In this case just print \"FAIL!\". Remember that at each iteration you need to choose the solution of Q(x)=0 which is the closest to the previous iterate.\n",
    "\n",
    "Hint: To solve a quadratic like\n",
    "$$\n",
    "A (x-x_0)^2 + B(x-x_0) + C = 0\n",
    "$$\n",
    "start by setting $y = x-x_0$ then solve\n",
    "$$\n",
    "A y^2 + By + C = 0\n",
    "$$\n",
    "then let $x = x_0+y$."
   ]
  },
  {
   "cell_type": "code",
   "execution_count": null,
   "metadata": {},
   "outputs": [],
   "source": [
    "def weird_newton(f, first_der, second_der, x0, num_iter):\n",
    "    \"\"\"\n",
    "    Solve f(x)=0 using quadratic approximations\n",
    "    INPUT:  f (function): function for which we solve f(x)=0\n",
    "            first_der (function): first derivative of f(x)\n",
    "            second_der (function): second derivative of f(x)\n",
    "            x0 (float): initial guess\n",
    "            num_iter: number of iterations\n",
    "    OUTPUT: solution of f(x)=0\n",
    "    \"\"\"\n",
    "    \n",
    "    # complete\n",
    "        \n",
    "    return x\n",
    "        "
   ]
  },
  {
   "cell_type": "markdown",
   "metadata": {},
   "source": [
    "### b) Use your algorithm to find the two solutions of $3x-e^x=0$. Use different initial guesses. For some initial guesses your algorithm should work, for some other it should fail."
   ]
  },
  {
   "cell_type": "code",
   "execution_count": null,
   "metadata": {},
   "outputs": [],
   "source": [
    "# complete"
   ]
  },
  {
   "cell_type": "markdown",
   "metadata": {},
   "source": [
    "# Problem 6 \n",
    "\n",
    "### In this problem, we are going to use Newton's method to find the minimum of the function\n",
    "### $$\n",
    "f(x) = e^x + x^2\n",
    "$$\n",
    "### Note that we are NOT trying  to solve $e^x + x^2=0$. So we are using Newton's method for minimization, and not Newton's method for root finding."
   ]
  },
  {
   "cell_type": "markdown",
   "metadata": {},
   "source": [
    "### a) Plot f(x) on the interval \\[-5,5\\] and get a visual guess for the x-value of the minimum."
   ]
  },
  {
   "cell_type": "code",
   "execution_count": null,
   "metadata": {},
   "outputs": [],
   "source": [
    "# complete"
   ]
  },
  {
   "cell_type": "markdown",
   "metadata": {},
   "source": [
    "### c) Use Newton's method to find the x-value of the minimum "
   ]
  },
  {
   "cell_type": "code",
   "execution_count": null,
   "metadata": {},
   "outputs": [],
   "source": [
    "def newton_minimization(first_der, second_der, x0, num_iter):\n",
    "    \"\"\"\n",
    "    find the minimum of f(x)  \n",
    "    IMPUT:  first_der (function): first derivative of f(x)\n",
    "            second_der (function): second derivative of f(x)\n",
    "            x0 (float): initial guess\n",
    "            num_iter: number of iterations\n",
    "    OUTPUT: x-value of the minimum of f(x)\n",
    "    \"\"\"\n",
    "    # complete\n",
    "    return x"
   ]
  },
  {
   "cell_type": "code",
   "execution_count": null,
   "metadata": {},
   "outputs": [],
   "source": [
    "# complete"
   ]
  },
  {
   "cell_type": "markdown",
   "metadata": {},
   "source": [
    "# Problem 7\n",
    "\n",
    "### In this problem, we are going to use Newton's method to find the minimum of the function\n",
    "### $$\n",
    "f(x) = \\frac{1}{x}+\\log(x)\n",
    "$$"
   ]
  },
  {
   "cell_type": "markdown",
   "metadata": {},
   "source": [
    "### a) Plot $f(x)$ on the interval \\[0.1,10\\]."
   ]
  },
  {
   "cell_type": "code",
   "execution_count": null,
   "metadata": {},
   "outputs": [],
   "source": [
    "# complete"
   ]
  },
  {
   "cell_type": "markdown",
   "metadata": {},
   "source": [
    "### b) find the x-value of the minimum with pen and paper (by solving $f'(x)=0$)"
   ]
  },
  {
   "cell_type": "markdown",
   "metadata": {},
   "source": [
    "Write the solution in this markdown cell"
   ]
  },
  {
   "cell_type": "markdown",
   "metadata": {},
   "source": [
    "### c) Use Newton's method with initial guess 0.5. "
   ]
  },
  {
   "cell_type": "code",
   "execution_count": null,
   "metadata": {},
   "outputs": [],
   "source": [
    "# complete"
   ]
  },
  {
   "cell_type": "markdown",
   "metadata": {},
   "source": [
    "### d) Use Newton's method with initial guess 4. Something wrong should happen."
   ]
  },
  {
   "cell_type": "code",
   "execution_count": null,
   "metadata": {},
   "outputs": [],
   "source": [
    "# complete"
   ]
  },
  {
   "cell_type": "markdown",
   "metadata": {},
   "source": [
    "### e) Plot f(x) and its quadratic approximation around x=4 on the interval \\[0.1,20\\].\n",
    "### Then Plot f(x) and its quadratic approximation around x=10 on the interval \\[0.1,50\\].\n",
    "### Then try to understand why the algorithm was not working in the previous problem."
   ]
  },
  {
   "cell_type": "code",
   "execution_count": null,
   "metadata": {},
   "outputs": [],
   "source": [
    "# complete"
   ]
  }
 ],
 "metadata": {
  "kernelspec": {
   "display_name": "Python 3",
   "language": "python",
   "name": "python3"
  },
  "language_info": {
   "codemirror_mode": {
    "name": "ipython",
    "version": 3
   },
   "file_extension": ".py",
   "mimetype": "text/x-python",
   "name": "python",
   "nbconvert_exporter": "python",
   "pygments_lexer": "ipython3",
   "version": "3.7.6"
  }
 },
 "nbformat": 4,
 "nbformat_minor": 4
}
