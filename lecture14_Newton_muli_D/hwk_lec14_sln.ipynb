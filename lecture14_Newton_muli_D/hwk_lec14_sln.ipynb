{
 "cells": [
  {
   "cell_type": "code",
   "execution_count": 1,
   "metadata": {},
   "outputs": [],
   "source": [
    "import numpy as np\n",
    "import matplotlib.pyplot as plt\n",
    "from scipy import linalg"
   ]
  },
  {
   "cell_type": "markdown",
   "metadata": {},
   "source": [
    "# Problem 1\n",
    "\n",
    "### Consider the system below \n",
    "$$\n",
    "\\begin{align}\n",
    " \\cos(x_0) - x_1 = 0 \\\\\n",
    "0.2 x_0 - x_1 -0.1  =0\n",
    "\\end{align}\n",
    "$$\n",
    "### Remark: this example is quite artificial... you could easily reduce it to one equation with one unknown. But we are going to pretend we didn't notice it. The reason I am doing this is so that we can do some visualization and debugging. \n",
    "\n",
    "### a) What are the two functions that you should plot in order to visualize the solutions of this non-linear system? Plot these two functions. How many solutions? Get  very rough initial guesses for each solutions."
   ]
  },
  {
   "cell_type": "code",
   "execution_count": 2,
   "metadata": {},
   "outputs": [
    {
     "data": {
      "image/png": "[encoded data removed]",
      "text/plain": [
       "<Figure size 432x288 with 1 Axes>"
      ]
     },
     "metadata": {
      "needs_background": "light"
     },
     "output_type": "display_data"
    }
   ],
   "source": [
    "x = np.arange(-10,10,0.01)\n",
    "y = np.cos(x)\n",
    "plt.plot(x,y)\n",
    "\n",
    "xx = np.arange(-10,10,0.001)\n",
    "yy = 0.2*xx -0.1\n",
    "plt.plot(xx,yy)\n",
    "\n",
    "plt.xlim(-10,10)\n",
    "plt.ylim(-2,2)\n",
    "\n",
    "plt.show()"
   ]
  },
  {
   "cell_type": "markdown",
   "metadata": {},
   "source": [
    "### b) write 3 Newton solvers with three different stopping criteria. The first solver should stop when a given number of iteration is reached. The second solver should stop when to successive iterate are within TOL of one another, that is\n",
    "$$\n",
    "\\text{stopping criteria:} \\qquad \\|x^{(k)} - x^{(k-1)} \\| < TOL\n",
    "$$\n",
    "### The last solver shouls stop when the vector F(x) is within TOL of the zero vector, that is\n",
    "$$\n",
    "\\text{stopping criteria:} \\qquad \\|F(x^{(k)}) \\| < TOL\n",
    "$$"
   ]
  },
  {
   "cell_type": "code",
   "execution_count": 3,
   "metadata": {},
   "outputs": [],
   "source": [
    "def newton1(F,DF,x0,num_iter):\n",
    "    \"\"\"\n",
    "    Solve F(x)=0 with Newton's method.\n",
    "    The algo stop after num_iter iterations\n",
    "    \n",
    "    INPUTS \n",
    "    F (function): the input and output of this function are 1d-arrays\n",
    "    DF (function): Jacobian matrix of F. The input is a 1d-array \n",
    "                  and the output is a 2d-array.\n",
    "    x0 (1d-array): initial guess\n",
    "    num_iter (int): number of iterations\n",
    "    \n",
    "    OUTPUT\n",
    "    x (1d-array): solution of the system\n",
    "    \"\"\"\n",
    "    x = x0\n",
    "    for i in range(0,num_iter):\n",
    "        y = linalg.solve(DF(x),-F(x))\n",
    "        x = x+y\n",
    "        print(x)\n",
    "    return x"
   ]
  },
  {
   "cell_type": "code",
   "execution_count": 4,
   "metadata": {},
   "outputs": [],
   "source": [
    "def newton2(F,DF,x0,TOL):\n",
    "    \"\"\"\n",
    "    Solve F(x)=0 with Newton's method.\n",
    "    The algo stop when ||x^k-x^(k-1)|| < TOL\n",
    "    \n",
    "    INPUTS \n",
    "    F (function): the input and output of this function are 1d-arrays\n",
    "    DF (function): Jacobian matrix of F. The input is a 1d-array \n",
    "                  and the output is a 2d-array.\n",
    "    x0 (1d-array): initial guess\n",
    "    TOL (float): tolerance for the stopping criteria \n",
    "    \"\"\"\n",
    "    d = x0.shape[0]\n",
    "    x = x0\n",
    "    y = np.ones( (d,) )\n",
    "    while linalg.norm(y)> TOL:\n",
    "        y = linalg.solve(DF(x),-F(x))\n",
    "        x = x+y\n",
    "        print(x)\n",
    "    return x"
   ]
  },
  {
   "cell_type": "code",
   "execution_count": 5,
   "metadata": {},
   "outputs": [],
   "source": [
    "def newton3(F,DF,x0,TOL):\n",
    "    \"\"\"\n",
    "    Solve F(x)=0 with Newton's method.\n",
    "    The algo stop when ||F(x)||<TOL\n",
    "    \n",
    "    INPUTS \n",
    "    F (function): the input and output of this function are 1d-arrays\n",
    "    DF (function): Jacobian matrix of F. The input is a 1d-array \n",
    "                  and the output is a 2d-array.\n",
    "    x0 (1d-array): initial guess\n",
    "    TOL (float): tolerance for the stopping criteria |\n",
    "    \"\"\"\n",
    "    x = x0\n",
    "    while linalg.norm(F(x))> TOL:\n",
    "        y = linalg.solve(DF(x),-F(x))\n",
    "        x = x+y\n",
    "        print(x)\n",
    "    return x"
   ]
  },
  {
   "cell_type": "markdown",
   "metadata": {},
   "source": [
    "### c) Try your three version of Newton's method with the three different stopping criteria on the above problem. There are multiple solutions. Make sure to find all solutions by trying different initial guesses (use the plots to decide on appropriate initial guesses). Use a tolerance of $10^{-8}$ for the two more sophisticated stopping criteria. How many iterations are required?"
   ]
  },
  {
   "cell_type": "code",
   "execution_count": 6,
   "metadata": {},
   "outputs": [],
   "source": [
    "def F(x):\n",
    "    y0 = np.cos(x[0]) - x[1] \n",
    "    y1 = 0.2*x[0] - x[1] - 0.1 \n",
    "    y = np.array([y0,y1])\n",
    "    return y"
   ]
  },
  {
   "cell_type": "code",
   "execution_count": 7,
   "metadata": {},
   "outputs": [],
   "source": [
    "def DF(x):\n",
    "    df0dx0 = -np.sin(x[0])\n",
    "    df0dx1 = -1\n",
    "    df1dx0 = 0.2\n",
    "    df1dx1 = -1\n",
    "    jacobian = np.array( [ [df0dx0,df0dx1],[df1dx0,df1dx1]])\n",
    "    return jacobian"
   ]
  },
  {
   "cell_type": "code",
   "execution_count": 8,
   "metadata": {},
   "outputs": [
    {
     "name": "stdout",
     "output_type": "stream",
     "text": [
      "[1.42276963 0.18455393]\n",
      "[1.39159618 0.17831924]\n",
      "[1.39153144 0.17830629]\n",
      "[1.39153144 0.17830629]\n",
      "[1.39153144 0.17830629]\n"
     ]
    },
    {
     "data": {
      "text/plain": [
       "array([1.39153144, 0.17830629])"
      ]
     },
     "execution_count": 8,
     "metadata": {},
     "output_type": "execute_result"
    }
   ],
   "source": [
    "x0 = np.array([1,0])\n",
    "#x0 = np.array([-2.5,-0.5])\n",
    "#x0 = np.array([-5,-1])\n",
    "\n",
    "newton1(F,DF,x0,5)"
   ]
  },
  {
   "cell_type": "code",
   "execution_count": 9,
   "metadata": {},
   "outputs": [
    {
     "name": "stdout",
     "output_type": "stream",
     "text": [
      "[1.42276963 0.18455393]\n",
      "[1.39159618 0.17831924]\n",
      "[1.39153144 0.17830629]\n",
      "[1.39153144 0.17830629]\n"
     ]
    },
    {
     "data": {
      "text/plain": [
       "array([1.39153144, 0.17830629])"
      ]
     },
     "execution_count": 9,
     "metadata": {},
     "output_type": "execute_result"
    }
   ],
   "source": [
    "newton2(F,DF,x0,1e-8)"
   ]
  },
  {
   "cell_type": "code",
   "execution_count": 10,
   "metadata": {},
   "outputs": [
    {
     "name": "stdout",
     "output_type": "stream",
     "text": [
      "[1.42276963 0.18455393]\n",
      "[1.39159618 0.17831924]\n",
      "[1.39153144 0.17830629]\n"
     ]
    },
    {
     "data": {
      "text/plain": [
       "array([1.39153144, 0.17830629])"
      ]
     },
     "execution_count": 10,
     "metadata": {},
     "output_type": "execute_result"
    }
   ],
   "source": [
    "newton3(F,DF,x0,1e-8)"
   ]
  },
  {
   "cell_type": "markdown",
   "metadata": {},
   "source": [
    "### c) Try with initial guess (10,0), do 100 iterations. What is happening? What is the problem there? "
   ]
  },
  {
   "cell_type": "code",
   "execution_count": 11,
   "metadata": {},
   "outputs": [
    {
     "name": "stdout",
     "output_type": "stream",
     "text": [
      "[17.96192862  3.49238572]\n",
      "[22.93282897  4.48656579]\n",
      "[31.27234479  6.15446896]\n",
      "[-59.47902622 -11.99580524]\n",
      "[-1199.25709115  -239.95141823]\n",
      "[-942.94816056 -188.68963211]\n",
      "[-1691.65524717  -338.43104943]\n",
      "[-2117.07771536  -423.51554307]\n",
      "[-1342.92089509  -268.68417902]\n",
      "[-1117.97664834  -223.69532967]\n",
      "[-754.05457011 -150.91091402]\n",
      "[435.23943059  86.94788612]\n",
      "[362.1710359   72.33420718]\n",
      "[488.90490426  97.68098085]\n",
      "[622.94034062 124.48806812]\n",
      "[497.36492338  99.37298468]\n",
      "[402.13962721  80.32792544]\n",
      "[34.48337888  6.79667578]\n",
      "[6.04589854 1.10917971]\n",
      "[9.95849891 1.89169978]\n",
      "[18.87414697  3.67482939]\n",
      "[6.9628917  1.29257834]\n",
      "[6.34155091 1.16831018]\n",
      "[5.683434  1.0366868]\n",
      "[6.26298732 1.15259746]\n",
      "[5.41316218 0.98263244]\n",
      "[6.01177518 1.10235504]\n",
      "[8.05261511 1.51052302]\n",
      "[6.60569557 1.22113911]\n",
      "[6.07818387 1.11563677]\n",
      "[44.35009958  8.77001992]\n",
      "[30.34477357  5.96895471]\n",
      "[38.444831   7.5889662]\n",
      "[30.64248167  6.02849633]\n",
      "[41.29820403  8.15964081]\n",
      "[78.76849436 15.65369887]\n",
      "[701.75721044 140.25144209]\n",
      "[895.62746559 179.02549312]\n",
      "[3461.02152208  692.10430442]\n",
      "[4527.06401696  905.31280339]\n",
      "[-772.979564  -154.6959128]\n",
      "[2177.50076672  435.40015334]\n",
      "[4771.82199622  954.26439924]\n",
      "[2669.7175889   533.84351778]\n",
      "[4022.20942452  804.3418849 ]\n",
      "[3238.30679853  647.56135971]\n",
      "[2452.50901444  490.40180289]\n",
      "[1997.78964485  399.45792897]\n",
      "[8611.58962959 1722.21792592]\n",
      "[15102.34181054  3020.36836211]\n",
      "[21834.84601704  4366.86920341]\n",
      "[16990.00333002  3397.900666  ]\n",
      "[9715.75913958 1943.05182792]\n",
      "[7991.68133799 1598.2362676 ]\n",
      "[13214.33297138  2642.76659428]\n",
      "[10321.62083023  2064.22416605]\n",
      "[12912.84249995  2582.46849999]\n",
      "[10281.71024562  2056.24204912]\n",
      "[7893.38388825 1578.57677765]\n",
      "[6568.13555913 1313.52711183]\n",
      "[5259.78254738 1051.85650948]\n",
      "[4073.86221165  814.67244233]\n",
      "[3173.61996521  634.62399304]\n",
      "[2354.75259527  470.85051905]\n",
      "[2949.32095194  589.76419039]\n",
      "[2204.41888808  440.78377762]\n",
      "[2903.16129188  580.53225838]\n",
      "[1796.53233887  359.20646777]\n",
      "[3272.60068612  654.42013722]\n",
      "[4349.95451439  869.89090288]\n",
      "[3568.22517272  713.54503454]\n",
      "[5422.60049273 1084.42009855]\n",
      "[2780.04337544  555.90867509]\n",
      "[1577.27440964  315.35488193]\n",
      "[778.69439347 155.63887869]\n",
      "[1521.51888247  304.20377649]\n",
      "[1228.11914297  245.52382859]\n",
      "[669.40689718 133.78137944]\n",
      "[3654.72000498  730.844001  ]\n",
      "[4752.3374624   950.36749248]\n",
      "[3780.41552863  755.98310573]\n",
      "[4889.9881153   977.89762306]\n",
      "[4071.64162827  814.22832565]\n",
      "[1659.30277699  331.7605554 ]\n",
      "[1196.97029892  239.29405978]\n",
      "[-164.43473445  -32.98694689]\n",
      "[-213.78505142  -42.85701028]\n",
      "[785.18036746 156.93607349]\n",
      "[10485.27844901  2096.9556898 ]\n",
      "[13182.37495868  2636.37499174]\n",
      "[7319.65813142 1463.83162628]\n",
      "[36536.64848991  7307.22969798]\n",
      "[-21450.99000535  -4290.29800107]\n",
      "[709130.02996343 141825.90599269]\n",
      "[2041989.4967489   408397.79934978]\n",
      "[2562421.94905333  512484.28981067]\n",
      "[1981478.34982218  396295.56996444]\n",
      "[1370293.91460685  274058.68292137]\n",
      "[831878.09646105 166375.51929221]\n",
      "[-444967.06143262  -88993.51228652]\n"
     ]
    },
    {
     "data": {
      "text/plain": [
       "array([-444967.06143262,  -88993.51228652])"
      ]
     },
     "execution_count": 11,
     "metadata": {},
     "output_type": "execute_result"
    }
   ],
   "source": [
    "x0 = np.array([10,0])\n",
    "newton1(F,DF,x0,100)"
   ]
  },
  {
   "cell_type": "markdown",
   "metadata": {},
   "source": [
    "# Problem 2"
   ]
  },
  {
   "cell_type": "markdown",
   "metadata": {},
   "source": [
    "### The system below has two solutions. Find these two solutions with Newton's method. Then plug them back to double check.\n",
    "$$\n",
    "\\begin{align}\n",
    "x_0^2-x_1^2+2x_1 = 0 \\\\\n",
    "2x_0 + x_1^2 - 6 =0\n",
    "\\end{align}\n",
    "$$\n",
    "### Note that here we are quite blind when choosing our initial guess because we don't have any visual; but that's fine, just try various initial guesses. "
   ]
  },
  {
   "cell_type": "code",
   "execution_count": 12,
   "metadata": {},
   "outputs": [],
   "source": [
    "def F(x):\n",
    "    y0 = x[0]**2 - x[1]**2 + 2*x[1]\n",
    "    y1 = 2*x[0] + x[1]**2 - 6\n",
    "    y = np.array([y0,y1])\n",
    "    return y"
   ]
  },
  {
   "cell_type": "code",
   "execution_count": 13,
   "metadata": {},
   "outputs": [],
   "source": [
    "def DF(x):\n",
    "    df1dx1 = 2*x[0]\n",
    "    df1dx2 = -2*x[1]+2\n",
    "    df2dx1 = 2.\n",
    "    df2dx2 = 2*x[1]\n",
    "    jacobian = np.array( [ [df1dx1,df1dx2],[df2dx1,df2dx2]])\n",
    "    return jacobian"
   ]
  },
  {
   "cell_type": "code",
   "execution_count": 14,
   "metadata": {},
   "outputs": [
    {
     "name": "stdout",
     "output_type": "stream",
     "text": [
      "[3. 0.]\n",
      "[ 3.  -4.5]\n",
      "[ 2.46710526 -2.36842105]\n",
      "[ 2.18397176 -1.52875578]\n",
      "[ 2.11344873 -1.34429476]\n",
      "[ 2.10952312 -1.33455931]\n",
      "[ 2.10951192 -1.33453219]\n",
      "[ 2.10951192 -1.33453219]\n",
      "[ 2.10951192 -1.33453219]\n",
      "[ 2.10951192 -1.33453219]\n"
     ]
    },
    {
     "data": {
      "text/plain": [
       "array([ 2.10951192, -1.33453219])"
      ]
     },
     "execution_count": 14,
     "metadata": {},
     "output_type": "execute_result"
    }
   ],
   "source": [
    "x0 = np.array([0,0])\n",
    "newton1(F,DF,x0,10)"
   ]
  },
  {
   "cell_type": "code",
   "execution_count": 15,
   "metadata": {},
   "outputs": [
    {
     "data": {
      "text/plain": [
       "array([-5.52410917e-09,  6.14619644e-09])"
      ]
     },
     "execution_count": 15,
     "metadata": {},
     "output_type": "execute_result"
    }
   ],
   "source": [
    "F([ 2.10951192 , -1.33453219])"
   ]
  },
  {
   "cell_type": "code",
   "execution_count": 16,
   "metadata": {},
   "outputs": [
    {
     "name": "stdout",
     "output_type": "stream",
     "text": [
      "[0.  3.5]\n",
      "[0.55 2.45]\n",
      "[0.61458892 2.19863718]\n",
      "[0.62517978 2.17945143]\n",
      "[0.62520409 2.17935583]\n",
      "[0.6252041  2.17935582]\n",
      "[0.6252041  2.17935582]\n",
      "[0.6252041  2.17935582]\n",
      "[0.6252041  2.17935582]\n",
      "[0.6252041  2.17935582]\n"
     ]
    },
    {
     "data": {
      "text/plain": [
       "array([0.6252041 , 2.17935582])"
      ]
     },
     "execution_count": 16,
     "metadata": {},
     "output_type": "execute_result"
    }
   ],
   "source": [
    "x0 = np.array([1,1])\n",
    "newton1(F,DF,x0,10)"
   ]
  },
  {
   "cell_type": "code",
   "execution_count": 17,
   "metadata": {},
   "outputs": [
    {
     "data": {
      "text/plain": [
       "array([ 1.64889373e-08, -9.83212711e-09])"
      ]
     },
     "execution_count": 17,
     "metadata": {},
     "output_type": "execute_result"
    }
   ],
   "source": [
    "F([0.6252041, 2.17935582])"
   ]
  },
  {
   "cell_type": "markdown",
   "metadata": {},
   "source": [
    "# Problem 3 \\[very important!!\\]\n",
    "### Consider the system below: \n",
    "$$\n",
    "\\begin{align}\n",
    "x_0 + 2x_1 -2 = 0 \\\\\n",
    "x_0 + x_1 -3 =0\n",
    "\\end{align}\n",
    "$$\n",
    "### a) Is this a linear or nonlinear system?\n",
    "### b) Use linalg.solve() to solve it. Check by hand it is the correct solution by plugging it back in the system."
   ]
  },
  {
   "cell_type": "code",
   "execution_count": 18,
   "metadata": {},
   "outputs": [
    {
     "data": {
      "text/plain": [
       "array([ 4., -1.])"
      ]
     },
     "execution_count": 18,
     "metadata": {},
     "output_type": "execute_result"
    }
   ],
   "source": [
    "A = np.array([[1,2],[1,1]])\n",
    "b = np.array([2,3])\n",
    "linalg.solve(A,b)"
   ]
  },
  {
   "cell_type": "markdown",
   "metadata": {},
   "source": [
    "### c) Use Newton's method to method to find the solution. How many iterates are needed?"
   ]
  },
  {
   "cell_type": "code",
   "execution_count": 19,
   "metadata": {},
   "outputs": [],
   "source": [
    "def F(x):\n",
    "    y0 = x[0]+2*x[1] - 2 \n",
    "    y1 = x[0] + x[1] - 3\n",
    "    y = np.array([y0,y1])\n",
    "    return y"
   ]
  },
  {
   "cell_type": "code",
   "execution_count": 20,
   "metadata": {},
   "outputs": [],
   "source": [
    "def DF(x):\n",
    "    df1dx1 = 1\n",
    "    df1dx2 = 2\n",
    "    df2dx1 = 1\n",
    "    df2dx2 = 1\n",
    "    jacobian = np.array( [ [df1dx1,df1dx2],[df2dx1,df2dx2]])\n",
    "    return jacobian"
   ]
  },
  {
   "cell_type": "code",
   "execution_count": 21,
   "metadata": {},
   "outputs": [
    {
     "name": "stdout",
     "output_type": "stream",
     "text": [
      "[ 4. -1.]\n",
      "[ 4. -1.]\n",
      "[ 4. -1.]\n",
      "[ 4. -1.]\n",
      "[ 4. -1.]\n"
     ]
    },
    {
     "data": {
      "text/plain": [
       "array([ 4., -1.])"
      ]
     },
     "execution_count": 21,
     "metadata": {},
     "output_type": "execute_result"
    }
   ],
   "source": [
    "x0 = np.array([1,1])\n",
    "newton1(F,DF,x0,5)"
   ]
  },
  {
   "cell_type": "markdown",
   "metadata": {},
   "source": [
    "### d) Explain very precisely what is happening and why we need this specific number of iterations."
   ]
  },
  {
   "cell_type": "markdown",
   "metadata": {},
   "source": [
    "In this problem we have $F(x) = Ax-b$ where \n",
    "$$\n",
    "A = \\begin{bmatrix}\n",
    "1 & 2 \\\\\n",
    "1 & 1\n",
    "\\end{bmatrix} \\quad \\text{and} \\quad \n",
    "b = \\begin{bmatrix}\n",
    "2 \\\\\n",
    " 3\n",
    "\\end{bmatrix}\n",
    "$$\n",
    "As you have computed, the Jacobian matrix is $DF(x^{(0)})=A$.\n",
    "\n",
    "Recall that the idea behind Newton's method is to replace the nonlinear system of equation $$F(x)=0$$ by the linear system  $$ F(x^{(0)}) + DF(x^{(0)}) (x-x^{(0)})=0$$ \n",
    "\n",
    "But since $DF(x^{(0)})=A$ and $F(x^{(0)}) = Ax^{(0)}-b$, the above equation is equivalent to:\n",
    "$$ (Ax^{(0)}-b) + A (x-x^{(0)})=0$$ \n",
    "which is equivalent $Ax = b$ due to the cancellation of the terms $Ax^{(0)}$. "
   ]
  },
  {
   "cell_type": "markdown",
   "metadata": {},
   "source": [
    "# Problem 4\n",
    "\n",
    "### The nonlinear system \n",
    "\\begin{align}\n",
    "& 3x_0 - \\cos(x_1x_2) - \\frac{1}{2} = 0 \\\\\n",
    "& x_0^2 - 81(x_1+0.1)^2+\\sin(x_2) +1.06 = 0\\\\\n",
    "& e^{-x_0x_1}+20x_2+ \\frac{10\\pi - 3}{3} = 0\n",
    "\\end{align}\n",
    "### has a solution (0.5, 0, -0.52359877). Use Newton's method with initial guess (0.1,0.1,-0.1) to recover this solution."
   ]
  },
  {
   "cell_type": "code",
   "execution_count": 22,
   "metadata": {},
   "outputs": [],
   "source": [
    "def F(x):\n",
    "    \n",
    "    y0 = 3*x[0]-np.cos(x[1]*x[2])-0.5\n",
    "    y1 = x[0]**2 - 81*(x[1]+0.1)**2 + np.sin(x[2]) + 1.06\n",
    "    y2 = np.exp(-x[0]*x[1]) + 20*x[2] + (10*np.pi - 3)/3\n",
    "    \n",
    "    y = np.array([y0,y1,y2])\n",
    "    \n",
    "    return y"
   ]
  },
  {
   "cell_type": "code",
   "execution_count": 23,
   "metadata": {},
   "outputs": [],
   "source": [
    "def DF(x):\n",
    "    \n",
    "    # 1st row\n",
    "    a0 = 3\n",
    "    b0 = np.sin(x[1]*x[2]) * x[2]\n",
    "    c0 = np.sin(x[1]*x[2]) * x[1]\n",
    "    \n",
    "    # 2nd row\n",
    "    a1 = 2*x[0]\n",
    "    b1 = - 2*81*(x[1]+0.1)\n",
    "    c1 = np.cos(x[2])\n",
    "    \n",
    "    # 3rd row\n",
    "    a2 = -x[1] * np.exp(-x[0]*x[1])\n",
    "    b2 = -x[0] * np.exp(-x[0]*x[1])\n",
    "    c2 = 20\n",
    "    \n",
    "    jacobian = np.array([ [a0,b0,c0],\n",
    "                          [a1,b1,c1],\n",
    "                          [a2,b2,c2]  ])\n",
    "    \n",
    "    return jacobian"
   ]
  },
  {
   "cell_type": "code",
   "execution_count": 24,
   "metadata": {},
   "outputs": [
    {
     "name": "stdout",
     "output_type": "stream",
     "text": [
      "[ 0.49986967  0.01946685 -0.52152047]\n",
      "[ 0.50001424  0.00158859 -0.52355696]\n",
      "[ 5.00000113e-01  1.24447833e-05 -5.23598450e-01]\n",
      "[ 5.00000000e-01  7.75785717e-10 -5.23598776e-01]\n",
      "[ 5.00000000e-01  4.28187294e-18 -5.23598776e-01]\n"
     ]
    }
   ],
   "source": [
    "x0 = np.array([.1,.1,-.1])\n",
    "xstar  = newton2(F,DF,x0,1e-8)"
   ]
  },
  {
   "cell_type": "markdown",
   "metadata": {},
   "source": [
    "### So the solution is (0.5,0,-0.5236). Let's check it is the correct solution:"
   ]
  },
  {
   "cell_type": "code",
   "execution_count": 25,
   "metadata": {},
   "outputs": [
    {
     "data": {
      "text/plain": [
       "array([ 0.00000000e+00,  0.00000000e+00, -1.77635684e-15])"
      ]
     },
     "execution_count": 25,
     "metadata": {},
     "output_type": "execute_result"
    }
   ],
   "source": [
    "F(xstar)"
   ]
  },
  {
   "cell_type": "markdown",
   "metadata": {},
   "source": [
    "# Problem 5 \\[important problem!\\]\n",
    "\n",
    "### In this problem we are going to do something a little stupid, but that will force us to think about what Newton's method is about. Let's consider the nonlinear equation\n",
    "$$\n",
    "3x - e^x = 0\n",
    "$$\n",
    "### The graph of $f(x)=3x-e^x$ is given below and we see that there are two solutions"
   ]
  },
  {
   "cell_type": "code",
   "execution_count": 26,
   "metadata": {},
   "outputs": [],
   "source": [
    "def f(x):\n",
    "    y = 3*x-np.exp(x)\n",
    "    return y"
   ]
  },
  {
   "cell_type": "code",
   "execution_count": 27,
   "metadata": {},
   "outputs": [
    {
     "data": {
      "image/png": "[encoded data removed]",
      "text/plain": [
       "<Figure size 432x288 with 1 Axes>"
      ]
     },
     "metadata": {
      "needs_background": "light"
     },
     "output_type": "display_data"
    }
   ],
   "source": [
    "x = np.linspace(0,2,1000)\n",
    "y = f(x)\n",
    "plt.plot(x,y)\n",
    "plt.plot(x, np.zeros((1000,)),'black')\n",
    "plt.ylim(-1,0.5)\n",
    "plt.show()"
   ]
  },
  {
   "cell_type": "markdown",
   "metadata": {},
   "source": [
    "### Remember that the idea when doing newton's method is to replace $f(x)=0$ by a linear equation $L(x)=0$ where $L(x)$ is the linear approximation of $f(x)$ around our initial guess. Then we solve the linear equation $L(x)=0$ for x and that gives us our next guess. And then we iterate. \n",
    "\n",
    "### In this problem we are going to replace $f(x)=0$ by a quadratic equation $Q(x)=0$ where $Q(x)$ is the second order Taylor expansion of $f(x)$ around our initial guess (that is, $Q(x)$ is the parabola that best approximate $f(x)$ around our initial guess). Then we are going to solve $Q(x)=0$ and that's going to give us our next guess. And then we iterate.\n",
    "\n",
    "### Two things can go wrong with this algorithm. 1) when we solve Q(x)=0,  there might not be any solution, in which case there is nothing we can do and the algorithm fails. 2) if there are solutions, typically we get two of them. So which one should we pick? Well, what makes sense is to pick the solution which is the closest to out current guess."
   ]
  },
  {
   "cell_type": "markdown",
   "metadata": {},
   "source": [
    "### Below I am showing the quadratic approximation of $f(x)$ at $x = 1.75$. Take the time to understand this piece of code."
   ]
  },
  {
   "cell_type": "code",
   "execution_count": 28,
   "metadata": {},
   "outputs": [],
   "source": [
    "def fprime(x):\n",
    "    \"\"\"\n",
    "    derivative of f\n",
    "    \"\"\"\n",
    "    y = 3-np.exp(x)\n",
    "    return y"
   ]
  },
  {
   "cell_type": "code",
   "execution_count": 29,
   "metadata": {},
   "outputs": [],
   "source": [
    "def fprimeprime(x):\n",
    "    \"\"\"\n",
    "    second derivative of f\n",
    "    \"\"\"\n",
    "    y = -np.exp(x)\n",
    "    return y"
   ]
  },
  {
   "cell_type": "code",
   "execution_count": 30,
   "metadata": {},
   "outputs": [],
   "source": [
    "def quad_approx(x_star, x):\n",
    "    \"\"\"\n",
    "    quadratic approximation of f(x) at x_star\n",
    "    \"\"\"\n",
    "    y = f(x_star) + fprime(x_star)*(x-x_star) + fprimeprime(x_star)*(x-x_star)**2/2\n",
    "    return y"
   ]
  },
  {
   "cell_type": "code",
   "execution_count": 31,
   "metadata": {},
   "outputs": [
    {
     "data": {
      "image/png": "[encoded data removed]",
      "text/plain": [
       "<Figure size 432x288 with 1 Axes>"
      ]
     },
     "metadata": {
      "needs_background": "light"
     },
     "output_type": "display_data"
    }
   ],
   "source": [
    "x_star = 1.75\n",
    "\n",
    "x = np.linspace(0,2,1000)\n",
    "y = f(x)\n",
    "yquad = quad_approx(x_star,x)\n",
    "\n",
    "plt.plot(x,y)\n",
    "plt.plot(x,yquad,':')\n",
    "plt.plot(x, np.zeros((1000,)),'black')\n",
    "plt.legend(['f(x)','Q(x)','y=0'])\n",
    "plt.ylim(-1,0.5)\n",
    "plt.show()"
   ]
  },
  {
   "cell_type": "markdown",
   "metadata": {},
   "source": [
    "### a) Implement this weird version of Newton's method where we use a quadratic approximation instead of a linear one. Note that the algorithm can fail if at some point the quadratic equation has no solution. In this case just print \"FAIL!\". Remember that at each iteration you need to choose the solution of Q(x)=0 which is the closest to the previous iterate.\n",
    "\n",
    "Hint: To solve a quadratic like\n",
    "$$\n",
    "A (x-x_0)^2 + B(x-x_0) + C = 0\n",
    "$$\n",
    "start by setting $y = x-x_0$ then solve\n",
    "$$\n",
    "A y^2 + By + C = 0\n",
    "$$\n",
    "then let $x = x_0+y$."
   ]
  },
  {
   "cell_type": "code",
   "execution_count": 32,
   "metadata": {},
   "outputs": [],
   "source": [
    "def weird_newton(f, first_der, second_der, x0, num_iter):\n",
    "    \"\"\"\n",
    "    Solve f(x)=0 using quadratic approximations\n",
    "    INPUT:  f (function): function for which we solve f(x)=0\n",
    "            first_der (function): first derivative of f(x)\n",
    "            second_der (function): second derivative of f(x)\n",
    "            x0 (float): initial guess\n",
    "            num_iter: number of iterations\n",
    "    OUTPUT: solution of f(x)=0\n",
    "    \"\"\"\n",
    "    \n",
    "    x = x0\n",
    "    for i in range(0,num_iter):\n",
    "        \n",
    "        C = f(x)\n",
    "        B = first_der(x)\n",
    "        A = second_der(x)/2\n",
    "        \n",
    "        det = B**2 - 4*A*C\n",
    "        \n",
    "        if det<0:\n",
    "            print('determinant negative!FAIL!')\n",
    "            \n",
    "        y1 = (-B + det**0.5)/(2*A)\n",
    "        y2 = (-B - det**0.5)/(2*A)\n",
    "        \n",
    "        if np.abs(y1)<np.abs(y2):\n",
    "            x = x+y1\n",
    "        else:\n",
    "            x = x+y2\n",
    "            \n",
    "        print(x)\n",
    "        \n",
    "    return x\n",
    "        "
   ]
  },
  {
   "cell_type": "markdown",
   "metadata": {},
   "source": [
    "### b) Use your algorithm to find the two solutions of $3x-e^x=0$. Use different initial guesses. For some initial guesses your algorithm should work, for some other it should fail."
   ]
  },
  {
   "cell_type": "code",
   "execution_count": 33,
   "metadata": {},
   "outputs": [],
   "source": [
    "def f(x):\n",
    "    y = 3*x-np.exp(x)\n",
    "    return y"
   ]
  },
  {
   "cell_type": "code",
   "execution_count": 34,
   "metadata": {},
   "outputs": [],
   "source": [
    "def fprime(x):\n",
    "    y = 3-np.exp(x)\n",
    "    return y"
   ]
  },
  {
   "cell_type": "code",
   "execution_count": 35,
   "metadata": {},
   "outputs": [],
   "source": [
    "def fprimeprime(x):\n",
    "    y = -np.exp(x)\n",
    "    return y"
   ]
  },
  {
   "cell_type": "code",
   "execution_count": 36,
   "metadata": {},
   "outputs": [
    {
     "name": "stdout",
     "output_type": "stream",
     "text": [
      "0.5857864376269049\n",
      "0.6190515623769764\n",
      "0.6190612867359448\n",
      "0.6190612867359451\n",
      "0.6190612867359451\n",
      "0.6190612867359451\n",
      "0.6190612867359451\n",
      "0.6190612867359451\n",
      "0.6190612867359451\n",
      "0.6190612867359451\n"
     ]
    },
    {
     "data": {
      "text/plain": [
       "0.6190612867359451"
      ]
     },
     "execution_count": 36,
     "metadata": {},
     "output_type": "execute_result"
    }
   ],
   "source": [
    "x0=0\n",
    "weird_newton(f,fprime,fprimeprime, x0, 10)"
   ]
  },
  {
   "cell_type": "code",
   "execution_count": 37,
   "metadata": {},
   "outputs": [
    {
     "name": "stdout",
     "output_type": "stream",
     "text": [
      "1.494260384858873\n",
      "1.5121373257051143\n",
      "1.5121345516578426\n",
      "1.5121345516578426\n",
      "1.5121345516578426\n",
      "1.5121345516578426\n",
      "1.5121345516578426\n",
      "1.5121345516578426\n",
      "1.5121345516578426\n",
      "1.5121345516578426\n"
     ]
    },
    {
     "data": {
      "text/plain": [
       "1.5121345516578426"
      ]
     },
     "execution_count": 37,
     "metadata": {},
     "output_type": "execute_result"
    }
   ],
   "source": [
    "x0=1.8\n",
    "weird_newton(f,fprime,fprimeprime, x0, 10)"
   ]
  },
  {
   "cell_type": "code",
   "execution_count": 38,
   "metadata": {},
   "outputs": [
    {
     "name": "stdout",
     "output_type": "stream",
     "text": [
      "determinant negative!FAIL!\n",
      "nan\n",
      "nan\n",
      "nan\n",
      "nan\n",
      "nan\n",
      "nan\n",
      "nan\n",
      "nan\n",
      "nan\n",
      "nan\n"
     ]
    },
    {
     "name": "stderr",
     "output_type": "stream",
     "text": [
      "/Users/tlaurent/.local/lib/python3.7/site-packages/ipykernel_launcher.py:24: RuntimeWarning: invalid value encountered in double_scalars\n",
      "/Users/tlaurent/.local/lib/python3.7/site-packages/ipykernel_launcher.py:25: RuntimeWarning: invalid value encountered in double_scalars\n"
     ]
    },
    {
     "data": {
      "text/plain": [
       "nan"
      ]
     },
     "execution_count": 38,
     "metadata": {},
     "output_type": "execute_result"
    }
   ],
   "source": [
    "x0=2\n",
    "weird_newton(f,fprime,fprimeprime, x0, 10)"
   ]
  },
  {
   "cell_type": "markdown",
   "metadata": {},
   "source": [
    "# Problem 6 \n",
    "\n",
    "### In this problem, we are going to use Newton's method to find the minimum of the function\n",
    "### $$\n",
    "f(x) = e^x + x^2\n",
    "$$\n",
    "### Note that we are NOT trying  to solve $e^x + x^2=0$. So we are using Newton's method for minimization, and not Newton's method for root finding."
   ]
  },
  {
   "cell_type": "markdown",
   "metadata": {},
   "source": [
    "### a) Plot f(x) on the interval \\[-5,5\\] and get a visual guess for the x-value of the minimum."
   ]
  },
  {
   "cell_type": "code",
   "execution_count": 39,
   "metadata": {},
   "outputs": [],
   "source": [
    "def f(x):\n",
    "    y = np.exp(x) + x**2\n",
    "    return y"
   ]
  },
  {
   "cell_type": "code",
   "execution_count": 40,
   "metadata": {},
   "outputs": [
    {
     "data": {
      "image/png": "[encoded data removed]",
      "text/plain": [
       "<Figure size 432x288 with 1 Axes>"
      ]
     },
     "metadata": {
      "needs_background": "light"
     },
     "output_type": "display_data"
    }
   ],
   "source": [
    "x = np.linspace(-5,5,1000)\n",
    "y = f(x)\n",
    "plt.plot(x,y)\n",
    "#plt.ylim(-1,0.5)\n",
    "plt.show()"
   ]
  },
  {
   "cell_type": "markdown",
   "metadata": {},
   "source": [
    "### c) Use Newton's method to find the x-value of the minimum "
   ]
  },
  {
   "cell_type": "code",
   "execution_count": 41,
   "metadata": {},
   "outputs": [],
   "source": [
    "def newton_minimization(first_der, second_der, x0, num_iter):\n",
    "    \"\"\"\n",
    "    find the minimum of f(x)  \n",
    "    IMPUT:  first_der (function): first derivative of f(x)\n",
    "            second_der (function): second derivative of f(x)\n",
    "            x0 (float): initial guess\n",
    "            num_iter: number of iterations\n",
    "    OUTPUT: x-value of the minimum of f(x)\n",
    "    \"\"\"\n",
    "    x = x0\n",
    "    for i in range(0,num_iter):\n",
    "        x = x - first_der(x)/second_der(x)\n",
    "        print(x)\n",
    "    return x"
   ]
  },
  {
   "cell_type": "code",
   "execution_count": 42,
   "metadata": {},
   "outputs": [],
   "source": [
    "def fp(x):\n",
    "    y = np.exp(x) + 2*x\n",
    "    return y"
   ]
  },
  {
   "cell_type": "code",
   "execution_count": 43,
   "metadata": {},
   "outputs": [],
   "source": [
    "def fpp(x):\n",
    "    y = np.exp(x) + 2\n",
    "    return y"
   ]
  },
  {
   "cell_type": "code",
   "execution_count": 44,
   "metadata": {},
   "outputs": [
    {
     "name": "stdout",
     "output_type": "stream",
     "text": [
      "0.7869860421615984\n",
      "-0.11150056193795366\n",
      "-0.34348946454172885\n",
      "-0.35172483870686516\n",
      "-0.3517337112389537\n",
      "-0.35173371124919584\n",
      "-0.35173371124919584\n",
      "-0.35173371124919584\n"
     ]
    },
    {
     "data": {
      "text/plain": [
       "-0.35173371124919584"
      ]
     },
     "execution_count": 44,
     "metadata": {},
     "output_type": "execute_result"
    }
   ],
   "source": [
    "x0 = 2\n",
    "newton_minimization(fp, fpp, x0, 8)"
   ]
  },
  {
   "cell_type": "markdown",
   "metadata": {},
   "source": [
    "# Problem 7\n",
    "\n",
    "### In this problem, we are going to use Newton's method to find the minimum of the function\n",
    "### $$\n",
    "f(x) = \\frac{1}{x}+\\log(x)\n",
    "$$"
   ]
  },
  {
   "cell_type": "markdown",
   "metadata": {},
   "source": [
    "### a) Plot $f(x)$ on the interval \\[0.1,10\\]."
   ]
  },
  {
   "cell_type": "code",
   "execution_count": 45,
   "metadata": {},
   "outputs": [],
   "source": [
    "def f(x):\n",
    "    y = 1/x + np.log(x)\n",
    "    return y"
   ]
  },
  {
   "cell_type": "code",
   "execution_count": 46,
   "metadata": {},
   "outputs": [
    {
     "data": {
      "image/png": "[encoded data removed]",
      "text/plain": [
       "<Figure size 432x288 with 1 Axes>"
      ]
     },
     "metadata": {
      "needs_background": "light"
     },
     "output_type": "display_data"
    }
   ],
   "source": [
    "x = np.linspace(0.1,10,1000)\n",
    "y = f(x)\n",
    "plt.plot(x,y)\n",
    "plt.show()"
   ]
  },
  {
   "cell_type": "markdown",
   "metadata": {},
   "source": [
    "### b) find the x-value of the minimum with pen and paper (by solving $f'(x)=0$)"
   ]
  },
  {
   "cell_type": "markdown",
   "metadata": {},
   "source": [
    "### c) Use Newton's method with initial guess 0.5. "
   ]
  },
  {
   "cell_type": "code",
   "execution_count": 47,
   "metadata": {},
   "outputs": [],
   "source": [
    "def fp(x):\n",
    "    y = -1/x**2 + 1/x\n",
    "    return y"
   ]
  },
  {
   "cell_type": "code",
   "execution_count": 48,
   "metadata": {},
   "outputs": [],
   "source": [
    "def fpp(x):\n",
    "    y = 2/x**3 - 1/x**2\n",
    "    return y"
   ]
  },
  {
   "cell_type": "code",
   "execution_count": 49,
   "metadata": {},
   "outputs": [
    {
     "name": "stdout",
     "output_type": "stream",
     "text": [
      "0.6666666666666666\n",
      "0.8333333333333333\n",
      "0.9523809523809523\n",
      "0.9956709956709956\n",
      "0.9999626809971639\n",
      "0.999999997214688\n",
      "1.0\n",
      "1.0\n",
      "1.0\n",
      "1.0\n",
      "1.0\n",
      "1.0\n",
      "1.0\n",
      "1.0\n",
      "1.0\n",
      "1.0\n",
      "1.0\n",
      "1.0\n",
      "1.0\n",
      "1.0\n"
     ]
    },
    {
     "data": {
      "text/plain": [
       "1.0"
      ]
     },
     "execution_count": 49,
     "metadata": {},
     "output_type": "execute_result"
    }
   ],
   "source": [
    "x0 = 0.5\n",
    "newton_minimization(fp, fpp, x0, 20)"
   ]
  },
  {
   "cell_type": "markdown",
   "metadata": {},
   "source": [
    "### d) Use Newton's method with initial guess 4. Something wrong should happen."
   ]
  },
  {
   "cell_type": "code",
   "execution_count": 50,
   "metadata": {},
   "outputs": [
    {
     "name": "stdout",
     "output_type": "stream",
     "text": [
      "10.0\n",
      "21.25\n",
      "43.6038961038961\n",
      "88.25586462858196\n",
      "177.53491608635647\n",
      "356.0812259173\n",
      "713.168100256074\n",
      "1427.3390127867697\n",
      "2855.6794287484904\n",
      "5712.35955834655\n",
      "11425.719466933744\n",
      "22852.439108941813\n",
      "45705.87830540929\n",
      "91412.75665457855\n",
      "182826.51333103637\n",
      "365654.0266730122\n",
      "731309.053351494\n",
      "1462619.1067057229\n",
      "2925239.213412813\n",
      "5850479.426826309\n"
     ]
    },
    {
     "data": {
      "text/plain": [
       "5850479.426826309"
      ]
     },
     "execution_count": 50,
     "metadata": {},
     "output_type": "execute_result"
    }
   ],
   "source": [
    "x0 = 4\n",
    "newton_minimization(fp, fpp, x0, 20)"
   ]
  },
  {
   "cell_type": "markdown",
   "metadata": {},
   "source": [
    "### e) Plot f(x) and its quadratic approximation around x=4 on the interval \\[0.1,20\\].\n",
    "### Then Plot f(x) and its quadratic approximation around x=10 on the interval \\[0.1,50\\].\n",
    "### Then try to understand why the algorithm was not working in the previous problem."
   ]
  },
  {
   "cell_type": "code",
   "execution_count": 51,
   "metadata": {},
   "outputs": [],
   "source": [
    "def quad_approx(x0, x):\n",
    "    \"\"\"\n",
    "    quadratic approximation of f(x) at x_star\n",
    "    \"\"\"\n",
    "    y = f(x0) + fp(x0)*(x-x0) + fpp(x0)*(x-x0)**2/2\n",
    "    return y"
   ]
  },
  {
   "cell_type": "code",
   "execution_count": 52,
   "metadata": {},
   "outputs": [
    {
     "data": {
      "image/png": "[encoded data removed]",
      "text/plain": [
       "<Figure size 432x288 with 1 Axes>"
      ]
     },
     "metadata": {
      "needs_background": "light"
     },
     "output_type": "display_data"
    }
   ],
   "source": [
    "x0 = 4\n",
    "x = np.linspace(0.1,20,1000)\n",
    "y = f(x)\n",
    "yq = quad_approx(x0, x)\n",
    "plt.plot(x,y)\n",
    "plt.plot(x,yq,\":\")\n",
    "plt.show()"
   ]
  },
  {
   "cell_type": "code",
   "execution_count": 53,
   "metadata": {},
   "outputs": [
    {
     "data": {
      "image/png": "[encoded data removed]",
      "text/plain": [
       "<Figure size 432x288 with 1 Axes>"
      ]
     },
     "metadata": {
      "needs_background": "light"
     },
     "output_type": "display_data"
    }
   ],
   "source": [
    "x0 = 10\n",
    "x = np.linspace(0.1,50,1000)\n",
    "y = f(x)\n",
    "yq = quad_approx(x0, x)\n",
    "plt.plot(x,y)\n",
    "plt.plot(x,yq,\":\")\n",
    "plt.show()"
   ]
  },
  {
   "cell_type": "markdown",
   "metadata": {},
   "source": [
    "The problem is that the function is concave for these values of x. Therefore the quadratic approximations are upside-down parabolas: when we set the derivative equal to zero and solve for x we therefore get the max of the parabola! Not the min! This is bad! Newton's method for minimization need the function to be concave up to work."
   ]
  },
  {
   "cell_type": "code",
   "execution_count": null,
   "metadata": {},
   "outputs": [],
   "source": []
  }
 ],
 "metadata": {
  "kernelspec": {
   "display_name": "Python 3",
   "language": "python",
   "name": "python3"
  },
  "language_info": {
   "codemirror_mode": {
    "name": "ipython",
    "version": 3
   },
   "file_extension": ".py",
   "mimetype": "text/x-python",
   "name": "python",
   "nbconvert_exporter": "python",
   "pygments_lexer": "ipython3",
   "version": "3.7.6"
  }
 },
 "nbformat": 4,
 "nbformat_minor": 4
}
