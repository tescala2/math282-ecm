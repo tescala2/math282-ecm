{
 "cells": [
  {
   "cell_type": "code",
   "execution_count": 1,
   "metadata": {},
   "outputs": [],
   "source": [
    "import numpy as np"
   ]
  },
  {
   "cell_type": "markdown",
   "metadata": {},
   "source": [
    "### Here is something weird:"
   ]
  },
  {
   "cell_type": "code",
   "execution_count": 2,
   "metadata": {},
   "outputs": [
    {
     "name": "stdout",
     "output_type": "stream",
     "text": [
      "[7. 5.]\n",
      "[7. 5.]\n"
     ]
    }
   ],
   "source": [
    "x = np.array([2.,5.])\n",
    "y = x\n",
    "y[0] = 7.\n",
    "print(x)\n",
    "print(y)"
   ]
  },
  {
   "cell_type": "markdown",
   "metadata": {},
   "source": [
    "### When dealing with immutable objects like ints, float, or string, python behaves as follow:"
   ]
  },
  {
   "cell_type": "code",
   "execution_count": 3,
   "metadata": {},
   "outputs": [
    {
     "name": "stdout",
     "output_type": "stream",
     "text": [
      "2\n",
      "3\n"
     ]
    }
   ],
   "source": [
    "x = 2\n",
    "y = x\n",
    "y = y+1\n",
    "print(x)\n",
    "print(y)"
   ]
  },
  {
   "cell_type": "code",
   "execution_count": 4,
   "metadata": {},
   "outputs": [
    {
     "name": "stdout",
     "output_type": "stream",
     "text": [
      "hello\n",
      "HELLO\n"
     ]
    }
   ],
   "source": [
    "s1 = 'hello'\n",
    "s2 = s1.upper()\n",
    "print(s1)\n",
    "print(s2)"
   ]
  },
  {
   "cell_type": "markdown",
   "metadata": {},
   "source": [
    "### But with mutable objects such as ndarray or list, here is what happens:"
   ]
  },
  {
   "cell_type": "code",
   "execution_count": null,
   "metadata": {},
   "outputs": [],
   "source": [
    "x = np.array([2.,5.])\n",
    "y = x\n",
    "y[0] = 7.\n",
    "print(x)\n",
    "print(y)"
   ]
  },
  {
   "cell_type": "markdown",
   "metadata": {},
   "source": [
    "### Python is very agressive at not wasting memory. When we do y=x, we are not creating a new nd-array which has the same content than the original array x. We are just letting python know that the nd-array which is stored somewhere in memory and contains the floats 2.0 and 5.0 can be now be accessed with the letter x or the letter y. So we are giving a second name to this chunk of data. As much as possible we do not want to create new data.\n",
    "\n",
    "### If you actually want to create new data, you need to do y = np.copy(x). See the doc here, or the example below.\n",
    "https://docs.scipy.org/doc/numpy/reference/generated/numpy.copy.htm"
   ]
  },
  {
   "cell_type": "code",
   "execution_count": 3,
   "metadata": {},
   "outputs": [
    {
     "name": "stdout",
     "output_type": "stream",
     "text": [
      "[2. 5.]\n",
      "[7. 5.]\n"
     ]
    }
   ],
   "source": [
    "x = np.array([2.,5.])\n",
    "y = np.copy(x)\n",
    "y[0] = 7.\n",
    "print(x)\n",
    "print(y)"
   ]
  },
  {
   "cell_type": "markdown",
   "metadata": {},
   "source": [
    "### With list you have the same behavior:"
   ]
  },
  {
   "cell_type": "code",
   "execution_count": 4,
   "metadata": {},
   "outputs": [
    {
     "name": "stdout",
     "output_type": "stream",
     "text": [
      "[7, 2, 5]\n",
      "[7, 2, 5]\n"
     ]
    }
   ],
   "source": [
    "x = [9,2,5]\n",
    "y = x\n",
    "y[0] = 7\n",
    "print(x)\n",
    "print(y)"
   ]
  },
  {
   "cell_type": "markdown",
   "metadata": {},
   "source": [
    "### Again, the statment y = x is just saying that the chunk of memory containing the ints 9,2 and 5 can be accessed with the letter x or y. We did not create some new data. If you want to create some new data, you need to use the list method called copy():"
   ]
  },
  {
   "cell_type": "code",
   "execution_count": 5,
   "metadata": {},
   "outputs": [
    {
     "name": "stdout",
     "output_type": "stream",
     "text": [
      "[9, 2, 5]\n",
      "[7, 2, 5]\n"
     ]
    }
   ],
   "source": [
    "x = [9,2,5]\n",
    "y = x.copy()\n",
    "y[0]=7\n",
    "print(x)\n",
    "print(y)"
   ]
  },
  {
   "cell_type": "markdown",
   "metadata": {},
   "source": [
    "### The id() built-in function tell you where the data is stored in memory. For example:"
   ]
  },
  {
   "cell_type": "code",
   "execution_count": 6,
   "metadata": {},
   "outputs": [
    {
     "data": {
      "text/plain": [
       "140304829863968"
      ]
     },
     "execution_count": 6,
     "metadata": {},
     "output_type": "execute_result"
    }
   ],
   "source": [
    "x = [1.,2.,3.]\n",
    "\n",
    "id(x)"
   ]
  },
  {
   "cell_type": "code",
   "execution_count": 7,
   "metadata": {},
   "outputs": [
    {
     "data": {
      "text/plain": [
       "140304829863968"
      ]
     },
     "execution_count": 7,
     "metadata": {},
     "output_type": "execute_result"
    }
   ],
   "source": [
    "y = x\n",
    "y[0]=5\n",
    "\n",
    "id(y)"
   ]
  },
  {
   "cell_type": "markdown",
   "metadata": {},
   "source": [
    "### Going back to immutable object. "
   ]
  },
  {
   "cell_type": "code",
   "execution_count": 8,
   "metadata": {},
   "outputs": [
    {
     "name": "stdout",
     "output_type": "stream",
     "text": [
      "140304824187312\n",
      "140304824187312\n"
     ]
    }
   ],
   "source": [
    "x = 4.2\n",
    "y = x\n",
    "\n",
    "print(id(x))\n",
    "print(id(y))"
   ]
  },
  {
   "cell_type": "markdown",
   "metadata": {},
   "source": [
    "### The variables x and y both refer to the same 64 bits of memory that contains the float 4.2. We did NOT open a new chunk of 64 bits to write 4.2 in it. "
   ]
  },
  {
   "cell_type": "markdown",
   "metadata": {},
   "source": [
    "### So this is how it works with immutable objects:"
   ]
  },
  {
   "cell_type": "code",
   "execution_count": 9,
   "metadata": {},
   "outputs": [
    {
     "name": "stdout",
     "output_type": "stream",
     "text": [
      "140304824187120\n",
      "140304824187120\n",
      "140304824187312\n"
     ]
    }
   ],
   "source": [
    "x = 4.2\n",
    "print(id(x))\n",
    "\n",
    "y = x\n",
    "print(id(y))\n",
    "\n",
    "y = y + 1.0\n",
    "print(id(y))"
   ]
  },
  {
   "cell_type": "markdown",
   "metadata": {},
   "source": [
    "### When we do y = y+1 we are NOT overwriting the 64 bits containing the float 4.2, but we are opening a new chunck of memory and writing the float 5.2 in it. Then this new chunck of memory is given the name \"y\". This is what it means to be immutable: the 64 bits of memory can not be changed! when you do y=y+1 you are not changing the object, you are creating a new one. "
   ]
  }
 ],
 "metadata": {
  "kernelspec": {
   "display_name": "Python 3",
   "language": "python",
   "name": "python3"
  },
  "language_info": {
   "codemirror_mode": {
    "name": "ipython",
    "version": 3
   },
   "file_extension": ".py",
   "mimetype": "text/x-python",
   "name": "python",
   "nbconvert_exporter": "python",
   "pygments_lexer": "ipython3",
   "version": "3.7.6"
  }
 },
 "nbformat": 4,
 "nbformat_minor": 4
}
