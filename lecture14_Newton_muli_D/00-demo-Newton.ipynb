{
 "cells": [
  {
   "cell_type": "code",
   "execution_count": null,
   "metadata": {},
   "outputs": [],
   "source": [
    "import numpy as np\n",
    "from scipy import linalg\n",
    "import matplotlib.pyplot as plt"
   ]
  },
  {
   "cell_type": "markdown",
   "metadata": {},
   "source": [
    "### We want to solve:\n",
    "### $$\n",
    "\\begin{cases}\n",
    "e^{x_1}-x_2 = 0 \\\\\n",
    "x_1^2 + x_2^2 - 4  =0\n",
    "\\end{cases} \\quad \\text{which can be written } \n",
    " F(x) = \\begin{bmatrix} 0 \\\\ 0 \\end{bmatrix} \n",
    "$$\n",
    "### where\n",
    "### $$ \n",
    "F\\left(\\begin{bmatrix} x_1 \\\\ x_2 \\end{bmatrix}\\right) =\n",
    "\\begin{bmatrix}\n",
    "e^{x_1}-x_2  \\\\\n",
    "x_1^2 + x_2^2 - 4 \n",
    "\\end{bmatrix}\n",
    "$$"
   ]
  },
  {
   "cell_type": "code",
   "execution_count": null,
   "metadata": {},
   "outputs": [],
   "source": [
    "def F(x):\n",
    "    \"\"\"\n",
    "    INPUT: x (1d-array) with two entries\n",
    "    OUTPUT: Y (1d-array) with two entries\n",
    "    \"\"\"\n",
    "    \n",
    "    y0 = np.exp(x[0]) - x[1]\n",
    "    y1 = x[0]**2 + x[1]**2 - 4\n",
    "    y = np.array([y0,y1])\n",
    "\n",
    "    return y"
   ]
  },
  {
   "cell_type": "code",
   "execution_count": null,
   "metadata": {},
   "outputs": [],
   "source": [
    "x = np.array([0,1])\n",
    "F(x)"
   ]
  },
  {
   "cell_type": "markdown",
   "metadata": {},
   "source": [
    "### Then we need the Jacobian matrix\n",
    "### $$\n",
    "F\\left(\\begin{bmatrix} x_1 \\\\ x_2 \\end{bmatrix}\\right) =\n",
    "\\begin{bmatrix}\n",
    "e^{x_1}-x_2  \\\\\n",
    "x_1^2 + x_2^2 - 4 \n",
    "\\end{bmatrix}\n",
    "\\qquad\n",
    "DF \\left(\\begin{bmatrix} x_1 \\\\ x_2 \\end{bmatrix} \\right)\n",
    "= \\begin{bmatrix}\n",
    "e^{x_1} & -1 \\\\\n",
    "2 x_1 & 2 x_2\n",
    "\\end{bmatrix}\n",
    "$$"
   ]
  },
  {
   "cell_type": "code",
   "execution_count": null,
   "metadata": {},
   "outputs": [],
   "source": [
    "def DF(x):\n",
    "    \"\"\"\n",
    "    INPUT: x (1d-array) with two entries\n",
    "    OUTPUT: jacobian (2d-array) 2-by-2 Jacobian matrix\n",
    "    \"\"\"\n",
    "    \n",
    "    df1dx1 = np.exp(x[0]) \n",
    "    df1dx2 = -1.\n",
    "    df2dx1 = 2*x[0]\n",
    "    df2dx2 = 2*x[1]\n",
    "    jacobian = np.array( [ [df1dx1,df1dx2],[df2dx1,df2dx2]])\n",
    "    return jacobian"
   ]
  },
  {
   "cell_type": "code",
   "execution_count": null,
   "metadata": {},
   "outputs": [],
   "source": [
    "x = np.array([0,1])\n",
    "DF(x)"
   ]
  },
  {
   "cell_type": "markdown",
   "metadata": {},
   "source": [
    "### Newton Solver\n",
    "### Suppose we have a current guess $x^{(k)}$. To get the next guess $x^{(k+1)}$ we do\n",
    "* ###  Solve $ \\qquad DF(x^{k}) y = -F(x^{(k)}) \\qquad $ for y\n",
    "* ###  Then  $\\qquad x^{(k+1)} = x^{k} + y$"
   ]
  },
  {
   "cell_type": "code",
   "execution_count": null,
   "metadata": {},
   "outputs": [],
   "source": [
    "def newton(F,DF,x0,num_iter):\n",
    "    \"\"\"\n",
    "    Solve F(x)=0 with Newton's method.\n",
    "    \n",
    "    INPUTS \n",
    "    F (function): the input and output of this function are 1d-arrays\n",
    "    DF (function): Jacobian matrix of F. The input is a 1d-array \n",
    "                  and the output is a 2d-array.\n",
    "    x0 (1d-array): initial guess\n",
    "    num_iter (int): number of iterations\n",
    "    \"\"\"\n",
    "    x = x0\n",
    "    for i in range(0,num_iter):\n",
    "        y = linalg.solve(DF(x),-F(x))\n",
    "        x = x+y\n",
    "        print(x)\n",
    "        "
   ]
  },
  {
   "cell_type": "markdown",
   "metadata": {},
   "source": [
    "### Let's do some plotting on this simple example.\n",
    "### It looks like that good initial guess for the two solutions could be\n",
    "### $$\n",
    "(-2,0) \\qquad \\text{and} \\qquad (1,2)\n",
    "$$"
   ]
  },
  {
   "cell_type": "code",
   "execution_count": null,
   "metadata": {},
   "outputs": [],
   "source": [
    "x = np.arange(-3,2,0.01)\n",
    "y = np.exp(x)\n",
    "plt.plot(x,y)\n",
    "\n",
    "xx = np.arange(-2,2,0.001)\n",
    "yy = (4-xx**2)**.5\n",
    "plt.plot(xx,yy)\n",
    "\n",
    "plt.xlim(-3,3)\n",
    "plt.ylim(0,3)\n",
    "plt.legend(['$e^{x_1}-{x_2}=0$', '$x_1^2+x_2^2 = 4$'])\n",
    "\n",
    "plt.show()"
   ]
  },
  {
   "cell_type": "markdown",
   "metadata": {},
   "source": [
    "### Run 5 iterations of the newton solver with initial guess (-2,0)"
   ]
  },
  {
   "cell_type": "code",
   "execution_count": null,
   "metadata": {},
   "outputs": [],
   "source": [
    "x0 = np.array([-2,0])\n",
    "newton(F,DF,x0,5)"
   ]
  },
  {
   "cell_type": "markdown",
   "metadata": {},
   "source": [
    "### Check we got the correct answer by plugging back"
   ]
  },
  {
   "cell_type": "code",
   "execution_count": null,
   "metadata": {},
   "outputs": [],
   "source": [
    "sln = np.array([-1.99537317,0.13596291])\n",
    "F(sln)"
   ]
  },
  {
   "cell_type": "markdown",
   "metadata": {},
   "source": [
    "### Run 5 iterations of the newton solver with initial guess (1,2)"
   ]
  },
  {
   "cell_type": "code",
   "execution_count": null,
   "metadata": {},
   "outputs": [],
   "source": [
    "x0 = np.array([1,2])\n",
    "newton(F,DF,x0,5)"
   ]
  },
  {
   "cell_type": "markdown",
   "metadata": {},
   "source": [
    "### Check we got the correct solution"
   ]
  },
  {
   "cell_type": "code",
   "execution_count": null,
   "metadata": {},
   "outputs": [],
   "source": [
    "sln = np.array([0.63926307, 1.89508383])\n",
    "F(sln)"
   ]
  },
  {
   "cell_type": "code",
   "execution_count": null,
   "metadata": {},
   "outputs": [],
   "source": []
  }
 ],
 "metadata": {
  "kernelspec": {
   "display_name": "Python 3",
   "language": "python",
   "name": "python3"
  },
  "language_info": {
   "codemirror_mode": {
    "name": "ipython",
    "version": 3
   },
   "file_extension": ".py",
   "mimetype": "text/x-python",
   "name": "python",
   "nbconvert_exporter": "python",
   "pygments_lexer": "ipython3",
   "version": "3.7.6"
  }
 },
 "nbformat": 4,
 "nbformat_minor": 4
}
