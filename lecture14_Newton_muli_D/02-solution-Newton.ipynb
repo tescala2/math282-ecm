{
 "cells": [
  {
   "cell_type": "code",
   "execution_count": 1,
   "metadata": {},
   "outputs": [],
   "source": [
    "import numpy as np\n",
    "import matplotlib.pyplot as plt"
   ]
  },
  {
   "cell_type": "markdown",
   "metadata": {},
   "source": [
    "# Problem 1\n",
    "### Consider the system below: \n",
    "$$\n",
    "\\begin{align}\n",
    "x_0 + 2x_1 -2 = 0 \\\\\n",
    "x_0 + x_1 -3 =0\n",
    "\\end{align}\n",
    "$$\n",
    "### a) Is this a linear or nonlinear system?\n",
    "### b) Use linalg.solve() to solve it. Check by hand it is the correct solution by plugging it back in the system."
   ]
  },
  {
   "cell_type": "code",
   "execution_count": 2,
   "metadata": {},
   "outputs": [],
   "source": [
    "from scipy import linalg"
   ]
  },
  {
   "cell_type": "code",
   "execution_count": 3,
   "metadata": {},
   "outputs": [
    {
     "data": {
      "text/plain": [
       "array([ 4., -1.])"
      ]
     },
     "execution_count": 3,
     "metadata": {},
     "output_type": "execute_result"
    }
   ],
   "source": [
    "A = np.array([[1,2],[1,1]])\n",
    "b = np.array([2,3])\n",
    "linalg.solve(A,b)"
   ]
  },
  {
   "cell_type": "markdown",
   "metadata": {},
   "source": [
    "### c) Use Newton's method to method to find the solution. How many iterates are needed?"
   ]
  },
  {
   "cell_type": "code",
   "execution_count": 4,
   "metadata": {},
   "outputs": [],
   "source": [
    "def F(x):\n",
    "    y0 = x[0]+2*x[1] - 2 \n",
    "    y1 = x[0] + x[1] - 3\n",
    "    y = np.array([y0,y1])\n",
    "    return y"
   ]
  },
  {
   "cell_type": "code",
   "execution_count": 5,
   "metadata": {},
   "outputs": [],
   "source": [
    "def DF(x):\n",
    "    df1dx1 = 1\n",
    "    df1dx2 = 2\n",
    "    df2dx1 = 1\n",
    "    df2dx2 = 1\n",
    "    jacobian = np.array( [ [df1dx1,df1dx2],[df2dx1,df2dx2]])\n",
    "    return jacobian"
   ]
  },
  {
   "cell_type": "code",
   "execution_count": 6,
   "metadata": {},
   "outputs": [],
   "source": [
    "def newton(F,DF,x0,num_iter):\n",
    "    \"\"\"\n",
    "    Solve F(x)=0 with Newton's method.\n",
    "    \n",
    "    INPUTS \n",
    "    F (function): the input and output of this function are 1d-arrays\n",
    "    DF (function): Jacobian matrix of F. The input is a 1d-array \n",
    "                  and the output is a 2d-array.\n",
    "    x0 (1d-array): initial guess\n",
    "    num_iter (int): number of iterations\n",
    "    \"\"\"\n",
    "    x = x0\n",
    "    for i in range(0,num_iter):\n",
    "        y = linalg.solve(DF(x),-F(x))\n",
    "        x = x+y\n",
    "        print(x)"
   ]
  },
  {
   "cell_type": "code",
   "execution_count": 7,
   "metadata": {},
   "outputs": [
    {
     "name": "stdout",
     "output_type": "stream",
     "text": [
      "[ 4. -1.]\n",
      "[ 4. -1.]\n",
      "[ 4. -1.]\n",
      "[ 4. -1.]\n",
      "[ 4. -1.]\n"
     ]
    }
   ],
   "source": [
    "x0 = np.array([-2,0])\n",
    "newton(F,DF,x0,5)"
   ]
  },
  {
   "cell_type": "markdown",
   "metadata": {},
   "source": [
    "# Problem 2\n",
    "\n",
    "### Consider the system below\n",
    "$$\n",
    "\\begin{align}\n",
    " \\cos(x_0) - x_1 = 0 \\\\\n",
    "0.2 x_0 - x_1 -0.1  =0\n",
    "\\end{align}\n",
    "$$\n",
    "\n",
    "### a) Do some plotting to try to visualize the solutions. How many solutions? Get very rough initial guesses for each solutions."
   ]
  },
  {
   "cell_type": "code",
   "execution_count": 8,
   "metadata": {},
   "outputs": [
    {
     "data": {
      "image/png": "[encoded data removed]",
      "text/plain": [
       "<Figure size 432x288 with 1 Axes>"
      ]
     },
     "metadata": {
      "needs_background": "light"
     },
     "output_type": "display_data"
    }
   ],
   "source": [
    "x = np.arange(-10,10,0.01)\n",
    "y = np.cos(x)\n",
    "plt.plot(x,y)\n",
    "\n",
    "xx = np.arange(-10,10,0.001)\n",
    "yy = 0.2*xx -0.1\n",
    "plt.plot(xx,yy)\n",
    "\n",
    "plt.xlim(-10,10)\n",
    "plt.ylim(-2,2)\n",
    "\n",
    "plt.show()"
   ]
  },
  {
   "cell_type": "markdown",
   "metadata": {},
   "source": [
    "### b) Use Newton's method to find all the solutions"
   ]
  },
  {
   "cell_type": "code",
   "execution_count": 9,
   "metadata": {},
   "outputs": [],
   "source": [
    "def F(x):\n",
    "    y0 = np.cos(x[0]) - x[1] \n",
    "    y1 = 0.2*x[0] - x[1] - 0.1 \n",
    "    y = np.array([y0,y1])\n",
    "    return y"
   ]
  },
  {
   "cell_type": "code",
   "execution_count": 10,
   "metadata": {},
   "outputs": [],
   "source": [
    "def DF(x):\n",
    "    df0dx0 = -np.sin(x[0])\n",
    "    df0dx1 = -1\n",
    "    df1dx0 = 0.2\n",
    "    df1dx1 = -1\n",
    "    jacobian = np.array( [ [df0dx0,df0dx1],[df1dx0,df1dx1]])\n",
    "    return jacobian"
   ]
  },
  {
   "cell_type": "code",
   "execution_count": 11,
   "metadata": {},
   "outputs": [
    {
     "name": "stdout",
     "output_type": "stream",
     "text": [
      "[1.42276963 0.18455393]\n",
      "[1.39159618 0.17831924]\n",
      "[1.39153144 0.17830629]\n",
      "[1.39153144 0.17830629]\n",
      "[1.39153144 0.17830629]\n",
      "[1.39153144 0.17830629]\n",
      "[1.39153144 0.17830629]\n",
      "[1.39153144 0.17830629]\n",
      "[1.39153144 0.17830629]\n",
      "[1.39153144 0.17830629]\n"
     ]
    }
   ],
   "source": [
    "x0 = np.array([1,0])\n",
    "newton(F,DF,x0,10)"
   ]
  },
  {
   "cell_type": "code",
   "execution_count": 12,
   "metadata": {},
   "outputs": [
    {
     "data": {
      "text/plain": [
       "array([-1.37238457e-09, -2.00000000e-09])"
      ]
     },
     "execution_count": 12,
     "metadata": {},
     "output_type": "execute_result"
    }
   ],
   "source": [
    "F([1.39153144,0.17830629])"
   ]
  },
  {
   "cell_type": "code",
   "execution_count": 13,
   "metadata": {},
   "outputs": [
    {
     "name": "stdout",
     "output_type": "stream",
     "text": [
      "[-1.99521286 -0.49904257]\n",
      "[-2.117884  -0.5235768]\n",
      "[-2.12304362 -0.52460872]\n",
      "[-2.12305428 -0.52461086]\n",
      "[-2.12305428 -0.52461086]\n",
      "[-2.12305428 -0.52461086]\n",
      "[-2.12305428 -0.52461086]\n",
      "[-2.12305428 -0.52461086]\n",
      "[-2.12305428 -0.52461086]\n",
      "[-2.12305428 -0.52461086]\n"
     ]
    }
   ],
   "source": [
    "x0 = np.array([-2.5,-0.5])\n",
    "newton(F,DF,x0,10)"
   ]
  },
  {
   "cell_type": "code",
   "execution_count": 14,
   "metadata": {},
   "outputs": [
    {
     "name": "stdout",
     "output_type": "stream",
     "text": [
      "[-3.80608059 -0.86121612]\n",
      "[-3.71548742 -0.84309748]\n",
      "[-3.71103918 -0.84220784]\n",
      "[-3.71102793 -0.84220559]\n",
      "[-3.71102793 -0.84220559]\n",
      "[-3.71102793 -0.84220559]\n",
      "[-3.71102793 -0.84220559]\n",
      "[-3.71102793 -0.84220559]\n",
      "[-3.71102793 -0.84220559]\n",
      "[-3.71102793 -0.84220559]\n"
     ]
    }
   ],
   "source": [
    "x0 = np.array([-5,-1])\n",
    "newton(F,DF,x0,10)"
   ]
  },
  {
   "cell_type": "markdown",
   "metadata": {},
   "source": [
    "### c) Try with initial guess (10,0)"
   ]
  },
  {
   "cell_type": "code",
   "execution_count": 15,
   "metadata": {},
   "outputs": [
    {
     "name": "stdout",
     "output_type": "stream",
     "text": [
      "[17.96192862  3.49238572]\n",
      "[22.93282897  4.48656579]\n",
      "[31.27234479  6.15446896]\n",
      "[-59.47902622 -11.99580524]\n",
      "[-1199.25709115  -239.95141823]\n",
      "[-942.94816056 -188.68963211]\n",
      "[-1691.65524717  -338.43104943]\n",
      "[-2117.07771536  -423.51554307]\n",
      "[-1342.92089509  -268.68417902]\n",
      "[-1117.97664834  -223.69532967]\n",
      "[-754.05457011 -150.91091402]\n",
      "[435.23943059  86.94788612]\n",
      "[362.1710359   72.33420718]\n",
      "[488.90490426  97.68098085]\n",
      "[622.94034062 124.48806812]\n",
      "[497.36492338  99.37298468]\n",
      "[402.13962721  80.32792544]\n",
      "[34.48337888  6.79667578]\n",
      "[6.04589854 1.10917971]\n",
      "[9.95849891 1.89169978]\n",
      "[18.87414697  3.67482939]\n",
      "[6.9628917  1.29257834]\n",
      "[6.34155091 1.16831018]\n",
      "[5.683434  1.0366868]\n",
      "[6.26298732 1.15259746]\n",
      "[5.41316218 0.98263244]\n",
      "[6.01177518 1.10235504]\n",
      "[8.05261511 1.51052302]\n",
      "[6.60569557 1.22113911]\n",
      "[6.07818387 1.11563677]\n",
      "[44.35009958  8.77001992]\n",
      "[30.34477357  5.96895471]\n",
      "[38.444831   7.5889662]\n",
      "[30.64248167  6.02849633]\n",
      "[41.29820403  8.15964081]\n",
      "[78.76849436 15.65369887]\n",
      "[701.75721044 140.25144209]\n",
      "[895.62746559 179.02549312]\n",
      "[3461.02152208  692.10430442]\n",
      "[4527.06401696  905.31280339]\n",
      "[-772.979564  -154.6959128]\n",
      "[2177.50076672  435.40015334]\n",
      "[4771.82199622  954.26439924]\n",
      "[2669.7175889   533.84351778]\n",
      "[4022.20942452  804.3418849 ]\n",
      "[3238.30679853  647.56135971]\n",
      "[2452.50901444  490.40180289]\n",
      "[1997.78964485  399.45792897]\n",
      "[8611.58962959 1722.21792592]\n",
      "[15102.34181054  3020.36836211]\n"
     ]
    }
   ],
   "source": [
    "x0 = np.array([10,0])\n",
    "newton(F,DF,x0,50)"
   ]
  },
  {
   "cell_type": "markdown",
   "metadata": {},
   "source": [
    "# Problem 3\n",
    "\n",
    "### The system below has two solutions. Find these two solutions. Then plug them back to double check.\n",
    "$$\n",
    "\\begin{align}\n",
    "x_0^2-x_1^2+2x_1 = 0 \\\\\n",
    "2x_0 + x_1^2 - 6 =0\n",
    "\\end{align}\n",
    "$$"
   ]
  },
  {
   "cell_type": "code",
   "execution_count": 16,
   "metadata": {},
   "outputs": [],
   "source": [
    "def F(x):\n",
    "    y0 = x[0]**2 - x[1]**2 + 2*x[1]\n",
    "    y1 = 2*x[0] + x[1]**2 - 6\n",
    "    y = np.array([y0,y1])\n",
    "    return y"
   ]
  },
  {
   "cell_type": "code",
   "execution_count": 17,
   "metadata": {},
   "outputs": [],
   "source": [
    "def DF(x):\n",
    "    df1dx1 = 2*x[0]\n",
    "    df1dx2 = -2*x[1]+2\n",
    "    df2dx1 = 2.\n",
    "    df2dx2 = 2*x[1]\n",
    "    jacobian = np.array( [ [df1dx1,df1dx2],[df2dx1,df2dx2]])\n",
    "    return jacobian"
   ]
  },
  {
   "cell_type": "code",
   "execution_count": 18,
   "metadata": {},
   "outputs": [
    {
     "name": "stdout",
     "output_type": "stream",
     "text": [
      "[3. 0.]\n",
      "[ 3.  -4.5]\n",
      "[ 2.46710526 -2.36842105]\n",
      "[ 2.18397176 -1.52875578]\n",
      "[ 2.11344873 -1.34429476]\n",
      "[ 2.10952312 -1.33455931]\n",
      "[ 2.10951192 -1.33453219]\n",
      "[ 2.10951192 -1.33453219]\n",
      "[ 2.10951192 -1.33453219]\n",
      "[ 2.10951192 -1.33453219]\n",
      "[ 2.10951192 -1.33453219]\n",
      "[ 2.10951192 -1.33453219]\n",
      "[ 2.10951192 -1.33453219]\n",
      "[ 2.10951192 -1.33453219]\n",
      "[ 2.10951192 -1.33453219]\n",
      "[ 2.10951192 -1.33453219]\n",
      "[ 2.10951192 -1.33453219]\n",
      "[ 2.10951192 -1.33453219]\n",
      "[ 2.10951192 -1.33453219]\n",
      "[ 2.10951192 -1.33453219]\n"
     ]
    }
   ],
   "source": [
    "x0 = np.array([0,0])\n",
    "newton(F,DF,x0,20)"
   ]
  },
  {
   "cell_type": "code",
   "execution_count": 19,
   "metadata": {},
   "outputs": [
    {
     "data": {
      "text/plain": [
       "array([-5.52410917e-09,  6.14619644e-09])"
      ]
     },
     "execution_count": 19,
     "metadata": {},
     "output_type": "execute_result"
    }
   ],
   "source": [
    "F([ 2.10951192 , -1.33453219])"
   ]
  },
  {
   "cell_type": "code",
   "execution_count": 20,
   "metadata": {},
   "outputs": [
    {
     "name": "stdout",
     "output_type": "stream",
     "text": [
      "[0.  3.5]\n",
      "[0.55 2.45]\n",
      "[0.61458892 2.19863718]\n",
      "[0.62517978 2.17945143]\n",
      "[0.62520409 2.17935583]\n",
      "[0.6252041  2.17935582]\n",
      "[0.6252041  2.17935582]\n",
      "[0.6252041  2.17935582]\n",
      "[0.6252041  2.17935582]\n",
      "[0.6252041  2.17935582]\n",
      "[0.6252041  2.17935582]\n",
      "[0.6252041  2.17935582]\n",
      "[0.6252041  2.17935582]\n",
      "[0.6252041  2.17935582]\n",
      "[0.6252041  2.17935582]\n",
      "[0.6252041  2.17935582]\n",
      "[0.6252041  2.17935582]\n",
      "[0.6252041  2.17935582]\n",
      "[0.6252041  2.17935582]\n",
      "[0.6252041  2.17935582]\n"
     ]
    }
   ],
   "source": [
    "x0 = np.array([1,1])\n",
    "newton(F,DF,x0,20)"
   ]
  },
  {
   "cell_type": "code",
   "execution_count": 21,
   "metadata": {},
   "outputs": [
    {
     "data": {
      "text/plain": [
       "array([ 1.64889373e-08, -9.83212711e-09])"
      ]
     },
     "execution_count": 21,
     "metadata": {},
     "output_type": "execute_result"
    }
   ],
   "source": [
    "F([0.6252041, 2.17935582])"
   ]
  },
  {
   "cell_type": "code",
   "execution_count": null,
   "metadata": {},
   "outputs": [],
   "source": []
  }
 ],
 "metadata": {
  "kernelspec": {
   "display_name": "Python 3",
   "language": "python",
   "name": "python3"
  },
  "language_info": {
   "codemirror_mode": {
    "name": "ipython",
    "version": 3
   },
   "file_extension": ".py",
   "mimetype": "text/x-python",
   "name": "python",
   "nbconvert_exporter": "python",
   "pygments_lexer": "ipython3",
   "version": "3.7.6"
  }
 },
 "nbformat": 4,
 "nbformat_minor": 4
}
