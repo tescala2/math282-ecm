{
 "cells": [
  {
   "cell_type": "code",
   "execution_count": 1,
   "metadata": {},
   "outputs": [],
   "source": [
    "import numpy as np\n",
    "import matplotlib.pyplot as plt"
   ]
  },
  {
   "cell_type": "markdown",
   "metadata": {},
   "source": [
    "# Problem 1\n",
    "### Consider the system below: \n",
    "$$\n",
    "\\begin{align}\n",
    "x_0 + 2x_1 -2 = 0 \\\\\n",
    "x_0 + x_1 -3 =0\n",
    "\\end{align}\n",
    "$$\n",
    "### a) Is this a linear or nonlinear system?\n",
    "### b) Use linalg.solve() to solve it. Check by hand it is the correct solution by plugging it back in the system."
   ]
  },
  {
   "cell_type": "code",
   "execution_count": 1,
   "metadata": {},
   "outputs": [],
   "source": [
    "# complete"
   ]
  },
  {
   "cell_type": "markdown",
   "metadata": {},
   "source": [
    "### c) Use Newton's method to find the solution. How many iterates are needed? Explain what is happening?"
   ]
  },
  {
   "cell_type": "code",
   "execution_count": 2,
   "metadata": {},
   "outputs": [],
   "source": [
    "# complete"
   ]
  },
  {
   "cell_type": "markdown",
   "metadata": {},
   "source": [
    "# Problem 2\n",
    "\n",
    "### Consider the system below\n",
    "$$\n",
    "\\begin{align}\n",
    " \\cos(x_0) - x_1 = 0 \\\\\n",
    "0.2 x_0 - x_1 -0.1  =0\n",
    "\\end{align}\n",
    "$$\n",
    "\n",
    "### a) Do some plotting to try to visualize the solutions. How many solutions? Get very rough initial guesses for each solutions."
   ]
  },
  {
   "cell_type": "code",
   "execution_count": 3,
   "metadata": {},
   "outputs": [],
   "source": [
    "# complete"
   ]
  },
  {
   "cell_type": "markdown",
   "metadata": {},
   "source": [
    "### b) Use Newton's method to find all the solutions"
   ]
  },
  {
   "cell_type": "code",
   "execution_count": 4,
   "metadata": {},
   "outputs": [],
   "source": [
    "# complete"
   ]
  },
  {
   "cell_type": "markdown",
   "metadata": {},
   "source": [
    "### c) Try with initial guess (10,0)"
   ]
  },
  {
   "cell_type": "code",
   "execution_count": 5,
   "metadata": {},
   "outputs": [],
   "source": [
    "#complete"
   ]
  },
  {
   "cell_type": "markdown",
   "metadata": {},
   "source": [
    "# Problem 3\n",
    "\n",
    "### The system below has two solutions. Find these two solutions. Then plug them back to double check.\n",
    "$$\n",
    "\\begin{align}\n",
    "x_0^2-x_1^2+2x_1 = 0 \\\\\n",
    "2x_0 + x_1^2 - 6 =0\n",
    "\\end{align}\n",
    "$$"
   ]
  },
  {
   "cell_type": "code",
   "execution_count": 6,
   "metadata": {},
   "outputs": [],
   "source": [
    "# complete"
   ]
  }
 ],
 "metadata": {
  "kernelspec": {
   "display_name": "Python 3",
   "language": "python",
   "name": "python3"
  },
  "language_info": {
   "codemirror_mode": {
    "name": "ipython",
    "version": 3
   },
   "file_extension": ".py",
   "mimetype": "text/x-python",
   "name": "python",
   "nbconvert_exporter": "python",
   "pygments_lexer": "ipython3",
   "version": "3.7.6"
  }
 },
 "nbformat": 4,
 "nbformat_minor": 4
}
