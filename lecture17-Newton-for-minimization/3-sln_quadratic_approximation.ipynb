{
 "cells": [
  {
   "cell_type": "code",
   "execution_count": 1,
   "metadata": {},
   "outputs": [],
   "source": [
    "import numpy as np\n",
    "import matplotlib.pyplot as plt"
   ]
  },
  {
   "cell_type": "markdown",
   "metadata": {},
   "source": [
    "### Plot the function $f(x) = e^{-x^2}$ as well as its linear and quadratic approximation at \n",
    "$$x_0=0 , \\qquad x_0=0.5, \\qquad x_0=1 \\qquad \\text{and} \\qquad x_0=1.5$$\n",
    "### Do these plots on the window $-3 \\le x \\le 3$ and $-0.5 \\le y \\le 1.5$"
   ]
  },
  {
   "cell_type": "markdown",
   "metadata": {},
   "source": [
    "The derivatives are \n",
    "\\begin{align}\n",
    "& f'(x) = -2xe^{-x^2} \\\\\n",
    "& f''(x) = (4x^2-2) e^{-x^2}\n",
    "\\end{align}"
   ]
  },
  {
   "cell_type": "code",
   "execution_count": 2,
   "metadata": {},
   "outputs": [],
   "source": [
    "def f(x):\n",
    "    y = np.exp(-x**2)\n",
    "    return y"
   ]
  },
  {
   "cell_type": "code",
   "execution_count": 3,
   "metadata": {},
   "outputs": [],
   "source": [
    "def df(x):\n",
    "    y = -2*x*np.exp(-x**2)\n",
    "    return y"
   ]
  },
  {
   "cell_type": "code",
   "execution_count": 4,
   "metadata": {},
   "outputs": [],
   "source": [
    "def ddf(x):\n",
    "    y = np.exp(-x**2)* (4*x**2-2) \n",
    "    return y"
   ]
  },
  {
   "cell_type": "markdown",
   "metadata": {},
   "source": [
    "### The Linear and Quadratic approximation of $f(x)$ at $x_0$ are\n",
    "\\begin{align}\n",
    "& L(x) = f(x_0) + f'(x_0) (x-x_0)\\\\\n",
    "& Q(x) = f(x_0) + f'(x_0) (x-x_0) + \\frac{f''(x_0)}{2} (x-x_0)^2\n",
    "\\end{align}"
   ]
  },
  {
   "cell_type": "code",
   "execution_count": 5,
   "metadata": {},
   "outputs": [],
   "source": [
    "def L(x,x0):\n",
    "    \"\"\"\n",
    "    Linear approximation of f(x) at x0\n",
    "    \"\"\"\n",
    "    y = f(x0) + df(x0)*(x-x0) \n",
    "    return y"
   ]
  },
  {
   "cell_type": "code",
   "execution_count": 6,
   "metadata": {},
   "outputs": [],
   "source": [
    "def Q(x,x0):\n",
    "    \"\"\"\n",
    "    Quadratic approximation of f(x) at x0\n",
    "    \"\"\"\n",
    "    y = f(x0) + df(x0)*(x-x0) + 0.5 * ddf(x0) * (x-x0)**2\n",
    "    return y"
   ]
  },
  {
   "cell_type": "markdown",
   "metadata": {},
   "source": [
    "### Let's plot all this"
   ]
  },
  {
   "cell_type": "code",
   "execution_count": 7,
   "metadata": {},
   "outputs": [
    {
     "data": {
      "image/png": "[encoded data removed]",
      "text/plain": [
       "<Figure size 432x288 with 1 Axes>"
      ]
     },
     "metadata": {
      "needs_background": "light"
     },
     "output_type": "display_data"
    }
   ],
   "source": [
    "x0 = 1.5\n",
    "x = np.linspace(-3,3,1000)\n",
    "\n",
    "y0 = f(x)\n",
    "y1 = L(x,x0)\n",
    "y2 = Q(x,x0)\n",
    "\n",
    "plt.plot(x,y0,'black')\n",
    "plt.plot(x,y1,':')\n",
    "plt.plot(x,y2,':')\n",
    "\n",
    "plt.plot( np.array([x0]), np.array([f(x0)]) , 'o')\n",
    "\n",
    "plt.legend(['f(x)','L(x)','Q(x)'])\n",
    "plt.ylim(-0.5,1.5)\n",
    "plt.show()"
   ]
  },
  {
   "cell_type": "code",
   "execution_count": null,
   "metadata": {},
   "outputs": [],
   "source": []
  }
 ],
 "metadata": {
  "kernelspec": {
   "display_name": "Python 3",
   "language": "python",
   "name": "python3"
  },
  "language_info": {
   "codemirror_mode": {
    "name": "ipython",
    "version": 3
   },
   "file_extension": ".py",
   "mimetype": "text/x-python",
   "name": "python",
   "nbconvert_exporter": "python",
   "pygments_lexer": "ipython3",
   "version": "3.7.6"
  }
 },
 "nbformat": 4,
 "nbformat_minor": 4
}
