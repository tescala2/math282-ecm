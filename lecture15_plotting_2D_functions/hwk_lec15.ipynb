{
 "cells": [
  {
   "cell_type": "code",
   "execution_count": null,
   "metadata": {},
   "outputs": [],
   "source": [
    "import numpy as np\n",
    "import matplotlib.pyplot as plt\n",
    "from mpl_toolkits.mplot3d import Axes3D"
   ]
  },
  {
   "cell_type": "markdown",
   "metadata": {},
   "source": [
    "# PROBLEM 1\n",
    "### Consider the nonlinear function: \n",
    "$$f(x) = \\frac{1}{1+e^{-x}}$$\n"
   ]
  },
  {
   "cell_type": "markdown",
   "metadata": {},
   "source": [
    "### a) Find the linear approximation of f(x) around $x_0 = 2$. You need to put numerical values with 4 digits after the decimal, something like \n",
    "$$\n",
    "f(x) \\approx 3.5567 + 9.3333 (x - 2.6723)\n",
    "$$\n",
    "### (but obviously the above numerical values are wrong)\n",
    "### Write your answer in the markdown cell below:"
   ]
  },
  {
   "cell_type": "markdown",
   "metadata": {},
   "source": [
    "$$\n",
    "f(x) \\approx ? + ? (x-?)\n",
    "$$"
   ]
  },
  {
   "cell_type": "markdown",
   "metadata": {},
   "source": [
    "### b) Plot f(x) and its tangent line at $x_0 = 2$ on the window $-7\\le x \\le 7$."
   ]
  },
  {
   "cell_type": "code",
   "execution_count": null,
   "metadata": {},
   "outputs": [],
   "source": [
    "# complete"
   ]
  },
  {
   "cell_type": "markdown",
   "metadata": {},
   "source": [
    "# PROBLEM 2\n",
    "### Consider the nonlinear function \n",
    "$$f(x,y) = 8x^2 - 3xy + 10y^2$$\n",
    "\n",
    "###  a) What its linear approximation at $(x_0,y_0) = (-2,1)$? Complete the markdown cell below. You need to put numerical values. For example something like\n",
    "$$\n",
    "f(x,y) \\approx 34 + 13(x-7) - 26(y+8)\n",
    "\\qquad \\text{or} \\qquad\n",
    "f(x,y) \\approx  13x - 26y - 18\n",
    "$$\n",
    "### (but obviously the numbers are wrong in the two above equations)\n",
    "### Write your answer in the markdown cell below:"
   ]
  },
  {
   "cell_type": "markdown",
   "metadata": {},
   "source": [
    "$$\n",
    "f(x,y) \\approx ?\n",
    "$$"
   ]
  },
  {
   "cell_type": "markdown",
   "metadata": {},
   "source": [
    "### b) Plot f(x,y) and its tangent plane at $(x_0,y_0) = (-2,1)$ on the window $-10\\le x \\le 10$ and $-10\\le y \\le 10$."
   ]
  },
  {
   "cell_type": "code",
   "execution_count": null,
   "metadata": {},
   "outputs": [],
   "source": [
    "# complete"
   ]
  },
  {
   "cell_type": "markdown",
   "metadata": {},
   "source": [
    "# PROBLEM 3\n",
    "### Consider the nonlinear function \n",
    "$$f(x,y) = e^{-(x^2+y^2)} $$\n",
    "\n",
    "###  a) What its linear approximation at $(x_0,y_0) = (0.10,0.05)$? You need to put numerical values with 4 digits after the decimal. For example something like\n",
    "$$\n",
    "f(x,y) \\approx 23.5623 + 18.7856(x-0.1133) - 4.1445(y+2.6756)\n",
    "$$\n",
    "### (but obviously the numbers are wrong in the two above equations)\n",
    "\n",
    "### Write your answer in the markdown cell below:"
   ]
  },
  {
   "cell_type": "markdown",
   "metadata": {},
   "source": [
    "$$\n",
    "f(x,y) \\approx \n",
    "$$"
   ]
  },
  {
   "cell_type": "markdown",
   "metadata": {},
   "source": [
    "### b) Plot f(x,y) and its tangent plane at $(x_0,y_0) = (0.10,0.05)$ on the window $-2\\le x \\le 2$ and $-2\\le y \\le 2$."
   ]
  },
  {
   "cell_type": "code",
   "execution_count": null,
   "metadata": {},
   "outputs": [],
   "source": [
    "# complete"
   ]
  }
 ],
 "metadata": {
  "kernelspec": {
   "display_name": "Python 3",
   "language": "python",
   "name": "python3"
  },
  "language_info": {
   "codemirror_mode": {
    "name": "ipython",
    "version": 3
   },
   "file_extension": ".py",
   "mimetype": "text/x-python",
   "name": "python",
   "nbconvert_exporter": "python",
   "pygments_lexer": "ipython3",
   "version": "3.7.6"
  }
 },
 "nbformat": 4,
 "nbformat_minor": 4
}
