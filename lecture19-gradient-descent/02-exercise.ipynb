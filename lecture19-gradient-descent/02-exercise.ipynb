{
 "cells": [
  {
   "cell_type": "code",
   "execution_count": null,
   "metadata": {},
   "outputs": [],
   "source": [
    "import numpy as np\n",
    "import matplotlib.pyplot as plt\n",
    "from mpl_toolkits.mplot3d import Axes3D\n",
    "from scipy import linalg"
   ]
  },
  {
   "cell_type": "markdown",
   "metadata": {},
   "source": [
    "### Consider  the function\n",
    "### $$ f(x_1,x_2) = (x_1-1)^2 +  a(x_2-1)^2 + b e^{-\\left(c x_1^2+x_2^2\\right)}\n",
    "$$\n",
    "where $a = 0.3$, $b=15$ and $c = 0.5$"
   ]
  },
  {
   "cell_type": "markdown",
   "metadata": {},
   "source": [
    "### a) Plot it on the window $-3 \\le x_1 \\le 3$ and $-3 \\le x_2 \\le 3$ with wireframe and contour. Use 40 or 50  contour lines. How many local min do you see?"
   ]
  },
  {
   "cell_type": "code",
   "execution_count": null,
   "metadata": {},
   "outputs": [],
   "source": [
    "# complete"
   ]
  },
  {
   "cell_type": "markdown",
   "metadata": {},
   "source": [
    "### b) Compute  the gradient of \n",
    "### $$ f(x_1,x_2) = (x_1-1)^2 +  a(x_2-1)^2 + b e^{-(cx_1^2+x_2^2)}\n",
    "$$\n",
    "### and write a function for it."
   ]
  },
  {
   "cell_type": "code",
   "execution_count": null,
   "metadata": {},
   "outputs": [],
   "source": [
    "# complete"
   ]
  },
  {
   "cell_type": "markdown",
   "metadata": {},
   "source": [
    "### c) Do a gradient descent and plot the iterates on the coutour lines of the function.  Start with initial guess $x_1 = 0.0$ and $x_2 = 0.0$ and choose the step size to be $\\alpha = 0.05$"
   ]
  },
  {
   "cell_type": "code",
   "execution_count": null,
   "metadata": {},
   "outputs": [],
   "source": [
    "# comlete"
   ]
  },
  {
   "cell_type": "markdown",
   "metadata": {},
   "source": [
    "### d) Do a gradient descent and plot the iterates on the coutour lines of the function.  Start with initial guess $x_1 = -0.1$ and $x_2 = -0.1$ and choose the step size to be $\\alpha = 0.05$"
   ]
  },
  {
   "cell_type": "code",
   "execution_count": null,
   "metadata": {},
   "outputs": [],
   "source": [
    "# complete"
   ]
  },
  {
   "cell_type": "markdown",
   "metadata": {},
   "source": [
    "### e) Find the coordinates of these two local minimima as well as the value of the functions there. Which one is the global minima? "
   ]
  },
  {
   "cell_type": "code",
   "execution_count": null,
   "metadata": {},
   "outputs": [],
   "source": [
    "# complete"
   ]
  },
  {
   "cell_type": "markdown",
   "metadata": {},
   "source": [
    "### f) Do a gradient descent and plot the iterates on the coutour lines of the function.  Start with initial guess $x_1 = -2$ and $x_2 = 0$ and choose the step size to be $\\alpha = 0.05$"
   ]
  },
  {
   "cell_type": "code",
   "execution_count": null,
   "metadata": {},
   "outputs": [],
   "source": [
    "# complete"
   ]
  }
 ],
 "metadata": {
  "kernelspec": {
   "display_name": "Python 3",
   "language": "python",
   "name": "python3"
  },
  "language_info": {
   "codemirror_mode": {
    "name": "ipython",
    "version": 3
   },
   "file_extension": ".py",
   "mimetype": "text/x-python",
   "name": "python",
   "nbconvert_exporter": "python",
   "pygments_lexer": "ipython3",
   "version": "3.7.6"
  }
 },
 "nbformat": 4,
 "nbformat_minor": 4
}
