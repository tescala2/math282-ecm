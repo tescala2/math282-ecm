{
 "cells": [
  {
   "cell_type": "code",
   "execution_count": null,
   "metadata": {},
   "outputs": [],
   "source": [
    "import numpy as np\n",
    "import matplotlib.pyplot as plt\n",
    "from mpl_toolkits.mplot3d import Axes3D\n",
    "from scipy import linalg"
   ]
  },
  {
   "cell_type": "markdown",
   "metadata": {},
   "source": [
    "### Consider  the quadratic\n",
    "### $$ f(x_1,x_2) = (1+\\lambda)x_1^2 + 2(1-\\lambda)x_1x_2 + (1+\\lambda) x_1^2\n",
    "$$\n",
    "### Note that this function can also be written as \n",
    "$$\n",
    "f(x) = (Ax)\\cdot  x \\qquad \\text{where} \\qquad A = \\begin{bmatrix}\n",
    "1+\\lambda & 1 - \\lambda \\\\\n",
    "1- \\lambda & 1+ \\lambda\n",
    "\\end{bmatrix}\n",
    "$$\n",
    "\n",
    "### Plot this function for $\\lambda=1$, $\\lambda = 10$ and $\\lambda=100$ "
   ]
  },
  {
   "cell_type": "code",
   "execution_count": null,
   "metadata": {},
   "outputs": [],
   "source": [
    "def f_for_plot(x1,x2):\n",
    "    lbd = 10\n",
    "    z = (1+lbd)*x1**2 + 2*(1-lbd)*x1*x2 + (1+lbd)*x2**2\n",
    "    return z"
   ]
  },
  {
   "cell_type": "code",
   "execution_count": null,
   "metadata": {},
   "outputs": [],
   "source": [
    "x1 = np.linspace(-1,1,20)\n",
    "x2 = np.linspace(-1,1,20)\n",
    "X1,X2 = np.meshgrid(x1,x2)"
   ]
  },
  {
   "cell_type": "code",
   "execution_count": null,
   "metadata": {},
   "outputs": [],
   "source": [
    "Z = f_for_plot(X1,X2)\n",
    "ax = plt.axes(projection='3d')\n",
    "ax.plot_wireframe(X1, X2, Z, color = 'black')\n",
    "plt.show()"
   ]
  },
  {
   "cell_type": "code",
   "execution_count": null,
   "metadata": {},
   "outputs": [],
   "source": [
    "x1 = np.linspace(-1,1,100)\n",
    "x2 = np.linspace(-1,1,100)\n",
    "X1,X2 = np.meshgrid(x1,x2)"
   ]
  },
  {
   "cell_type": "code",
   "execution_count": null,
   "metadata": {},
   "outputs": [],
   "source": [
    "Z = f_for_plot(X1,X2)\n",
    "plt.contour(X1, X2, Z,50)\n",
    "plt.colorbar()\n",
    "plt.show()"
   ]
  },
  {
   "cell_type": "markdown",
   "metadata": {},
   "source": [
    "### The gradient of\n",
    "### $$ f(x,y) = (1+\\lambda)x_1^2 + 2(1-\\lambda)x_1x_2 + (1+\\lambda) x_2^2\n",
    "$$\n",
    "### is given by\n",
    "### $$\n",
    "\\nabla f(x,y) =  2\n",
    "\\begin{bmatrix}\n",
    "(1+\\lambda)x_1 + (1 - \\lambda)x_2 \\\\\n",
    "(1- \\lambda)x_1 + (1+ \\lambda)x_2\n",
    "\\end{bmatrix}\n",
    "$$\n",
    "### Another way to compute the gradient is as follow: Since \n",
    "### $$f(x)=(Ax) \\cdot x \\qquad \\text{with} \\qquad \\qquad A = \\begin{bmatrix}\n",
    "1+\\lambda & 1 - \\lambda \\\\\n",
    "1- \\lambda & 1+ \\lambda\n",
    "\\end{bmatrix} $$\n",
    "### we have seen in class that\n",
    "### $$\n",
    "\\nabla f(\\vec x) = 2 (A\\vec x) \n",
    "$$\n"
   ]
  },
  {
   "cell_type": "markdown",
   "metadata": {},
   "source": [
    "### Let's implement the gradient with this matrix formula. Let's work with $\\lambda=10$ from now on."
   ]
  },
  {
   "cell_type": "code",
   "execution_count": null,
   "metadata": {},
   "outputs": [],
   "source": [
    "lbd = 10.0\n",
    "A = np.array([[1.+lbd,1.-lbd],[1.-lbd,1.+lbd]])\n",
    "A"
   ]
  },
  {
   "cell_type": "code",
   "execution_count": null,
   "metadata": {},
   "outputs": [],
   "source": [
    "def gradf(x):\n",
    "    g = 2 * np.dot(A,x)\n",
    "    return g"
   ]
  },
  {
   "cell_type": "markdown",
   "metadata": {},
   "source": [
    "### Now let's write down the gradient descent algorithm:"
   ]
  },
  {
   "cell_type": "code",
   "execution_count": null,
   "metadata": {},
   "outputs": [],
   "source": [
    "def grad_desc(gradf,alpha,x0,num_iter):\n",
    "    x = x0\n",
    "    for i in range(0,num_iter):\n",
    "        x = x - alpha*gradf(x)\n",
    "        print(x)"
   ]
  },
  {
   "cell_type": "code",
   "execution_count": null,
   "metadata": {},
   "outputs": [],
   "source": [
    "def grad_desc_store(gradf,alpha,x0,num_iter):\n",
    "    \n",
    "    x = x0\n",
    "    iterates = np.zeros( (num_iter,2))\n",
    "    \n",
    "    for i in range(0,num_iter):\n",
    "        iterates[i,:] = x\n",
    "        x = x - alpha*gradf(x)\n",
    "        \n",
    "    return iterates"
   ]
  },
  {
   "cell_type": "markdown",
   "metadata": {},
   "source": [
    "### Start with initial guess $x_1 = 0.0$ and $x_2 = 0.7$ and choose the step size to be $\\alpha = 0.045$"
   ]
  },
  {
   "cell_type": "code",
   "execution_count": null,
   "metadata": {},
   "outputs": [],
   "source": [
    "x0 = np.array([0.0,0.7])\n",
    "alpha = 0.045\n",
    "num_iter=50\n",
    "iterates = grad_desc_store(gradf,alpha,x0,num_iter)"
   ]
  },
  {
   "cell_type": "markdown",
   "metadata": {},
   "source": [
    "### Plot the iterates with with the contour of the function"
   ]
  },
  {
   "cell_type": "code",
   "execution_count": null,
   "metadata": {},
   "outputs": [],
   "source": [
    "Z = f_for_plot(X1,X2)\n",
    "plt.contour(X1, X2, Z,100)\n",
    "plt.plot(iterates[:,0],iterates[:,1],'r-o', markersize=5)\n",
    "plt.colorbar()\n",
    "plt.show()"
   ]
  },
  {
   "cell_type": "markdown",
   "metadata": {},
   "source": [
    "### Play with different step sizes to see how it affect the behavior"
   ]
  },
  {
   "cell_type": "code",
   "execution_count": null,
   "metadata": {},
   "outputs": [],
   "source": [
    "x0 = np.array([0,0.7])\n",
    "alpha = 0.01\n",
    "num_iter=50\n",
    "iterates = grad_desc_store(gradf,alpha,x0,num_iter)"
   ]
  },
  {
   "cell_type": "code",
   "execution_count": null,
   "metadata": {},
   "outputs": [],
   "source": [
    "Z = f_for_plot(X1,X2)\n",
    "plt.contour(X1, X2, Z,100)\n",
    "plt.plot(iterates[:,0],iterates[:,1],'r-o', markersize=5)\n",
    "plt.colorbar()\n",
    "plt.show()"
   ]
  },
  {
   "cell_type": "markdown",
   "metadata": {},
   "source": [
    "### Start with initial guess $x_1 = 0.6$ and $x_2 = 0.7$ and choose the step size to be $\\alpha = 0.05$"
   ]
  },
  {
   "cell_type": "code",
   "execution_count": null,
   "metadata": {},
   "outputs": [],
   "source": [
    "x0 = np.array([0.6,0.7])\n",
    "alpha = 0.05\n",
    "num_iter=50\n",
    "iterates = grad_desc_store(gradf,alpha,x0,num_iter)"
   ]
  },
  {
   "cell_type": "code",
   "execution_count": null,
   "metadata": {},
   "outputs": [],
   "source": [
    "Z = f_for_plot(X1,X2)\n",
    "plt.contour(X1, X2, Z,100)\n",
    "plt.plot(iterates[:,0],iterates[:,1],'r-o', markersize=5)\n",
    "plt.colorbar()\n",
    "plt.show()"
   ]
  },
  {
   "cell_type": "code",
   "execution_count": null,
   "metadata": {},
   "outputs": [],
   "source": []
  }
 ],
 "metadata": {
  "kernelspec": {
   "display_name": "Python 3",
   "language": "python",
   "name": "python3"
  },
  "language_info": {
   "codemirror_mode": {
    "name": "ipython",
    "version": 3
   },
   "file_extension": ".py",
   "mimetype": "text/x-python",
   "name": "python",
   "nbconvert_exporter": "python",
   "pygments_lexer": "ipython3",
   "version": "3.7.6"
  }
 },
 "nbformat": 4,
 "nbformat_minor": 4
}
