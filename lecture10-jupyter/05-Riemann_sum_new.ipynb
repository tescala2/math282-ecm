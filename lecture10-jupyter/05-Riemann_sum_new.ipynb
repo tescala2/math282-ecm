{
 "cells": [
  {
   "cell_type": "markdown",
   "metadata": {},
   "source": [
    "### This is a function to integrate"
   ]
  },
  {
   "cell_type": "code",
   "execution_count": 1,
   "metadata": {},
   "outputs": [],
   "source": [
    "def Riemann_sum(f,a,b,N):\n",
    "    \"\"\"\n",
    "    Approximate the integral of f(x) on the interval [a,b]\n",
    "    using a left Riemann sum with step size dx = (b-a)/N:\n",
    "\n",
    "    INPUT: f (function): function to be integrate\n",
    "           a,b (floats): left and right boundaries of the interval [a,b]\n",
    "           N (int): number of cells in which [a,b] is divided\n",
    "\n",
    "    OUTPUT: integral (float): approximation of the integral of f(x) on [a,b]    \n",
    "\n",
    "    \"\"\"\n",
    "\n",
    "    dx = (b-a)/N\n",
    "    integral = 0\n",
    "\n",
    "    for i in range(0,N):\n",
    "        x = a+i*dx\n",
    "        integral = integral + f(x)*dx\n",
    "\n",
    "    return integral"
   ]
  },
  {
   "cell_type": "markdown",
   "metadata": {},
   "source": [
    "### This is the function\n",
    "$$\n",
    "f(x) = x^2+1\n",
    "$$"
   ]
  },
  {
   "cell_type": "code",
   "execution_count": 2,
   "metadata": {},
   "outputs": [],
   "source": [
    "def f(x):\n",
    "    y = x**2+1\n",
    "    return y"
   ]
  },
  {
   "cell_type": "code",
   "execution_count": 5,
   "metadata": {},
   "outputs": [
    {
     "data": {
      "text/plain": [
       "5"
      ]
     },
     "execution_count": 5,
     "metadata": {},
     "output_type": "execute_result"
    }
   ],
   "source": [
    "f(2)"
   ]
  },
  {
   "cell_type": "markdown",
   "metadata": {},
   "source": [
    "### Let's compute\n",
    "### $$ \\int_1^3 f(x) dx $$"
   ]
  },
  {
   "cell_type": "code",
   "execution_count": 6,
   "metadata": {},
   "outputs": [
    {
     "data": {
      "text/plain": [
       "10.586800000000002"
      ]
     },
     "execution_count": 6,
     "metadata": {},
     "output_type": "execute_result"
    }
   ],
   "source": [
    "a = 1\n",
    "b = 3\n",
    "N = 100\n",
    "integral = Riemann_sum(f,a,b,N)\n",
    "integral"
   ]
  },
  {
   "cell_type": "code",
   "execution_count": null,
   "metadata": {},
   "outputs": [],
   "source": []
  }
 ],
 "metadata": {
  "kernelspec": {
   "display_name": "Python 3",
   "language": "python",
   "name": "python3"
  },
  "language_info": {
   "codemirror_mode": {
    "name": "ipython",
    "version": 3
   },
   "file_extension": ".py",
   "mimetype": "text/x-python",
   "name": "python",
   "nbconvert_exporter": "python",
   "pygments_lexer": "ipython3",
   "version": "3.7.6"
  }
 },
 "nbformat": 4,
 "nbformat_minor": 2
}
