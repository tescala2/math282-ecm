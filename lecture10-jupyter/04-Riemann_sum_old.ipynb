{
 "cells": [
  {
   "cell_type": "code",
   "execution_count": 1,
   "metadata": {},
   "outputs": [
    {
     "name": "stdout",
     "output_type": "stream",
     "text": [
      "10.586800000000002\n"
     ]
    }
   ],
   "source": [
    "def Riemann_sum(f,a,b,N):\n",
    "    \"\"\"\n",
    "    Approximate the integral of f(x) on the interval [a,b]\n",
    "    using a left Riemann sum with step size dx = (b-a)/N:\n",
    "\n",
    "    INPUT: f (function): function to be integrate\n",
    "           a,b (floats): left and right boundaries of the interval [a,b]\n",
    "           N (int): number of cells in which [a,b] is divided\n",
    "\n",
    "    OUTPUT: integral (float): approximation of the integral of f(x) on [a,b]    \n",
    "\n",
    "    \"\"\"\n",
    "\n",
    "    dx = (b-a)/N\n",
    "    integral = 0\n",
    "\n",
    "    for i in range(0,N):\n",
    "        x = a+i*dx\n",
    "        integral = integral + f(x)*dx\n",
    "\n",
    "    return integral\n",
    "\n",
    "\n",
    "\n",
    "def f(x):\n",
    "    y = x**2+1\n",
    "    return y\n",
    "\n",
    "a = 1\n",
    "b = 3\n",
    "N = 100\n",
    "print(Riemann_sum(f,a,b,N)) \n",
    "\n"
   ]
  },
  {
   "cell_type": "code",
   "execution_count": null,
   "metadata": {},
   "outputs": [],
   "source": []
  }
 ],
 "metadata": {
  "kernelspec": {
   "display_name": "Python 3",
   "language": "python",
   "name": "python3"
  },
  "language_info": {
   "codemirror_mode": {
    "name": "ipython",
    "version": 3
   },
   "file_extension": ".py",
   "mimetype": "text/x-python",
   "name": "python",
   "nbconvert_exporter": "python",
   "pygments_lexer": "ipython3",
   "version": "3.7.6"
  }
 },
 "nbformat": 4,
 "nbformat_minor": 2
}
